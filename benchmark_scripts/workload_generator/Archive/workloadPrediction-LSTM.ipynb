{
 "cells": [
  {
   "cell_type": "code",
   "execution_count": 1,
   "id": "fa8ac6f8",
   "metadata": {},
   "outputs": [],
   "source": [
    "import numpy as np\n",
    "import csv\n",
    "import datetime\n",
    "import matplotlib.pyplot as plt\n",
    "import pandas as pd\n",
    "import os\n",
    "\n",
    "import tensorflow as tf\n",
    "from tensorflow.keras.models import Sequential\n",
    "from tensorflow.keras.layers import *\n",
    "from tensorflow.keras.callbacks import ModelCheckpoint\n",
    "from tensorflow.keras.losses import MeanSquaredError\n",
    "from tensorflow.keras.metrics import RootMeanSquaredError, MeanAbsolutePercentageError\n",
    "from tensorflow.keras.optimizers import Adam\n",
    "\n",
    "from sklearn.preprocessing import MinMaxScaler\n",
    "from sklearn.metrics import mean_squared_error, mean_absolute_percentage_error\n",
    "\n",
    "def calc_avg(lst):\n",
    "    total = 0\n",
    "    for element in lst:\n",
    "        total += element\n",
    "    if len(lst) < 1:\n",
    "        return 0\n",
    "    else:\n",
    "        return total/len(lst)\n",
    "\n",
    "def read_data(filename):\n",
    "    nprocs = []\n",
    "    runtime = []\n",
    "    total_jobs = []\n",
    "    submit_time = []\n",
    "    \n",
    "    core_count = []\n",
    "    r = []\n",
    "    \n",
    "    with open(filename) as file:\n",
    "        tsv_file = csv.reader(file, delimiter=\"\\t\")\n",
    "        field_count = 0\n",
    "        while int(field_count) < 20:\n",
    "            field_count = int(len(next(tsv_file)))\n",
    "\n",
    "        last_time = -1\n",
    "        last_hour = -1\n",
    "        job_count = 0\n",
    "        last_submitted = -1\n",
    "        i = 0\n",
    "        for line in tsv_file:\n",
    "            if (float(line.__getitem__(3)) > -0.5) and (float(line.__getitem__(4)) > -0.5):\n",
    "                submitted = int(line.__getitem__(1))\n",
    "                dt = datetime.datetime.fromtimestamp(submitted)\n",
    "                time_hour = dt.hour\n",
    "\n",
    "                if last_hour == -1:\n",
    "                    last_hour = time_hour\n",
    "                    last_time = dt\n",
    "                \n",
    "                if last_hour != time_hour:\n",
    "                    runtime.append(calc_avg(r))\n",
    "                    nprocs.append(calc_avg(core_count))\n",
    "                    total_jobs.append(job_count)\n",
    "                    submit_time.append(dt.replace(minute=0, second=0, microsecond=0))\n",
    "                    last_time = dt\n",
    "                    job_count = 0\n",
    "                    core_count.clear\n",
    "                    r.clear\n",
    "                    last_submitted = -1\n",
    "                \n",
    "                core_count.append(float(line.__getitem__(4))) # number of allocated processors\n",
    "                r.append(float(line.__getitem__(3))) # runtime of the job\n",
    "                job_count += 1\n",
    "                last_submitted = submitted\n",
    "                last_hour = time_hour\n",
    "    return submit_time, runtime, nprocs, total_jobs\n",
    "\n",
    "def read_dataframe():\n",
    "    submit_time, runtime, nprocs, total_jobs, total = read_data('anon_jobs_LCG.gwf') #SharcNet\n",
    "    df = pd.DataFrame(list(zip(submit_time, runtime, nprocs, total_jobs)), columns=['ds', 'RunTime', 'NProcs', 'TotalJobs'])\n",
    "    df.to_pickle('job_traces_lcg')\n",
    "    return df"
   ]
  },
  {
   "cell_type": "code",
   "execution_count": 21,
   "id": "98d074f0",
   "metadata": {},
   "outputs": [
    {
     "data": {
      "text/html": [
       "<div>\n",
       "<style scoped>\n",
       "    .dataframe tbody tr th:only-of-type {\n",
       "        vertical-align: middle;\n",
       "    }\n",
       "\n",
       "    .dataframe tbody tr th {\n",
       "        vertical-align: top;\n",
       "    }\n",
       "\n",
       "    .dataframe thead th {\n",
       "        text-align: right;\n",
       "    }\n",
       "</style>\n",
       "<table border=\"1\" class=\"dataframe\">\n",
       "  <thead>\n",
       "    <tr style=\"text-align: right;\">\n",
       "      <th></th>\n",
       "      <th>RunTime</th>\n",
       "      <th>NProcs</th>\n",
       "      <th>TotalJobs</th>\n",
       "    </tr>\n",
       "    <tr>\n",
       "      <th>ds</th>\n",
       "      <th></th>\n",
       "      <th></th>\n",
       "      <th></th>\n",
       "    </tr>\n",
       "  </thead>\n",
       "  <tbody>\n",
       "    <tr>\n",
       "      <th>2005-12-21 03:00:00</th>\n",
       "      <td>13.600000</td>\n",
       "      <td>5.400000</td>\n",
       "      <td>5</td>\n",
       "    </tr>\n",
       "    <tr>\n",
       "      <th>2006-01-24 17:00:00</th>\n",
       "      <td>77.000000</td>\n",
       "      <td>19.500000</td>\n",
       "      <td>9</td>\n",
       "    </tr>\n",
       "    <tr>\n",
       "      <th>2006-01-24 18:00:00</th>\n",
       "      <td>148.625000</td>\n",
       "      <td>27.062500</td>\n",
       "      <td>2</td>\n",
       "    </tr>\n",
       "    <tr>\n",
       "      <th>2006-01-24 19:00:00</th>\n",
       "      <td>119.105263</td>\n",
       "      <td>48.947368</td>\n",
       "      <td>22</td>\n",
       "    </tr>\n",
       "    <tr>\n",
       "      <th>2006-01-24 20:00:00</th>\n",
       "      <td>171.384615</td>\n",
       "      <td>73.948718</td>\n",
       "      <td>1</td>\n",
       "    </tr>\n",
       "  </tbody>\n",
       "</table>\n",
       "</div>"
      ],
      "text/plain": [
       "                        RunTime     NProcs  TotalJobs\n",
       "ds                                                   \n",
       "2005-12-21 03:00:00   13.600000   5.400000          5\n",
       "2006-01-24 17:00:00   77.000000  19.500000          9\n",
       "2006-01-24 18:00:00  148.625000  27.062500          2\n",
       "2006-01-24 19:00:00  119.105263  48.947368         22\n",
       "2006-01-24 20:00:00  171.384615  73.948718          1"
      ]
     },
     "execution_count": 21,
     "metadata": {},
     "output_type": "execute_result"
    }
   ],
   "source": [
    "tf.random.set_seed(7)\n",
    "#dataframe = read_dataframe()\n",
    "dataframe = pd.read_pickle('anon_jobs_sharc')\n",
    "dataframe.head()"
   ]
  },
  {
   "cell_type": "code",
   "execution_count": 22,
   "id": "e66dba5e",
   "metadata": {},
   "outputs": [
    {
     "name": "stdout",
     "output_type": "stream",
     "text": [
      "/device:GPU:0\n"
     ]
    }
   ],
   "source": [
    "tf.random.set_seed(7)\n",
    "print(tf.test.gpu_device_name())"
   ]
  },
  {
   "cell_type": "code",
   "execution_count": 23,
   "id": "2ec8a23f",
   "metadata": {},
   "outputs": [
    {
     "data": {
      "text/html": [
       "<div>\n",
       "<style scoped>\n",
       "    .dataframe tbody tr th:only-of-type {\n",
       "        vertical-align: middle;\n",
       "    }\n",
       "\n",
       "    .dataframe tbody tr th {\n",
       "        vertical-align: top;\n",
       "    }\n",
       "\n",
       "    .dataframe thead th {\n",
       "        text-align: right;\n",
       "    }\n",
       "</style>\n",
       "<table border=\"1\" class=\"dataframe\">\n",
       "  <thead>\n",
       "    <tr style=\"text-align: right;\">\n",
       "      <th></th>\n",
       "      <th>TotalJobs</th>\n",
       "    </tr>\n",
       "    <tr>\n",
       "      <th>ds</th>\n",
       "      <th></th>\n",
       "    </tr>\n",
       "  </thead>\n",
       "  <tbody>\n",
       "    <tr>\n",
       "      <th>2005-12-21 03:00:00</th>\n",
       "      <td>5</td>\n",
       "    </tr>\n",
       "    <tr>\n",
       "      <th>2006-01-24 17:00:00</th>\n",
       "      <td>9</td>\n",
       "    </tr>\n",
       "    <tr>\n",
       "      <th>2006-01-24 18:00:00</th>\n",
       "      <td>2</td>\n",
       "    </tr>\n",
       "    <tr>\n",
       "      <th>2006-01-24 19:00:00</th>\n",
       "      <td>22</td>\n",
       "    </tr>\n",
       "    <tr>\n",
       "      <th>2006-01-24 20:00:00</th>\n",
       "      <td>1</td>\n",
       "    </tr>\n",
       "  </tbody>\n",
       "</table>\n",
       "</div>"
      ],
      "text/plain": [
       "                     TotalJobs\n",
       "ds                            \n",
       "2005-12-21 03:00:00          5\n",
       "2006-01-24 17:00:00          9\n",
       "2006-01-24 18:00:00          2\n",
       "2006-01-24 19:00:00         22\n",
       "2006-01-24 20:00:00          1"
      ]
     },
     "execution_count": 23,
     "metadata": {},
     "output_type": "execute_result"
    }
   ],
   "source": [
    "df = dataframe[['TotalJobs']]\n",
    "df.head()"
   ]
  },
  {
   "cell_type": "code",
   "execution_count": 24,
   "id": "8ba81cba",
   "metadata": {},
   "outputs": [
    {
     "data": {
      "text/plain": [
       "((7075, 1, 1), (7075,))"
      ]
     },
     "execution_count": 24,
     "metadata": {},
     "output_type": "execute_result"
    }
   ],
   "source": [
    "windows_size = 1\n",
    "\n",
    "def df_to_X_y(df, window_size):\n",
    "    df_as_np = df.to_numpy()\n",
    "    X = []\n",
    "    y = []\n",
    "    for i in range(len(df_as_np)-window_size):\n",
    "        row = [a for a in df_as_np[i:i+window_size]]\n",
    "        X.append(row)\n",
    "        label = df_as_np[i+window_size]\n",
    "        y.append(label[0])\n",
    "    return np.array(X), np.array(y)\n",
    "\n",
    "X, Y = df_to_X_y(df,windows_size)\n",
    "X.shape, Y.shape"
   ]
  },
  {
   "cell_type": "code",
   "execution_count": 25,
   "id": "040afe05",
   "metadata": {},
   "outputs": [
    {
     "data": {
      "text/plain": [
       "(5307, 1061, 707)"
      ]
     },
     "execution_count": 25,
     "metadata": {},
     "output_type": "execute_result"
    }
   ],
   "source": [
    "train_size = int(len(df)*0.75)\n",
    "val_size = train_size + int(train_size * 0.2)\n",
    "train_X = X[:train_size]\n",
    "train_Y = Y[:train_size]\n",
    "val_X = X[train_size:val_size]\n",
    "val_Y = Y[train_size:val_size]\n",
    "test_X = X[val_size:]\n",
    "test_Y = Y[val_size:]\n",
    "len(train_X), len(val_X), len(test_X)"
   ]
  },
  {
   "cell_type": "code",
   "execution_count": 26,
   "id": "b9820583",
   "metadata": {},
   "outputs": [
    {
     "name": "stdout",
     "output_type": "stream",
     "text": [
      "Model: \"sequential_1\"\n",
      "_________________________________________________________________\n",
      " Layer (type)                Output Shape              Param #   \n",
      "=================================================================\n",
      " lstm_1 (LSTM)               (None, 128)               66560     \n",
      "                                                                 \n",
      " dense_3 (Dense)             (None, 64)                8256      \n",
      "                                                                 \n",
      " dense_4 (Dense)             (None, 32)                2080      \n",
      "                                                                 \n",
      " dense_5 (Dense)             (None, 1)                 33        \n",
      "                                                                 \n",
      "=================================================================\n",
      "Total params: 76,929\n",
      "Trainable params: 76,929\n",
      "Non-trainable params: 0\n",
      "_________________________________________________________________\n"
     ]
    }
   ],
   "source": [
    "tf.random.set_seed(7)\n",
    "model1 = Sequential()\n",
    "model1.add(InputLayer((windows_size,1)))\n",
    "model1.add(LSTM(128))\n",
    "model1.add(Dense(64, 'relu'))\n",
    "model1.add(Dense(32, 'relu'))\n",
    "model1.add(Dense(1, 'linear'))\n",
    "model1.summary()"
   ]
  },
  {
   "cell_type": "code",
   "execution_count": 27,
   "id": "9632f6f8",
   "metadata": {},
   "outputs": [],
   "source": [
    "cp1 = ModelCheckpoint('model-sharc/', save_best_only=True)\n",
    "model1.compile(loss='mean_squared_error', optimizer='adam', metrics=[MeanAbsolutePercentageError()])"
   ]
  },
  {
   "cell_type": "code",
   "execution_count": 28,
   "id": "b1bbcbd7",
   "metadata": {},
   "outputs": [
    {
     "name": "stdout",
     "output_type": "stream",
     "text": [
      "Epoch 1/100\n",
      "164/166 [============================>.] - ETA: 0s - loss: 482460.6875 - mean_absolute_percentage_error: 547.4012"
     ]
    },
    {
     "name": "stderr",
     "output_type": "stream",
     "text": [
      "WARNING:absl:Found untraced functions such as lstm_cell_2_layer_call_fn, lstm_cell_2_layer_call_and_return_conditional_losses while saving (showing 2 of 2). These functions will not be directly callable after loading.\n"
     ]
    },
    {
     "name": "stdout",
     "output_type": "stream",
     "text": [
      "INFO:tensorflow:Assets written to: model-sharc\\assets\n"
     ]
    },
    {
     "name": "stderr",
     "output_type": "stream",
     "text": [
      "INFO:tensorflow:Assets written to: model-sharc\\assets\n"
     ]
    },
    {
     "name": "stdout",
     "output_type": "stream",
     "text": [
      "166/166 [==============================] - 6s 29ms/step - loss: 477698.8125 - mean_absolute_percentage_error: 553.5938 - val_loss: 582163.6875 - val_mean_absolute_percentage_error: 775.1568\n",
      "Epoch 2/100\n",
      "162/166 [============================>.] - ETA: 0s - loss: 470566.5625 - mean_absolute_percentage_error: 1104.0079"
     ]
    },
    {
     "name": "stderr",
     "output_type": "stream",
     "text": [
      "WARNING:absl:Found untraced functions such as lstm_cell_2_layer_call_fn, lstm_cell_2_layer_call_and_return_conditional_losses while saving (showing 2 of 2). These functions will not be directly callable after loading.\n"
     ]
    },
    {
     "name": "stdout",
     "output_type": "stream",
     "text": [
      "INFO:tensorflow:Assets written to: model-sharc\\assets\n"
     ]
    },
    {
     "name": "stderr",
     "output_type": "stream",
     "text": [
      "INFO:tensorflow:Assets written to: model-sharc\\assets\n"
     ]
    },
    {
     "name": "stdout",
     "output_type": "stream",
     "text": [
      "166/166 [==============================] - 4s 26ms/step - loss: 463497.4688 - mean_absolute_percentage_error: 1107.7892 - val_loss: 565695.0625 - val_mean_absolute_percentage_error: 961.7690\n",
      "Epoch 3/100\n",
      "166/166 [==============================] - 1s 7ms/step - loss: 462775.6562 - mean_absolute_percentage_error: 1241.0521 - val_loss: 572847.1250 - val_mean_absolute_percentage_error: 860.4617\n",
      "Epoch 4/100\n",
      "166/166 [==============================] - 1s 7ms/step - loss: 460966.7500 - mean_absolute_percentage_error: 1301.5601 - val_loss: 567734.5000 - val_mean_absolute_percentage_error: 889.6387\n",
      "Epoch 5/100\n",
      "159/166 [===========================>..] - ETA: 0s - loss: 377748.3750 - mean_absolute_percentage_error: 1385.5260"
     ]
    },
    {
     "name": "stderr",
     "output_type": "stream",
     "text": [
      "WARNING:absl:Found untraced functions such as lstm_cell_2_layer_call_fn, lstm_cell_2_layer_call_and_return_conditional_losses while saving (showing 2 of 2). These functions will not be directly callable after loading.\n"
     ]
    },
    {
     "name": "stdout",
     "output_type": "stream",
     "text": [
      "INFO:tensorflow:Assets written to: model-sharc\\assets\n"
     ]
    },
    {
     "name": "stderr",
     "output_type": "stream",
     "text": [
      "INFO:tensorflow:Assets written to: model-sharc\\assets\n"
     ]
    },
    {
     "name": "stdout",
     "output_type": "stream",
     "text": [
      "166/166 [==============================] - 4s 23ms/step - loss: 459463.5000 - mean_absolute_percentage_error: 1397.0894 - val_loss: 559121.6250 - val_mean_absolute_percentage_error: 1115.4320\n",
      "Epoch 6/100\n",
      "166/166 [==============================] - 1s 5ms/step - loss: 459373.6562 - mean_absolute_percentage_error: 1455.0093 - val_loss: 562310.1250 - val_mean_absolute_percentage_error: 970.2903\n",
      "Epoch 7/100\n",
      "166/166 [==============================] - 1s 5ms/step - loss: 458972.0625 - mean_absolute_percentage_error: 1380.7058 - val_loss: 561525.7500 - val_mean_absolute_percentage_error: 1063.7563\n",
      "Epoch 8/100\n",
      "166/166 [==============================] - 1s 5ms/step - loss: 458096.0938 - mean_absolute_percentage_error: 1474.2991 - val_loss: 582987.9375 - val_mean_absolute_percentage_error: 781.2241\n",
      "Epoch 9/100\n",
      "166/166 [==============================] - 1s 5ms/step - loss: 459281.9375 - mean_absolute_percentage_error: 1460.8914 - val_loss: 569967.9375 - val_mean_absolute_percentage_error: 800.6089\n",
      "Epoch 10/100\n",
      "166/166 [==============================] - 1s 5ms/step - loss: 458967.7188 - mean_absolute_percentage_error: 1436.5261 - val_loss: 572654.7500 - val_mean_absolute_percentage_error: 817.9905\n",
      "Epoch 11/100\n",
      "166/166 [==============================] - 1s 5ms/step - loss: 458961.4062 - mean_absolute_percentage_error: 1511.6935 - val_loss: 565496.6875 - val_mean_absolute_percentage_error: 957.7177\n",
      "Epoch 12/100\n",
      "166/166 [==============================] - 1s 5ms/step - loss: 459618.0625 - mean_absolute_percentage_error: 1435.2014 - val_loss: 566449.6250 - val_mean_absolute_percentage_error: 925.7830\n",
      "Epoch 13/100\n",
      "166/166 [==============================] - 1s 5ms/step - loss: 460847.6250 - mean_absolute_percentage_error: 1498.4114 - val_loss: 577250.0000 - val_mean_absolute_percentage_error: 720.8209\n",
      "Epoch 14/100\n",
      "166/166 [==============================] - 1s 5ms/step - loss: 459827.1250 - mean_absolute_percentage_error: 1422.5648 - val_loss: 568136.8125 - val_mean_absolute_percentage_error: 893.1868\n",
      "Epoch 15/100\n",
      "166/166 [==============================] - 1s 5ms/step - loss: 458500.5000 - mean_absolute_percentage_error: 1406.9408 - val_loss: 581904.1250 - val_mean_absolute_percentage_error: 821.1082\n",
      "Epoch 16/100\n",
      "166/166 [==============================] - 1s 5ms/step - loss: 462292.7188 - mean_absolute_percentage_error: 1483.7303 - val_loss: 576451.6875 - val_mean_absolute_percentage_error: 801.4456\n",
      "Epoch 17/100\n",
      "166/166 [==============================] - 1s 5ms/step - loss: 461050.1562 - mean_absolute_percentage_error: 1394.7601 - val_loss: 571848.1875 - val_mean_absolute_percentage_error: 859.3712\n",
      "Epoch 18/100\n",
      "166/166 [==============================] - 1s 5ms/step - loss: 460208.7812 - mean_absolute_percentage_error: 1429.7085 - val_loss: 572325.1875 - val_mean_absolute_percentage_error: 793.1373\n",
      "Epoch 19/100\n",
      "166/166 [==============================] - 1s 5ms/step - loss: 459495.1562 - mean_absolute_percentage_error: 1496.4235 - val_loss: 579919.3125 - val_mean_absolute_percentage_error: 704.8422\n",
      "Epoch 20/100\n",
      "166/166 [==============================] - 1s 5ms/step - loss: 460673.1250 - mean_absolute_percentage_error: 1359.1187 - val_loss: 578874.9375 - val_mean_absolute_percentage_error: 911.6265\n",
      "Epoch 21/100\n",
      "166/166 [==============================] - 1s 5ms/step - loss: 460090.4688 - mean_absolute_percentage_error: 1545.1199 - val_loss: 578873.8125 - val_mean_absolute_percentage_error: 664.1583\n",
      "Epoch 22/100\n",
      "166/166 [==============================] - 1s 5ms/step - loss: 458917.0625 - mean_absolute_percentage_error: 1353.7041 - val_loss: 560454.3125 - val_mean_absolute_percentage_error: 1057.1648\n",
      "Epoch 23/100\n",
      "166/166 [==============================] - 1s 6ms/step - loss: 460260.4062 - mean_absolute_percentage_error: 1530.5830 - val_loss: 565139.5000 - val_mean_absolute_percentage_error: 1003.2208\n",
      "Epoch 24/100\n",
      "166/166 [==============================] - 1s 5ms/step - loss: 459690.9062 - mean_absolute_percentage_error: 1419.2880 - val_loss: 577612.9375 - val_mean_absolute_percentage_error: 764.8732\n",
      "Epoch 25/100\n",
      "166/166 [==============================] - 1s 5ms/step - loss: 458599.5312 - mean_absolute_percentage_error: 1483.6183 - val_loss: 589986.8125 - val_mean_absolute_percentage_error: 671.2614\n",
      "Epoch 26/100\n",
      "166/166 [==============================] - 1s 5ms/step - loss: 461754.7188 - mean_absolute_percentage_error: 1372.9523 - val_loss: 578972.3750 - val_mean_absolute_percentage_error: 806.3718\n",
      "Epoch 27/100\n",
      "166/166 [==============================] - 1s 5ms/step - loss: 459851.5000 - mean_absolute_percentage_error: 1370.5898 - val_loss: 567262.1250 - val_mean_absolute_percentage_error: 1034.7773\n",
      "Epoch 28/100\n",
      "166/166 [==============================] - 1s 5ms/step - loss: 460577.8125 - mean_absolute_percentage_error: 1466.4176 - val_loss: 571203.5000 - val_mean_absolute_percentage_error: 940.2015\n",
      "Epoch 29/100\n",
      "166/166 [==============================] - 1s 5ms/step - loss: 459484.9375 - mean_absolute_percentage_error: 1467.3888 - val_loss: 568567.6250 - val_mean_absolute_percentage_error: 879.4135\n",
      "Epoch 30/100\n",
      "166/166 [==============================] - 1s 5ms/step - loss: 458571.0938 - mean_absolute_percentage_error: 1299.0377 - val_loss: 566535.2500 - val_mean_absolute_percentage_error: 959.8669\n",
      "Epoch 31/100\n",
      "166/166 [==============================] - 1s 5ms/step - loss: 458912.0938 - mean_absolute_percentage_error: 1563.2543 - val_loss: 568378.4375 - val_mean_absolute_percentage_error: 757.1021\n",
      "Epoch 32/100\n",
      "166/166 [==============================] - 1s 5ms/step - loss: 458595.2812 - mean_absolute_percentage_error: 1242.3826 - val_loss: 561513.1250 - val_mean_absolute_percentage_error: 1050.4503\n",
      "Epoch 33/100\n",
      "166/166 [==============================] - 1s 5ms/step - loss: 458557.6875 - mean_absolute_percentage_error: 1587.5712 - val_loss: 566382.8750 - val_mean_absolute_percentage_error: 791.0151\n",
      "Epoch 34/100\n",
      "166/166 [==============================] - 1s 5ms/step - loss: 459088.8125 - mean_absolute_percentage_error: 1385.7537 - val_loss: 562949.9375 - val_mean_absolute_percentage_error: 900.4183\n",
      "Epoch 35/100\n",
      "166/166 [==============================] - 1s 5ms/step - loss: 457723.6250 - mean_absolute_percentage_error: 1293.7122 - val_loss: 561962.9375 - val_mean_absolute_percentage_error: 976.7176\n",
      "Epoch 36/100\n",
      "166/166 [==============================] - 1s 5ms/step - loss: 459196.5000 - mean_absolute_percentage_error: 1489.6622 - val_loss: 564906.0000 - val_mean_absolute_percentage_error: 907.3437\n",
      "Epoch 37/100\n",
      "166/166 [==============================] - 1s 5ms/step - loss: 459331.7812 - mean_absolute_percentage_error: 1365.6542 - val_loss: 566877.4375 - val_mean_absolute_percentage_error: 865.2547\n",
      "Epoch 38/100\n",
      "166/166 [==============================] - 1s 5ms/step - loss: 457730.8438 - mean_absolute_percentage_error: 1435.4784 - val_loss: 575218.1250 - val_mean_absolute_percentage_error: 808.1852\n",
      "Epoch 39/100\n",
      "166/166 [==============================] - 1s 6ms/step - loss: 459036.5000 - mean_absolute_percentage_error: 1355.1956 - val_loss: 559647.8125 - val_mean_absolute_percentage_error: 1210.7334\n",
      "Epoch 40/100\n",
      "166/166 [==============================] - 1s 5ms/step - loss: 461903.6562 - mean_absolute_percentage_error: 1510.3475 - val_loss: 571188.2500 - val_mean_absolute_percentage_error: 844.2222\n",
      "Epoch 41/100\n",
      "166/166 [==============================] - 1s 5ms/step - loss: 459919.3125 - mean_absolute_percentage_error: 1409.6427 - val_loss: 569315.8750 - val_mean_absolute_percentage_error: 832.1517\n",
      "Epoch 42/100\n",
      "166/166 [==============================] - 1s 6ms/step - loss: 458851.9062 - mean_absolute_percentage_error: 1422.0844 - val_loss: 574138.6875 - val_mean_absolute_percentage_error: 857.7703\n",
      "Epoch 43/100\n",
      "166/166 [==============================] - 1s 5ms/step - loss: 459769.4062 - mean_absolute_percentage_error: 1467.4402 - val_loss: 572054.1250 - val_mean_absolute_percentage_error: 760.2875\n",
      "Epoch 44/100\n",
      "166/166 [==============================] - 1s 6ms/step - loss: 457838.5000 - mean_absolute_percentage_error: 1439.1582 - val_loss: 560065.8125 - val_mean_absolute_percentage_error: 960.0788\n",
      "Epoch 45/100\n",
      "166/166 [==============================] - 1s 6ms/step - loss: 459246.5000 - mean_absolute_percentage_error: 1494.7369 - val_loss: 566240.1250 - val_mean_absolute_percentage_error: 853.4915\n",
      "Epoch 46/100\n",
      "166/166 [==============================] - 1s 6ms/step - loss: 465317.4062 - mean_absolute_percentage_error: 1234.6930 - val_loss: 597107.0000 - val_mean_absolute_percentage_error: 768.4970\n",
      "Epoch 47/100\n",
      "166/166 [==============================] - 1s 6ms/step - loss: 463459.7500 - mean_absolute_percentage_error: 1457.6860 - val_loss: 578146.1250 - val_mean_absolute_percentage_error: 776.8008\n",
      "Epoch 48/100\n",
      "166/166 [==============================] - 1s 6ms/step - loss: 461133.6250 - mean_absolute_percentage_error: 1384.6547 - val_loss: 571089.2500 - val_mean_absolute_percentage_error: 895.9473\n",
      "Epoch 49/100\n",
      "166/166 [==============================] - 1s 6ms/step - loss: 459584.0000 - mean_absolute_percentage_error: 1460.0632 - val_loss: 566661.8125 - val_mean_absolute_percentage_error: 855.0016\n",
      "Epoch 50/100\n",
      "166/166 [==============================] - 1s 6ms/step - loss: 459413.1562 - mean_absolute_percentage_error: 1307.1738 - val_loss: 563642.1875 - val_mean_absolute_percentage_error: 951.4689\n",
      "Epoch 51/100\n",
      "166/166 [==============================] - 1s 7ms/step - loss: 458734.0000 - mean_absolute_percentage_error: 1509.4635 - val_loss: 577511.3750 - val_mean_absolute_percentage_error: 770.0887\n",
      "Epoch 52/100\n",
      "166/166 [==============================] - 1s 6ms/step - loss: 459597.0938 - mean_absolute_percentage_error: 1461.7008 - val_loss: 569719.5000 - val_mean_absolute_percentage_error: 793.7822\n",
      "Epoch 53/100\n",
      "166/166 [==============================] - 1s 6ms/step - loss: 458739.7812 - mean_absolute_percentage_error: 1403.7594 - val_loss: 566903.7500 - val_mean_absolute_percentage_error: 853.9058\n",
      "Epoch 54/100\n",
      "166/166 [==============================] - 1s 6ms/step - loss: 459043.2188 - mean_absolute_percentage_error: 1395.1691 - val_loss: 566501.6250 - val_mean_absolute_percentage_error: 874.8300\n",
      "Epoch 55/100\n",
      "166/166 [==============================] - 1s 6ms/step - loss: 459313.9688 - mean_absolute_percentage_error: 1471.7510 - val_loss: 581059.5000 - val_mean_absolute_percentage_error: 792.5150\n",
      "Epoch 56/100\n",
      "166/166 [==============================] - 1s 6ms/step - loss: 459558.8438 - mean_absolute_percentage_error: 1401.7334 - val_loss: 567133.4375 - val_mean_absolute_percentage_error: 895.3146\n",
      "Epoch 57/100\n",
      "166/166 [==============================] - 1s 6ms/step - loss: 458383.7500 - mean_absolute_percentage_error: 1483.8966 - val_loss: 568561.3125 - val_mean_absolute_percentage_error: 822.9099\n",
      "Epoch 58/100\n",
      "166/166 [==============================] - 1s 6ms/step - loss: 458764.4062 - mean_absolute_percentage_error: 1369.9821 - val_loss: 565432.6875 - val_mean_absolute_percentage_error: 837.8460\n",
      "Epoch 59/100\n",
      "166/166 [==============================] - 1s 6ms/step - loss: 459640.0625 - mean_absolute_percentage_error: 1416.3685 - val_loss: 560638.8125 - val_mean_absolute_percentage_error: 1074.6833\n",
      "Epoch 60/100\n",
      "166/166 [==============================] - 1s 6ms/step - loss: 458237.3125 - mean_absolute_percentage_error: 1481.0525 - val_loss: 559245.8750 - val_mean_absolute_percentage_error: 1061.7000\n",
      "Epoch 61/100\n",
      "166/166 [==============================] - 1s 5ms/step - loss: 458208.5000 - mean_absolute_percentage_error: 1444.6003 - val_loss: 563733.9375 - val_mean_absolute_percentage_error: 903.2297\n",
      "Epoch 62/100\n",
      "163/166 [============================>.] - ETA: 0s - loss: 462933.1562 - mean_absolute_percentage_error: 1361.6373"
     ]
    },
    {
     "name": "stderr",
     "output_type": "stream",
     "text": [
      "WARNING:absl:Found untraced functions such as lstm_cell_2_layer_call_fn, lstm_cell_2_layer_call_and_return_conditional_losses while saving (showing 2 of 2). These functions will not be directly callable after loading.\n"
     ]
    },
    {
     "name": "stdout",
     "output_type": "stream",
     "text": [
      "INFO:tensorflow:Assets written to: model-sharc\\assets\n"
     ]
    },
    {
     "name": "stderr",
     "output_type": "stream",
     "text": [
      "INFO:tensorflow:Assets written to: model-sharc\\assets\n"
     ]
    },
    {
     "name": "stdout",
     "output_type": "stream",
     "text": [
      "166/166 [==============================] - 4s 24ms/step - loss: 457862.2500 - mean_absolute_percentage_error: 1369.5637 - val_loss: 559080.5000 - val_mean_absolute_percentage_error: 961.1467\n",
      "Epoch 63/100\n",
      "166/166 [==============================] - 1s 6ms/step - loss: 458601.2188 - mean_absolute_percentage_error: 1486.0991 - val_loss: 563501.2500 - val_mean_absolute_percentage_error: 954.1638\n",
      "Epoch 64/100\n",
      "166/166 [==============================] - 1s 6ms/step - loss: 458025.7812 - mean_absolute_percentage_error: 1429.8744 - val_loss: 565041.6875 - val_mean_absolute_percentage_error: 897.3122\n",
      "Epoch 65/100\n",
      "166/166 [==============================] - 1s 6ms/step - loss: 457774.9688 - mean_absolute_percentage_error: 1456.9272 - val_loss: 562834.0625 - val_mean_absolute_percentage_error: 876.6117\n",
      "Epoch 66/100\n",
      "166/166 [==============================] - 1s 6ms/step - loss: 458161.0312 - mean_absolute_percentage_error: 1404.7534 - val_loss: 565631.5625 - val_mean_absolute_percentage_error: 931.6326\n",
      "Epoch 67/100\n",
      "158/166 [===========================>..] - ETA: 0s - loss: 474978.2812 - mean_absolute_percentage_error: 1417.5208"
     ]
    },
    {
     "name": "stderr",
     "output_type": "stream",
     "text": [
      "WARNING:absl:Found untraced functions such as lstm_cell_2_layer_call_fn, lstm_cell_2_layer_call_and_return_conditional_losses while saving (showing 2 of 2). These functions will not be directly callable after loading.\n"
     ]
    },
    {
     "name": "stdout",
     "output_type": "stream",
     "text": [
      "INFO:tensorflow:Assets written to: model-sharc\\assets\n"
     ]
    },
    {
     "name": "stderr",
     "output_type": "stream",
     "text": [
      "INFO:tensorflow:Assets written to: model-sharc\\assets\n"
     ]
    },
    {
     "name": "stdout",
     "output_type": "stream",
     "text": [
      "166/166 [==============================] - 4s 24ms/step - loss: 457635.5312 - mean_absolute_percentage_error: 1441.3228 - val_loss: 558219.2500 - val_mean_absolute_percentage_error: 1161.4226\n",
      "Epoch 68/100\n",
      "166/166 [==============================] - 1s 6ms/step - loss: 458236.1562 - mean_absolute_percentage_error: 1339.9316 - val_loss: 560954.1250 - val_mean_absolute_percentage_error: 992.1778\n",
      "Epoch 69/100\n",
      "166/166 [==============================] - 1s 6ms/step - loss: 458788.9375 - mean_absolute_percentage_error: 1491.0669 - val_loss: 574757.6250 - val_mean_absolute_percentage_error: 856.7512\n",
      "Epoch 70/100\n",
      "166/166 [==============================] - 1s 6ms/step - loss: 458571.9375 - mean_absolute_percentage_error: 1269.5159 - val_loss: 563088.3125 - val_mean_absolute_percentage_error: 1013.1823\n",
      "Epoch 71/100\n",
      "166/166 [==============================] - 1s 6ms/step - loss: 458180.3750 - mean_absolute_percentage_error: 1580.1555 - val_loss: 563513.8750 - val_mean_absolute_percentage_error: 896.6738\n",
      "Epoch 72/100\n",
      "166/166 [==============================] - 1s 5ms/step - loss: 458220.4688 - mean_absolute_percentage_error: 1448.6658 - val_loss: 561611.1250 - val_mean_absolute_percentage_error: 990.0006\n",
      "Epoch 73/100\n",
      "166/166 [==============================] - 1s 5ms/step - loss: 458657.6562 - mean_absolute_percentage_error: 1433.1521 - val_loss: 559568.5625 - val_mean_absolute_percentage_error: 896.7528\n",
      "Epoch 74/100\n",
      "166/166 [==============================] - 1s 5ms/step - loss: 457964.3125 - mean_absolute_percentage_error: 1459.3367 - val_loss: 563059.3125 - val_mean_absolute_percentage_error: 894.4558\n",
      "Epoch 75/100\n",
      "166/166 [==============================] - 1s 5ms/step - loss: 459835.0000 - mean_absolute_percentage_error: 1431.4937 - val_loss: 559271.1250 - val_mean_absolute_percentage_error: 1026.0140\n",
      "Epoch 76/100\n",
      "162/166 [============================>.] - ETA: 0s - loss: 461880.2500 - mean_absolute_percentage_error: 1506.5365"
     ]
    },
    {
     "name": "stderr",
     "output_type": "stream",
     "text": [
      "WARNING:absl:Found untraced functions such as lstm_cell_2_layer_call_fn, lstm_cell_2_layer_call_and_return_conditional_losses while saving (showing 2 of 2). These functions will not be directly callable after loading.\n"
     ]
    },
    {
     "name": "stdout",
     "output_type": "stream",
     "text": [
      "INFO:tensorflow:Assets written to: model-sharc\\assets\n"
     ]
    },
    {
     "name": "stderr",
     "output_type": "stream",
     "text": [
      "INFO:tensorflow:Assets written to: model-sharc\\assets\n"
     ]
    },
    {
     "name": "stdout",
     "output_type": "stream",
     "text": [
      "166/166 [==============================] - 4s 23ms/step - loss: 457105.8125 - mean_absolute_percentage_error: 1502.3871 - val_loss: 556097.1875 - val_mean_absolute_percentage_error: 1069.4679\n",
      "Epoch 77/100\n",
      "166/166 [==============================] - 1s 6ms/step - loss: 458212.0312 - mean_absolute_percentage_error: 1392.6682 - val_loss: 567544.1875 - val_mean_absolute_percentage_error: 880.1776\n",
      "Epoch 78/100\n",
      "166/166 [==============================] - 1s 6ms/step - loss: 461146.9375 - mean_absolute_percentage_error: 1496.9105 - val_loss: 573315.6250 - val_mean_absolute_percentage_error: 950.2086\n",
      "Epoch 79/100\n",
      "166/166 [==============================] - 1s 6ms/step - loss: 461259.1250 - mean_absolute_percentage_error: 1352.4340 - val_loss: 566811.0000 - val_mean_absolute_percentage_error: 1000.1773\n",
      "Epoch 80/100\n",
      "166/166 [==============================] - 1s 6ms/step - loss: 459939.2812 - mean_absolute_percentage_error: 1505.2802 - val_loss: 564320.4375 - val_mean_absolute_percentage_error: 985.4700\n",
      "Epoch 81/100\n",
      "166/166 [==============================] - 1s 6ms/step - loss: 459182.4688 - mean_absolute_percentage_error: 1504.4742 - val_loss: 565593.3125 - val_mean_absolute_percentage_error: 832.2902\n",
      "Epoch 82/100\n",
      "166/166 [==============================] - 1s 6ms/step - loss: 458635.2188 - mean_absolute_percentage_error: 1369.3878 - val_loss: 566350.0000 - val_mean_absolute_percentage_error: 921.9756\n",
      "Epoch 83/100\n",
      "166/166 [==============================] - 1s 6ms/step - loss: 459189.4688 - mean_absolute_percentage_error: 1370.6063 - val_loss: 579783.0625 - val_mean_absolute_percentage_error: 859.3931\n",
      "Epoch 84/100\n",
      "166/166 [==============================] - 1s 6ms/step - loss: 458533.6250 - mean_absolute_percentage_error: 1577.7054 - val_loss: 563134.2500 - val_mean_absolute_percentage_error: 857.8163\n",
      "Epoch 85/100\n",
      "166/166 [==============================] - 1s 6ms/step - loss: 459224.2500 - mean_absolute_percentage_error: 1324.3068 - val_loss: 574897.3750 - val_mean_absolute_percentage_error: 826.4376\n",
      "Epoch 86/100\n",
      "166/166 [==============================] - 1s 5ms/step - loss: 458915.0000 - mean_absolute_percentage_error: 1437.7465 - val_loss: 569261.1250 - val_mean_absolute_percentage_error: 835.5397\n",
      "Epoch 87/100\n",
      "166/166 [==============================] - 1s 5ms/step - loss: 458055.7188 - mean_absolute_percentage_error: 1492.4081 - val_loss: 569802.0625 - val_mean_absolute_percentage_error: 811.6985\n",
      "Epoch 88/100\n",
      "166/166 [==============================] - 1s 6ms/step - loss: 458679.4062 - mean_absolute_percentage_error: 1473.3193 - val_loss: 578755.9375 - val_mean_absolute_percentage_error: 751.7499\n",
      "Epoch 89/100\n",
      "166/166 [==============================] - 1s 6ms/step - loss: 458774.0312 - mean_absolute_percentage_error: 1366.9673 - val_loss: 566727.5625 - val_mean_absolute_percentage_error: 867.6072\n",
      "Epoch 90/100\n",
      "166/166 [==============================] - 1s 6ms/step - loss: 459039.9375 - mean_absolute_percentage_error: 1550.0925 - val_loss: 567210.5000 - val_mean_absolute_percentage_error: 870.6740\n",
      "Epoch 91/100\n",
      "166/166 [==============================] - 1s 6ms/step - loss: 457236.6562 - mean_absolute_percentage_error: 1356.1327 - val_loss: 574141.8125 - val_mean_absolute_percentage_error: 862.1498\n",
      "Epoch 92/100\n",
      "166/166 [==============================] - 1s 6ms/step - loss: 458741.5312 - mean_absolute_percentage_error: 1540.4594 - val_loss: 563656.8125 - val_mean_absolute_percentage_error: 959.4470\n",
      "Epoch 93/100\n",
      "166/166 [==============================] - 1s 6ms/step - loss: 458960.2500 - mean_absolute_percentage_error: 1490.2471 - val_loss: 565177.5625 - val_mean_absolute_percentage_error: 936.0021\n",
      "Epoch 94/100\n",
      "166/166 [==============================] - 1s 6ms/step - loss: 458565.1875 - mean_absolute_percentage_error: 1402.4521 - val_loss: 564317.6875 - val_mean_absolute_percentage_error: 919.9680\n",
      "Epoch 95/100\n",
      "166/166 [==============================] - 1s 6ms/step - loss: 458510.5312 - mean_absolute_percentage_error: 1549.0902 - val_loss: 575262.6250 - val_mean_absolute_percentage_error: 802.5778\n",
      "Epoch 96/100\n",
      "166/166 [==============================] - 1s 6ms/step - loss: 459148.8125 - mean_absolute_percentage_error: 1416.0448 - val_loss: 563018.6250 - val_mean_absolute_percentage_error: 940.3066\n",
      "Epoch 97/100\n",
      "166/166 [==============================] - 1s 6ms/step - loss: 458613.0312 - mean_absolute_percentage_error: 1534.4026 - val_loss: 567658.1875 - val_mean_absolute_percentage_error: 963.7776\n",
      "Epoch 98/100\n",
      "166/166 [==============================] - 1s 6ms/step - loss: 458704.8125 - mean_absolute_percentage_error: 1445.4404 - val_loss: 559369.1250 - val_mean_absolute_percentage_error: 1034.5747\n",
      "Epoch 99/100\n",
      "166/166 [==============================] - 1s 6ms/step - loss: 459339.9375 - mean_absolute_percentage_error: 1471.5571 - val_loss: 561934.7500 - val_mean_absolute_percentage_error: 976.9141\n",
      "Epoch 100/100\n",
      "166/166 [==============================] - 1s 7ms/step - loss: 457984.5312 - mean_absolute_percentage_error: 1505.6536 - val_loss: 563803.5625 - val_mean_absolute_percentage_error: 897.8992\n"
     ]
    },
    {
     "data": {
      "text/plain": [
       "<keras.callbacks.History at 0x2e452f5bf08>"
      ]
     },
     "execution_count": 28,
     "metadata": {},
     "output_type": "execute_result"
    }
   ],
   "source": [
    "model1.fit(train_X, train_Y, validation_data=(val_X, val_Y), epochs=100, callbacks=[cp1])"
   ]
  },
  {
   "cell_type": "code",
   "execution_count": 29,
   "id": "25fcaecc",
   "metadata": {},
   "outputs": [],
   "source": [
    "from tensorflow.keras.models import load_model\n",
    "model1 = load_model('model-sharc/')"
   ]
  },
  {
   "cell_type": "code",
   "execution_count": 30,
   "id": "7502bc9e",
   "metadata": {},
   "outputs": [
    {
     "name": "stdout",
     "output_type": "stream",
     "text": [
      "23/23 [==============================] - 0s 4ms/step\n"
     ]
    },
    {
     "data": {
      "text/html": [
       "<div>\n",
       "<style scoped>\n",
       "    .dataframe tbody tr th:only-of-type {\n",
       "        vertical-align: middle;\n",
       "    }\n",
       "\n",
       "    .dataframe tbody tr th {\n",
       "        vertical-align: top;\n",
       "    }\n",
       "\n",
       "    .dataframe thead th {\n",
       "        text-align: right;\n",
       "    }\n",
       "</style>\n",
       "<table border=\"1\" class=\"dataframe\">\n",
       "  <thead>\n",
       "    <tr style=\"text-align: right;\">\n",
       "      <th></th>\n",
       "      <th>Train Predictions</th>\n",
       "      <th>Actuals</th>\n",
       "    </tr>\n",
       "  </thead>\n",
       "  <tbody>\n",
       "    <tr>\n",
       "      <th>683</th>\n",
       "      <td>106.896721</td>\n",
       "      <td>18</td>\n",
       "    </tr>\n",
       "    <tr>\n",
       "      <th>684</th>\n",
       "      <td>88.131409</td>\n",
       "      <td>2</td>\n",
       "    </tr>\n",
       "    <tr>\n",
       "      <th>685</th>\n",
       "      <td>88.599319</td>\n",
       "      <td>2</td>\n",
       "    </tr>\n",
       "    <tr>\n",
       "      <th>686</th>\n",
       "      <td>88.599319</td>\n",
       "      <td>5</td>\n",
       "    </tr>\n",
       "    <tr>\n",
       "      <th>687</th>\n",
       "      <td>111.358398</td>\n",
       "      <td>15</td>\n",
       "    </tr>\n",
       "    <tr>\n",
       "      <th>688</th>\n",
       "      <td>77.556480</td>\n",
       "      <td>36</td>\n",
       "    </tr>\n",
       "    <tr>\n",
       "      <th>689</th>\n",
       "      <td>150.654007</td>\n",
       "      <td>17</td>\n",
       "    </tr>\n",
       "    <tr>\n",
       "      <th>690</th>\n",
       "      <td>83.301582</td>\n",
       "      <td>38</td>\n",
       "    </tr>\n",
       "    <tr>\n",
       "      <th>691</th>\n",
       "      <td>152.985931</td>\n",
       "      <td>17</td>\n",
       "    </tr>\n",
       "    <tr>\n",
       "      <th>692</th>\n",
       "      <td>83.301582</td>\n",
       "      <td>34</td>\n",
       "    </tr>\n",
       "    <tr>\n",
       "      <th>693</th>\n",
       "      <td>147.681366</td>\n",
       "      <td>685</td>\n",
       "    </tr>\n",
       "    <tr>\n",
       "      <th>694</th>\n",
       "      <td>532.127747</td>\n",
       "      <td>35</td>\n",
       "    </tr>\n",
       "    <tr>\n",
       "      <th>695</th>\n",
       "      <td>149.261673</td>\n",
       "      <td>33</td>\n",
       "    </tr>\n",
       "    <tr>\n",
       "      <th>696</th>\n",
       "      <td>146.379150</td>\n",
       "      <td>39</td>\n",
       "    </tr>\n",
       "    <tr>\n",
       "      <th>697</th>\n",
       "      <td>153.972717</td>\n",
       "      <td>200</td>\n",
       "    </tr>\n",
       "    <tr>\n",
       "      <th>698</th>\n",
       "      <td>328.768585</td>\n",
       "      <td>51</td>\n",
       "    </tr>\n",
       "    <tr>\n",
       "      <th>699</th>\n",
       "      <td>162.027634</td>\n",
       "      <td>83</td>\n",
       "    </tr>\n",
       "    <tr>\n",
       "      <th>700</th>\n",
       "      <td>186.622894</td>\n",
       "      <td>319</td>\n",
       "    </tr>\n",
       "    <tr>\n",
       "      <th>701</th>\n",
       "      <td>432.901764</td>\n",
       "      <td>36</td>\n",
       "    </tr>\n",
       "    <tr>\n",
       "      <th>702</th>\n",
       "      <td>150.654007</td>\n",
       "      <td>254</td>\n",
       "    </tr>\n",
       "    <tr>\n",
       "      <th>703</th>\n",
       "      <td>381.543610</td>\n",
       "      <td>58</td>\n",
       "    </tr>\n",
       "    <tr>\n",
       "      <th>704</th>\n",
       "      <td>166.399582</td>\n",
       "      <td>57</td>\n",
       "    </tr>\n",
       "    <tr>\n",
       "      <th>705</th>\n",
       "      <td>165.740021</td>\n",
       "      <td>59</td>\n",
       "    </tr>\n",
       "    <tr>\n",
       "      <th>706</th>\n",
       "      <td>167.072433</td>\n",
       "      <td>13</td>\n",
       "    </tr>\n",
       "  </tbody>\n",
       "</table>\n",
       "</div>"
      ],
      "text/plain": [
       "     Train Predictions  Actuals\n",
       "683         106.896721       18\n",
       "684          88.131409        2\n",
       "685          88.599319        2\n",
       "686          88.599319        5\n",
       "687         111.358398       15\n",
       "688          77.556480       36\n",
       "689         150.654007       17\n",
       "690          83.301582       38\n",
       "691         152.985931       17\n",
       "692          83.301582       34\n",
       "693         147.681366      685\n",
       "694         532.127747       35\n",
       "695         149.261673       33\n",
       "696         146.379150       39\n",
       "697         153.972717      200\n",
       "698         328.768585       51\n",
       "699         162.027634       83\n",
       "700         186.622894      319\n",
       "701         432.901764       36\n",
       "702         150.654007      254\n",
       "703         381.543610       58\n",
       "704         166.399582       57\n",
       "705         165.740021       59\n",
       "706         167.072433       13"
      ]
     },
     "execution_count": 30,
     "metadata": {},
     "output_type": "execute_result"
    }
   ],
   "source": [
    "steps = 24\n",
    "\n",
    "train_predictions = model1.predict(test_X).flatten()\n",
    "train_results = pd.DataFrame(data={'Train Predictions':train_predictions, 'Actuals':test_Y})\n",
    "train_results[-steps:]"
   ]
  },
  {
   "cell_type": "code",
   "execution_count": 31,
   "id": "92d26005",
   "metadata": {},
   "outputs": [
    {
     "data": {
      "text/plain": [
       "<matplotlib.legend.Legend at 0x2e428a56c88>"
      ]
     },
     "execution_count": 31,
     "metadata": {},
     "output_type": "execute_result"
    },
    {
     "data": {
      "image/png": "[encoded data removed]",
      "text/plain": [
       "<Figure size 432x288 with 1 Axes>"
      ]
     },
     "metadata": {
      "needs_background": "light"
     },
     "output_type": "display_data"
    }
   ],
   "source": [
    "\n",
    "plt.plot(train_results['Actuals'][-steps:], label=\"Actual\")\n",
    "plt.plot(train_results['Train Predictions'][-steps:], label=\"Prediction\")\n",
    "plt.legend()"
   ]
  },
  {
   "cell_type": "code",
   "execution_count": 32,
   "id": "73565538",
   "metadata": {},
   "outputs": [
    {
     "data": {
      "text/plain": [
       "('mape', 8.125171471227278)"
      ]
     },
     "execution_count": 32,
     "metadata": {},
     "output_type": "execute_result"
    }
   ],
   "source": [
    "\"mape\", mean_absolute_percentage_error(train_results['Actuals'][-steps:], train_results['Train Predictions'][-steps:])"
   ]
  },
  {
   "cell_type": "code",
   "execution_count": null,
   "id": "ca1b0981",
   "metadata": {},
   "outputs": [],
   "source": []
  }
 ],
 "metadata": {
  "kernelspec": {
   "display_name": "Python 3",
   "language": "python",
   "name": "python3"
  },
  "language_info": {
   "codemirror_mode": {
    "name": "ipython",
    "version": 3
   },
   "file_extension": ".py",
   "mimetype": "text/x-python",
   "name": "python",
   "nbconvert_exporter": "python",
   "pygments_lexer": "ipython3",
   "version": "3.7.9"
  },
  "vscode": {
   "interpreter": {
    "hash": "46ba9d761c6e4cba3514d069db8ac75341bcac5cae8916708ffdb4d560fb8576"
   }
  }
 },
 "nbformat": 4,
 "nbformat_minor": 5
}
