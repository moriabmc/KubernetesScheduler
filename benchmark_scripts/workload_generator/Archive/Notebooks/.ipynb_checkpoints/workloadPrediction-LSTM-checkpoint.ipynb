{
 "cells": [
  {
   "cell_type": "code",
   "execution_count": 3,
   "id": "fa8ac6f8",
   "metadata": {},
   "outputs": [],
   "source": [
    "import numpy as np\n",
    "import csv\n",
    "import datetime\n",
    "import matplotlib.pyplot as plt\n",
    "import pandas as pd\n",
    "import tensorflow as tf\n",
    "from tensorflow.keras.models import Sequential\n",
    "from tensorflow.keras.layers import Dense, LSTM\n",
    "from sklearn.preprocessing import MinMaxScaler\n",
    "from sklearn.metrics import mean_squared_error\n",
    "\n",
    "def calc_avg(lst):\n",
    "    total = 0\n",
    "    for element in lst:\n",
    "        total += element\n",
    "    if len(lst) < 1:\n",
    "        return 0\n",
    "    else:\n",
    "        return total/len(lst)\n",
    "    \n",
    "def read_data(filename):\n",
    "    nprocs = []\n",
    "    runtime = []\n",
    "    total_jobs = []\n",
    "    submit_time = []\n",
    "    \n",
    "    core_count = []\n",
    "    r = []\n",
    "    \n",
    "    \n",
    "    with open(filename) as file:\n",
    "        tsv_file = csv.reader(file, delimiter=\"\\t\")\n",
    "        field_count = 0\n",
    "        while int(field_count) < 20:\n",
    "            field_count = int(len(next(tsv_file)))\n",
    "\n",
    "        last_time = -1\n",
    "        last_hour = -1\n",
    "        job_count = 0\n",
    "        last_submitted = -1\n",
    "        i = 0\n",
    "        for line in tsv_file:\n",
    "            i += 1\n",
    "            #if i > 30000:\n",
    "                # break\n",
    "            if (float(line.__getitem__(3)) > -0.5) and (float(line.__getitem__(4)) > -0.5):\n",
    "                submitted = int(line.__getitem__(1))\n",
    "                dt = datetime.datetime.fromtimestamp(submitted)\n",
    "                time_hour = dt.hour\n",
    "\n",
    "                if last_hour == -1:\n",
    "                    last_hour = time_hour\n",
    "                    last_time = dt\n",
    "                \n",
    "                if last_hour != time_hour:\n",
    "                    runtime.append(calc_avg(r))\n",
    "                    nprocs.append(calc_avg(core_count))\n",
    "                    total_jobs.append(job_count)\n",
    "                    submit_time.append(dt.replace(minute=0, second=0, microsecond=0))\n",
    "                    last_time = dt\n",
    "                    job_count = 0\n",
    "                    core_count.clear\n",
    "                    r.clear\n",
    "                    last_submitted = -1\n",
    "                \n",
    "                core_count.append(float(line.__getitem__(4))) # number of allocated processors\n",
    "                r.append(float(line.__getitem__(3))) # runtime of the job\n",
    "                job_count += 1\n",
    "                last_submitted = submitted\n",
    "                last_hour = time_hour\n",
    "    return submit_time, runtime, nprocs, total_jobs\n",
    "\n",
    "def read_dataframe():\n",
    "    submit_time, runtime, nprocs, total_jobs = read_data('anon_jobs_Sharc.gwf') #SharcNet\n",
    "    df = pd.DataFrame(list(zip(submit_time, runtime, nprocs, total_jobs)), columns=['ds', 'RunTime', 'NProcs', 'TotalJobs'])\n",
    "    df.to_pickle('job_traces')\n",
    "    return df\n",
    "\n",
    "def load_dataframe():\n",
    "    return pd.read_pickle('total_jobs_dataframe')\n"
   ]
  },
  {
   "cell_type": "code",
   "execution_count": 4,
   "id": "98d074f0",
   "metadata": {},
   "outputs": [
    {
     "name": "stdout",
     "output_type": "stream",
     "text": [
      "                      ds       RunTime     NProcs  TotalJobs\n",
      "0    2006-01-24 17:00:00     13.600000   5.400000          5\n",
      "1    2006-01-24 18:00:00     77.000000  19.500000          9\n",
      "2    2006-01-24 19:00:00    148.625000  27.062500          2\n",
      "3    2006-01-24 20:00:00    119.105263  48.947368         22\n",
      "4    2006-01-24 21:00:00    171.384615  73.948718          1\n",
      "...                  ...           ...        ...        ...\n",
      "7071 2007-01-15 21:00:00  31829.883378   3.013483        254\n",
      "7072 2007-01-15 22:00:00  31828.379609   3.013501         58\n",
      "7073 2007-01-15 23:00:00  31826.919224   3.013525         57\n",
      "7074 2007-01-16 00:00:00  31825.394948   3.013849         59\n",
      "7075 2007-01-16 01:00:00  31825.058342   3.013981         13\n",
      "\n",
      "[7076 rows x 4 columns]\n"
     ]
    }
   ],
   "source": [
    "dataframe = read_dataframe()\n",
    "print(dataframe)"
   ]
  },
  {
   "cell_type": "code",
   "execution_count": 21,
   "id": "b9820583",
   "metadata": {},
   "outputs": [
    {
     "name": "stdout",
     "output_type": "stream",
     "text": [
      "[[ 5]\n",
      " [ 9]\n",
      " [ 2]\n",
      " ...\n",
      " [57]\n",
      " [59]\n",
      " [13]]\n"
     ]
    }
   ],
   "source": [
    "tf.random.set_seed(7)\n",
    "dataset = dataframe[['TotalJobs']].values\n",
    "print(dataset)\n",
    "dataset = dataset.astype('float32')"
   ]
  },
  {
   "cell_type": "code",
   "execution_count": 22,
   "id": "dc369996",
   "metadata": {},
   "outputs": [
    {
     "name": "stdout",
     "output_type": "stream",
     "text": [
      "4740 2336\n"
     ]
    }
   ],
   "source": [
    "# normalize the dataset\n",
    "scaler = MinMaxScaler(feature_range=(0, 1))\n",
    "dataset = scaler.fit_transform(dataset)\n",
    "\n",
    "# train test split\n",
    "train_size = int(len(dataset) * 0.67)\n",
    "test_size = len(dataset) - train_size\n",
    "train, test = dataset[0:train_size,:], dataset[train_size:len(dataset),:]\n",
    "print(len(train), len(test))"
   ]
  },
  {
   "cell_type": "code",
   "execution_count": 23,
   "id": "e70239c9",
   "metadata": {},
   "outputs": [],
   "source": [
    "def create_dataset(dataset, look_back=1):\n",
    "    dataX, dataY = [], []\n",
    "    for i in range(len(dataset)-look_back-1):\n",
    "        a = dataset[i:(i+look_back), 0]\n",
    "        dataX.append(a)\n",
    "        dataY.append(dataset[i + look_back, 0])\n",
    "    return np.array(dataX), np.array(dataY)\n",
    "\n",
    "# reshape into X=t and Y=t+1\n",
    "look_back = 1\n",
    "trainX, trainY = create_dataset(train, look_back)\n",
    "testX, testY = create_dataset(test, look_back)"
   ]
  },
  {
   "cell_type": "code",
   "execution_count": 24,
   "id": "012a2ead",
   "metadata": {},
   "outputs": [],
   "source": [
    "# reshape input to be [samples, time steps, features]\n",
    "trainX = np.reshape(trainX, (trainX.shape[0], 1, trainX.shape[1]))\n",
    "testX = np.reshape(testX, (testX.shape[0], 1, testX.shape[1]))"
   ]
  },
  {
   "cell_type": "code",
   "execution_count": 25,
   "id": "9a094168",
   "metadata": {},
   "outputs": [
    {
     "name": "stdout",
     "output_type": "stream",
     "text": [
      "Epoch 1/100\n",
      "4738/4738 - 5s - loss: 9.1769e-04 - 5s/epoch - 1ms/step\n",
      "Epoch 2/100\n",
      "4738/4738 - 4s - loss: 9.1173e-04 - 4s/epoch - 891us/step\n",
      "Epoch 3/100\n",
      "4738/4738 - 4s - loss: 9.1304e-04 - 4s/epoch - 864us/step\n",
      "Epoch 4/100\n",
      "4738/4738 - 4s - loss: 9.0696e-04 - 4s/epoch - 910us/step\n",
      "Epoch 5/100\n",
      "4738/4738 - 5s - loss: 9.0987e-04 - 5s/epoch - 962us/step\n",
      "Epoch 6/100\n",
      "4738/4738 - 4s - loss: 9.0976e-04 - 4s/epoch - 870us/step\n",
      "Epoch 7/100\n",
      "4738/4738 - 4s - loss: 9.0945e-04 - 4s/epoch - 871us/step\n",
      "Epoch 8/100\n",
      "4738/4738 - 4s - loss: 9.0767e-04 - 4s/epoch - 856us/step\n",
      "Epoch 9/100\n",
      "4738/4738 - 4s - loss: 9.0370e-04 - 4s/epoch - 859us/step\n",
      "Epoch 10/100\n",
      "4738/4738 - 4s - loss: 9.0626e-04 - 4s/epoch - 861us/step\n",
      "Epoch 11/100\n",
      "4738/4738 - 4s - loss: 9.0292e-04 - 4s/epoch - 864us/step\n",
      "Epoch 12/100\n",
      "4738/4738 - 4s - loss: 9.0225e-04 - 4s/epoch - 860us/step\n",
      "Epoch 13/100\n",
      "4738/4738 - 4s - loss: 9.0203e-04 - 4s/epoch - 875us/step\n",
      "Epoch 14/100\n",
      "4738/4738 - 4s - loss: 9.0112e-04 - 4s/epoch - 925us/step\n",
      "Epoch 15/100\n",
      "4738/4738 - 4s - loss: 8.9747e-04 - 4s/epoch - 945us/step\n",
      "Epoch 16/100\n",
      "4738/4738 - 4s - loss: 8.9964e-04 - 4s/epoch - 913us/step\n",
      "Epoch 17/100\n",
      "4738/4738 - 5s - loss: 8.9650e-04 - 5s/epoch - 964us/step\n",
      "Epoch 18/100\n",
      "4738/4738 - 5s - loss: 8.9573e-04 - 5s/epoch - 984us/step\n",
      "Epoch 19/100\n",
      "4738/4738 - 5s - loss: 8.9455e-04 - 5s/epoch - 957us/step\n",
      "Epoch 20/100\n",
      "4738/4738 - 5s - loss: 8.9337e-04 - 5s/epoch - 952us/step\n",
      "Epoch 21/100\n",
      "4738/4738 - 4s - loss: 8.9675e-04 - 4s/epoch - 943us/step\n",
      "Epoch 22/100\n",
      "4738/4738 - 5s - loss: 8.9535e-04 - 5s/epoch - 960us/step\n",
      "Epoch 23/100\n",
      "4738/4738 - 4s - loss: 8.8993e-04 - 4s/epoch - 946us/step\n",
      "Epoch 24/100\n",
      "4738/4738 - 5s - loss: 8.9121e-04 - 5s/epoch - 955us/step\n",
      "Epoch 25/100\n",
      "4738/4738 - 5s - loss: 8.9456e-04 - 5s/epoch - 956us/step\n",
      "Epoch 26/100\n",
      "4738/4738 - 5s - loss: 8.9317e-04 - 5s/epoch - 950us/step\n",
      "Epoch 27/100\n",
      "4738/4738 - 4s - loss: 8.9372e-04 - 4s/epoch - 946us/step\n",
      "Epoch 28/100\n",
      "4738/4738 - 5s - loss: 8.9152e-04 - 5s/epoch - 961us/step\n",
      "Epoch 29/100\n",
      "4738/4738 - 4s - loss: 8.9429e-04 - 4s/epoch - 940us/step\n",
      "Epoch 30/100\n",
      "4738/4738 - 5s - loss: 8.9366e-04 - 5s/epoch - 987us/step\n",
      "Epoch 31/100\n",
      "4738/4738 - 5s - loss: 8.9268e-04 - 5s/epoch - 977us/step\n",
      "Epoch 32/100\n",
      "4738/4738 - 4s - loss: 8.9133e-04 - 4s/epoch - 936us/step\n",
      "Epoch 33/100\n",
      "4738/4738 - 5s - loss: 8.9185e-04 - 5s/epoch - 951us/step\n",
      "Epoch 34/100\n",
      "4738/4738 - 5s - loss: 8.9395e-04 - 5s/epoch - 960us/step\n",
      "Epoch 35/100\n",
      "4738/4738 - 5s - loss: 8.8980e-04 - 5s/epoch - 955us/step\n",
      "Epoch 36/100\n",
      "4738/4738 - 4s - loss: 8.8857e-04 - 4s/epoch - 937us/step\n",
      "Epoch 37/100\n",
      "4738/4738 - 4s - loss: 8.9224e-04 - 4s/epoch - 933us/step\n",
      "Epoch 38/100\n",
      "4738/4738 - 5s - loss: 8.9237e-04 - 5s/epoch - 951us/step\n",
      "Epoch 39/100\n",
      "4738/4738 - 5s - loss: 8.8853e-04 - 5s/epoch - 1ms/step\n",
      "Epoch 40/100\n",
      "4738/4738 - 4s - loss: 8.9324e-04 - 4s/epoch - 938us/step\n",
      "Epoch 41/100\n",
      "4738/4738 - 4s - loss: 8.9099e-04 - 4s/epoch - 932us/step\n",
      "Epoch 42/100\n",
      "4738/4738 - 4s - loss: 8.9538e-04 - 4s/epoch - 933us/step\n",
      "Epoch 43/100\n",
      "4738/4738 - 4s - loss: 8.8925e-04 - 4s/epoch - 937us/step\n",
      "Epoch 44/100\n",
      "4738/4738 - 4s - loss: 8.9070e-04 - 4s/epoch - 937us/step\n",
      "Epoch 45/100\n",
      "4738/4738 - 5s - loss: 8.9252e-04 - 5s/epoch - 959us/step\n",
      "Epoch 46/100\n",
      "4738/4738 - 5s - loss: 8.9245e-04 - 5s/epoch - 980us/step\n",
      "Epoch 47/100\n",
      "4738/4738 - 5s - loss: 8.8997e-04 - 5s/epoch - 950us/step\n",
      "Epoch 48/100\n",
      "4738/4738 - 4s - loss: 8.9215e-04 - 4s/epoch - 869us/step\n",
      "Epoch 49/100\n",
      "4738/4738 - 4s - loss: 8.9123e-04 - 4s/epoch - 883us/step\n",
      "Epoch 50/100\n",
      "4738/4738 - 4s - loss: 8.9328e-04 - 4s/epoch - 862us/step\n",
      "Epoch 51/100\n",
      "4738/4738 - 4s - loss: 8.9073e-04 - 4s/epoch - 871us/step\n",
      "Epoch 52/100\n",
      "4738/4738 - 4s - loss: 8.9152e-04 - 4s/epoch - 850us/step\n",
      "Epoch 53/100\n",
      "4738/4738 - 4s - loss: 8.9078e-04 - 4s/epoch - 853us/step\n",
      "Epoch 54/100\n",
      "4738/4738 - 4s - loss: 8.9265e-04 - 4s/epoch - 900us/step\n",
      "Epoch 55/100\n",
      "4738/4738 - 4s - loss: 8.9493e-04 - 4s/epoch - 897us/step\n",
      "Epoch 56/100\n",
      "4738/4738 - 4s - loss: 8.8904e-04 - 4s/epoch - 870us/step\n",
      "Epoch 57/100\n",
      "4738/4738 - 4s - loss: 8.9190e-04 - 4s/epoch - 900us/step\n",
      "Epoch 58/100\n",
      "4738/4738 - 4s - loss: 8.8820e-04 - 4s/epoch - 864us/step\n",
      "Epoch 59/100\n",
      "4738/4738 - 4s - loss: 8.9261e-04 - 4s/epoch - 855us/step\n",
      "Epoch 60/100\n",
      "4738/4738 - 4s - loss: 8.9030e-04 - 4s/epoch - 855us/step\n",
      "Epoch 61/100\n",
      "4738/4738 - 4s - loss: 8.9529e-04 - 4s/epoch - 891us/step\n",
      "Epoch 62/100\n",
      "4738/4738 - 4s - loss: 8.9051e-04 - 4s/epoch - 904us/step\n",
      "Epoch 63/100\n",
      "4738/4738 - 4s - loss: 8.9396e-04 - 4s/epoch - 882us/step\n",
      "Epoch 64/100\n",
      "4738/4738 - 4s - loss: 8.9206e-04 - 4s/epoch - 876us/step\n",
      "Epoch 65/100\n",
      "4738/4738 - 4s - loss: 8.9232e-04 - 4s/epoch - 888us/step\n",
      "Epoch 66/100\n",
      "4738/4738 - 4s - loss: 8.9143e-04 - 4s/epoch - 876us/step\n",
      "Epoch 67/100\n",
      "4738/4738 - 4s - loss: 8.9205e-04 - 4s/epoch - 879us/step\n",
      "Epoch 68/100\n",
      "4738/4738 - 4s - loss: 8.8998e-04 - 4s/epoch - 856us/step\n",
      "Epoch 69/100\n",
      "4738/4738 - 4s - loss: 8.9014e-04 - 4s/epoch - 894us/step\n",
      "Epoch 70/100\n",
      "4738/4738 - 4s - loss: 8.9348e-04 - 4s/epoch - 892us/step\n",
      "Epoch 71/100\n",
      "4738/4738 - 4s - loss: 8.8874e-04 - 4s/epoch - 893us/step\n",
      "Epoch 72/100\n",
      "4738/4738 - 4s - loss: 8.9095e-04 - 4s/epoch - 886us/step\n",
      "Epoch 73/100\n",
      "4738/4738 - 4s - loss: 8.9180e-04 - 4s/epoch - 892us/step\n",
      "Epoch 74/100\n",
      "4738/4738 - 4s - loss: 8.9044e-04 - 4s/epoch - 918us/step\n",
      "Epoch 75/100\n",
      "4738/4738 - 5s - loss: 8.9182e-04 - 5s/epoch - 959us/step\n",
      "Epoch 76/100\n",
      "4738/4738 - 4s - loss: 8.8909e-04 - 4s/epoch - 912us/step\n",
      "Epoch 77/100\n",
      "4738/4738 - 4s - loss: 8.9070e-04 - 4s/epoch - 879us/step\n",
      "Epoch 78/100\n",
      "4738/4738 - 4s - loss: 8.9393e-04 - 4s/epoch - 913us/step\n",
      "Epoch 79/100\n",
      "4738/4738 - 4s - loss: 8.9179e-04 - 4s/epoch - 892us/step\n",
      "Epoch 80/100\n",
      "4738/4738 - 4s - loss: 8.9152e-04 - 4s/epoch - 901us/step\n",
      "Epoch 81/100\n",
      "4738/4738 - 4s - loss: 8.8741e-04 - 4s/epoch - 894us/step\n",
      "Epoch 82/100\n",
      "4738/4738 - 4s - loss: 8.9039e-04 - 4s/epoch - 907us/step\n",
      "Epoch 83/100\n",
      "4738/4738 - 4s - loss: 8.9340e-04 - 4s/epoch - 915us/step\n",
      "Epoch 84/100\n",
      "4738/4738 - 4s - loss: 8.9188e-04 - 4s/epoch - 906us/step\n",
      "Epoch 85/100\n",
      "4738/4738 - 4s - loss: 8.9131e-04 - 4s/epoch - 931us/step\n",
      "Epoch 86/100\n",
      "4738/4738 - 4s - loss: 8.9130e-04 - 4s/epoch - 931us/step\n",
      "Epoch 87/100\n",
      "4738/4738 - 4s - loss: 8.8992e-04 - 4s/epoch - 897us/step\n",
      "Epoch 88/100\n",
      "4738/4738 - 4s - loss: 8.9005e-04 - 4s/epoch - 902us/step\n",
      "Epoch 89/100\n",
      "4738/4738 - 4s - loss: 8.9017e-04 - 4s/epoch - 895us/step\n",
      "Epoch 90/100\n",
      "4738/4738 - 4s - loss: 8.9328e-04 - 4s/epoch - 914us/step\n",
      "Epoch 91/100\n",
      "4738/4738 - 4s - loss: 8.9425e-04 - 4s/epoch - 928us/step\n",
      "Epoch 92/100\n",
      "4738/4738 - 4s - loss: 8.9266e-04 - 4s/epoch - 880us/step\n",
      "Epoch 93/100\n",
      "4738/4738 - 4s - loss: 8.9359e-04 - 4s/epoch - 888us/step\n",
      "Epoch 94/100\n",
      "4738/4738 - 4s - loss: 8.8726e-04 - 4s/epoch - 889us/step\n",
      "Epoch 95/100\n",
      "4738/4738 - 4s - loss: 8.9030e-04 - 4s/epoch - 878us/step\n",
      "Epoch 96/100\n",
      "4738/4738 - 4s - loss: 8.9375e-04 - 4s/epoch - 888us/step\n",
      "Epoch 97/100\n",
      "4738/4738 - 4s - loss: 8.8818e-04 - 4s/epoch - 896us/step\n",
      "Epoch 98/100\n",
      "4738/4738 - 4s - loss: 8.9279e-04 - 4s/epoch - 923us/step\n",
      "Epoch 99/100\n",
      "4738/4738 - 4s - loss: 8.8825e-04 - 4s/epoch - 946us/step\n",
      "Epoch 100/100\n",
      "4738/4738 - 4s - loss: 8.9020e-04 - 4s/epoch - 890us/step\n"
     ]
    },
    {
     "data": {
      "text/plain": [
       "<keras.callbacks.History at 0x1cda8d8b4c8>"
      ]
     },
     "execution_count": 25,
     "metadata": {},
     "output_type": "execute_result"
    }
   ],
   "source": [
    "# create and fit the LSTM network\n",
    "model = Sequential()\n",
    "model.add(LSTM(4, input_shape=(1, look_back)))\n",
    "model.add(Dense(1))\n",
    "model.compile(loss='mean_squared_error', optimizer='adam')\n",
    "model.fit(trainX, trainY, epochs=100, batch_size=1, verbose=2)"
   ]
  },
  {
   "cell_type": "code",
   "execution_count": 28,
   "id": "188f9b65",
   "metadata": {},
   "outputs": [
    {
     "name": "stdout",
     "output_type": "stream",
     "text": [
      "[3.5824638e-04 4.4780798e-05 9.4039680e-04 ... 4.9258879e-04 7.1649277e-04\n",
      " 2.9555326e-03]\n"
     ]
    }
   ],
   "source": [
    "print(trainY)"
   ]
  },
  {
   "cell_type": "code",
   "execution_count": 29,
   "id": "5e29bd24",
   "metadata": {},
   "outputs": [
    {
     "name": "stdout",
     "output_type": "stream",
     "text": [
      "149/149 [==============================] - 0s 791us/step\n",
      "73/73 [==============================] - 0s 917us/step\n",
      "Train Score: 661.17 RMSE\n",
      "Test Score: 671.99 RMSE\n"
     ]
    }
   ],
   "source": [
    "# make predictions\n",
    "trainPredict = model.predict(trainX)\n",
    "testPredict = model.predict(testX)\n",
    "# invert predictions\n",
    "trainPredict = scaler.inverse_transform(trainPredict)\n",
    "trainY = scaler.inverse_transform([trainY])\n",
    "testPredict = scaler.inverse_transform(testPredict)\n",
    "testY = scaler.inverse_transform([testY])\n",
    "# calculate root mean squared error\n",
    "trainScore = np.sqrt(mean_squared_error(trainY[0], trainPredict[:,0]))\n",
    "print('Train Score: %.2f RMSE' % (trainScore))\n",
    "testScore = np.sqrt(mean_squared_error(testY[0], testPredict[:,0]))\n",
    "print('Test Score: %.2f RMSE' % (testScore))"
   ]
  },
  {
   "cell_type": "code",
   "execution_count": 31,
   "id": "135a5572",
   "metadata": {},
   "outputs": [
    {
     "data": {
      "text/plain": [
       "<matplotlib.legend.Legend at 0x1cd99de7a08>"
      ]
     },
     "execution_count": 31,
     "metadata": {},
     "output_type": "execute_result"
    },
    {
     "data": {
      "image/png": "[encoded data removed]",
      "text/plain": [
       "<Figure size 432x288 with 1 Axes>"
      ]
     },
     "metadata": {
      "needs_background": "light"
     },
     "output_type": "display_data"
    }
   ],
   "source": [
    "plt.plot(range(0,24), testPredict[:24], label=\"Prediction\")\n",
    "plt.plot(range(0,24), testY[0][:24], label=\"Test\")\n",
    "plt.legend()"
   ]
  },
  {
   "cell_type": "code",
   "execution_count": 34,
   "id": "96dc73c3",
   "metadata": {},
   "outputs": [
    {
     "data": {
      "text/plain": [
       "<matplotlib.legend.Legend at 0x1cdab1c2648>"
      ]
     },
     "execution_count": 34,
     "metadata": {},
     "output_type": "execute_result"
    },
    {
     "data": {
      "image/png": "[encoded data removed]",
      "text/plain": [
       "<Figure size 432x288 with 1 Axes>"
      ]
     },
     "metadata": {
      "needs_background": "light"
     },
     "output_type": "display_data"
    }
   ],
   "source": [
    "# shift train predictions for plotting\n",
    "trainPredictPlot = np.empty_like(dataset)\n",
    "trainPredictPlot[:, :] = np.nan\n",
    "trainPredictPlot[look_back:len(trainPredict)+look_back, :] = trainPredict\n",
    "# shift test predictions for plotting\n",
    "testPredictPlot = np.empty_like(dataset)\n",
    "testPredictPlot[:, :] = np.nan\n",
    "testPredictPlot[len(trainPredict)+(look_back*2)+1:len(dataset)-1, :] = testPredict\n",
    "# plot baseline and predictions\n",
    "plt.plot(scaler.inverse_transform(dataset), label=\"data\")\n",
    "plt.plot(trainPredictPlot, label=\"train prediction\")\n",
    "plt.plot(testPredictPlot, label=\"prediction\")\n",
    "plt.legend()"
   ]
  },
  {
   "cell_type": "code",
   "execution_count": null,
   "id": "abf9a484",
   "metadata": {},
   "outputs": [],
   "source": []
  }
 ],
 "metadata": {
  "kernelspec": {
   "display_name": "Python 3",
   "language": "python",
   "name": "python3"
  },
  "language_info": {
   "codemirror_mode": {
    "name": "ipython",
    "version": 3
   },
   "file_extension": ".py",
   "mimetype": "text/x-python",
   "name": "python",
   "nbconvert_exporter": "python",
   "pygments_lexer": "ipython3",
   "version": "3.7.9"
  }
 },
 "nbformat": 4,
 "nbformat_minor": 5
}
