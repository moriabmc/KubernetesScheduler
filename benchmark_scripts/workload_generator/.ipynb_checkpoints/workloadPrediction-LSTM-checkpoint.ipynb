{
 "cells": [
  {
   "cell_type": "code",
   "execution_count": 203,
   "id": "fa8ac6f8",
   "metadata": {},
   "outputs": [],
   "source": [
    "import numpy as np\n",
    "import csv\n",
    "import datetime\n",
    "import matplotlib.pyplot as plt\n",
    "import pandas as pd\n",
    "import os\n",
    "\n",
    "import tensorflow as tf\n",
    "from tensorflow.keras.models import Sequential\n",
    "from tensorflow.keras.layers import *\n",
    "from tensorflow.keras.callbacks import ModelCheckpoint\n",
    "from tensorflow.keras.losses import MeanSquaredError\n",
    "from tensorflow.keras.metrics import RootMeanSquaredError, MeanAbsolutePercentageError\n",
    "from tensorflow.keras.optimizers import Adam\n",
    "\n",
    "from sklearn.preprocessing import MinMaxScaler\n",
    "from sklearn.metrics import mean_squared_error, mean_absolute_percentage_error\n",
    "\n",
    "def calc_avg(lst):\n",
    "    total = 0\n",
    "    for element in lst:\n",
    "        total += element\n",
    "    if len(lst) < 1:\n",
    "        return 0\n",
    "    else:\n",
    "        return total/len(lst)\n",
    "\n",
    "def read_data(filename):\n",
    "    nprocs = []\n",
    "    runtime = []\n",
    "    total_jobs = []\n",
    "    submit_time = []\n",
    "    \n",
    "    core_count = []\n",
    "    r = []\n",
    "    \n",
    "    with open(filename) as file:\n",
    "        tsv_file = csv.reader(file, delimiter=\"\\t\")\n",
    "        field_count = 0\n",
    "        while int(field_count) < 20:\n",
    "            field_count = int(len(next(tsv_file)))\n",
    "\n",
    "        last_time = -1\n",
    "        last_hour = -1\n",
    "        job_count = 0\n",
    "        last_submitted = -1\n",
    "        i = 0\n",
    "        for line in tsv_file:\n",
    "            if (float(line.__getitem__(3)) > -0.5) and (float(line.__getitem__(4)) > -0.5):\n",
    "                submitted = int(line.__getitem__(1))\n",
    "                dt = datetime.datetime.fromtimestamp(submitted)\n",
    "                time_hour = dt.hour\n",
    "\n",
    "                if last_hour == -1:\n",
    "                    last_hour = time_hour\n",
    "                    last_time = dt\n",
    "                \n",
    "                if last_hour != time_hour:\n",
    "                    runtime.append(calc_avg(r))\n",
    "                    nprocs.append(calc_avg(core_count))\n",
    "                    total_jobs.append(job_count)\n",
    "                    submit_time.append(dt.replace(minute=0, second=0, microsecond=0))\n",
    "                    last_time = dt\n",
    "                    job_count = 0\n",
    "                    core_count.clear\n",
    "                    r.clear\n",
    "                    last_submitted = -1\n",
    "                \n",
    "                core_count.append(float(line.__getitem__(4))) # number of allocated processors\n",
    "                r.append(float(line.__getitem__(3))) # runtime of the job\n",
    "                job_count += 1\n",
    "                last_submitted = submitted\n",
    "                last_hour = time_hour\n",
    "    return submit_time, runtime, nprocs, total_jobs\n",
    "\n",
    "def read_dataframe():\n",
    "    submit_time, runtime, nprocs, total_jobs, total = read_data_swf('anon_jobs_Sharc.gwf') #SharcNet\n",
    "    df = pd.DataFrame(list(zip(submit_time, runtime, nprocs, total_jobs)), columns=['ds', 'RunTime', 'NProcs', 'TotalJobs'])\n",
    "    df.to_pickle('job_traces_sharc')\n",
    "    return df"
   ]
  },
  {
   "cell_type": "code",
   "execution_count": 204,
   "id": "98d074f0",
   "metadata": {},
   "outputs": [
    {
     "name": "stdout",
     "output_type": "stream",
     "text": [
      "                      ds       RunTime       NProcs  TotalJobs    MilCoreSec\n",
      "0    1970-01-01 22:00:00  14400.000000   100.000000          2  2.880000e+06\n",
      "1    1970-01-02 07:00:00   9615.000000    73.333333          1  7.051000e+05\n",
      "2    1970-01-02 08:00:00   5026.833333    37.166667          3  5.604919e+05\n",
      "3    1970-01-02 11:00:00  29562.571429   174.714286          1  5.165004e+06\n",
      "4    1970-01-02 12:00:00  23037.333333  1531.444444          2  7.056079e+07\n",
      "...                  ...           ...          ...        ...           ...\n",
      "9495 1971-08-06 11:00:00  17757.828546   198.467958         43  1.515475e+08\n",
      "9496 1971-08-06 12:00:00  17746.578659   198.372697         74  2.605123e+08\n",
      "9497 1971-08-06 13:00:00  17734.653796   198.284805         79  2.778045e+08\n",
      "9498 1971-08-06 14:00:00  17726.012048   198.200327         57  2.002582e+08\n",
      "9499 1971-08-06 15:00:00  17719.039820   198.148060         46  1.615057e+08\n",
      "\n",
      "[9500 rows x 5 columns]\n"
     ]
    }
   ],
   "source": [
    "tf.random.set_seed(7)\n",
    "#dataframe = read_dataframe()\n",
    "dataframe = pd.read_pickle('job_traces_sharc')\n",
    "dataframe.head()"
   ]
  },
  {
   "cell_type": "code",
   "execution_count": 205,
   "id": "e66dba5e",
   "metadata": {},
   "outputs": [
    {
     "name": "stdout",
     "output_type": "stream",
     "text": [
      "/device:GPU:0\n"
     ]
    }
   ],
   "source": [
    "tf.random.set_seed(7)\n",
    "print(tf.test.gpu_device_name())"
   ]
  },
  {
   "cell_type": "code",
   "execution_count": 206,
   "id": "2ec8a23f",
   "metadata": {},
   "outputs": [
    {
     "data": {
      "text/html": [
       "<div>\n",
       "<style scoped>\n",
       "    .dataframe tbody tr th:only-of-type {\n",
       "        vertical-align: middle;\n",
       "    }\n",
       "\n",
       "    .dataframe tbody tr th {\n",
       "        vertical-align: top;\n",
       "    }\n",
       "\n",
       "    .dataframe thead th {\n",
       "        text-align: right;\n",
       "    }\n",
       "</style>\n",
       "<table border=\"1\" class=\"dataframe\">\n",
       "  <thead>\n",
       "    <tr style=\"text-align: right;\">\n",
       "      <th></th>\n",
       "      <th>TotalJobs</th>\n",
       "    </tr>\n",
       "  </thead>\n",
       "  <tbody>\n",
       "    <tr>\n",
       "      <th>0</th>\n",
       "      <td>2</td>\n",
       "    </tr>\n",
       "    <tr>\n",
       "      <th>1</th>\n",
       "      <td>1</td>\n",
       "    </tr>\n",
       "    <tr>\n",
       "      <th>2</th>\n",
       "      <td>3</td>\n",
       "    </tr>\n",
       "    <tr>\n",
       "      <th>3</th>\n",
       "      <td>1</td>\n",
       "    </tr>\n",
       "    <tr>\n",
       "      <th>4</th>\n",
       "      <td>2</td>\n",
       "    </tr>\n",
       "  </tbody>\n",
       "</table>\n",
       "</div>"
      ],
      "text/plain": [
       "   TotalJobs\n",
       "0          2\n",
       "1          1\n",
       "2          3\n",
       "3          1\n",
       "4          2"
      ]
     },
     "execution_count": 206,
     "metadata": {},
     "output_type": "execute_result"
    }
   ],
   "source": [
    "df = dataframe[['TotalJobs']]\n",
    "df.head()"
   ]
  },
  {
   "cell_type": "code",
   "execution_count": 207,
   "id": "8ba81cba",
   "metadata": {},
   "outputs": [
    {
     "data": {
      "text/plain": [
       "((9499, 1, 1), (9499,))"
      ]
     },
     "execution_count": 207,
     "metadata": {},
     "output_type": "execute_result"
    }
   ],
   "source": [
    "windows_size = 1\n",
    "\n",
    "def df_to_X_y(df, window_size):\n",
    "    df_as_np = df.to_numpy()\n",
    "    X = []\n",
    "    y = []\n",
    "    for i in range(len(df_as_np)-window_size):\n",
    "        row = [a for a in df_as_np[i:i+window_size]]\n",
    "        X.append(row)\n",
    "        label = df_as_np[i+window_size]\n",
    "        y.append(label[0])\n",
    "    return np.array(X), np.array(y)\n",
    "\n",
    "X, Y = df_to_X_y(df,windows_size)\n",
    "X.shape, Y.shape"
   ]
  },
  {
   "cell_type": "code",
   "execution_count": 208,
   "id": "040afe05",
   "metadata": {},
   "outputs": [
    {
     "data": {
      "text/plain": [
       "(7125, 1425, 949)"
      ]
     },
     "execution_count": 208,
     "metadata": {},
     "output_type": "execute_result"
    }
   ],
   "source": [
    "train_size = int(len(df)*0.75)\n",
    "val_size = train_size + int(train_size * 0.2)\n",
    "train_X = X[:train_size]\n",
    "train_Y = Y[:train_size]\n",
    "val_X = X[train_size:val_size]\n",
    "val_Y = Y[train_size:val_size]\n",
    "test_X = X[val_size:]\n",
    "test_Y = Y[val_size:]\n",
    "len(train_X), len(val_X), len(test_X)"
   ]
  },
  {
   "cell_type": "code",
   "execution_count": 190,
   "id": "b9820583",
   "metadata": {},
   "outputs": [
    {
     "name": "stdout",
     "output_type": "stream",
     "text": [
      "Model: \"sequential_17\"\n",
      "_________________________________________________________________\n",
      " Layer (type)                Output Shape              Param #   \n",
      "=================================================================\n",
      " lstm_17 (LSTM)              (None, 64)                16896     \n",
      "                                                                 \n",
      " dense_40 (Dense)            (None, 16)                1040      \n",
      "                                                                 \n",
      " dense_41 (Dense)            (None, 1)                 17        \n",
      "                                                                 \n",
      "=================================================================\n",
      "Total params: 17,953\n",
      "Trainable params: 17,953\n",
      "Non-trainable params: 0\n",
      "_________________________________________________________________\n"
     ]
    }
   ],
   "source": [
    "tf.random.set_seed(7)\n",
    "model1 = Sequential()\n",
    "model1.add(InputLayer((windows_size,1)))\n",
    "model1.add(LSTM(128))\n",
    "model1.add(Dense(64, 'relu'))\n",
    "model1.add(Dense(32, 'relu'))\n",
    "model1.add(Dense(1, 'linear'))\n",
    "model1.summary()"
   ]
  },
  {
   "cell_type": "code",
   "execution_count": 209,
   "id": "9632f6f8",
   "metadata": {},
   "outputs": [],
   "source": [
    "cp1 = ModelCheckpoint('model-KIT/', save_best_only=True)\n",
    "model1.compile(loss='mean_squared_error', optimizer='adam', metrics=[MeanAbsolutePercentageError()])"
   ]
  },
  {
   "cell_type": "code",
   "execution_count": 210,
   "id": "b1bbcbd7",
   "metadata": {},
   "outputs": [
    {
     "name": "stdout",
     "output_type": "stream",
     "text": [
      "Epoch 1/100\n",
      "220/223 [============================>.] - ETA: 0s - loss: 1631.0007 - mean_absolute_percentage_error: 475.9747"
     ]
    },
    {
     "name": "stderr",
     "output_type": "stream",
     "text": [
      "WARNING:absl:Found untraced functions such as lstm_cell_35_layer_call_fn, lstm_cell_35_layer_call_and_return_conditional_losses while saving (showing 2 of 2). These functions will not be directly callable after loading.\n"
     ]
    },
    {
     "name": "stdout",
     "output_type": "stream",
     "text": [
      "INFO:tensorflow:Assets written to: model-KIT\\assets\n"
     ]
    },
    {
     "name": "stderr",
     "output_type": "stream",
     "text": [
      "INFO:tensorflow:Assets written to: model-KIT\\assets\n"
     ]
    },
    {
     "name": "stdout",
     "output_type": "stream",
     "text": [
      "223/223 [==============================] - 5s 18ms/step - loss: 1613.9319 - mean_absolute_percentage_error: 472.3737 - val_loss: 672.9887 - val_mean_absolute_percentage_error: 156.2668\n",
      "Epoch 2/100\n",
      "223/223 [==============================] - 1s 5ms/step - loss: 717.0796 - mean_absolute_percentage_error: 200.7152 - val_loss: 675.3400 - val_mean_absolute_percentage_error: 145.0229\n",
      "Epoch 3/100\n",
      "220/223 [============================>.] - ETA: 0s - loss: 721.6871 - mean_absolute_percentage_error: 193.9173"
     ]
    },
    {
     "name": "stderr",
     "output_type": "stream",
     "text": [
      "WARNING:absl:Found untraced functions such as lstm_cell_35_layer_call_fn, lstm_cell_35_layer_call_and_return_conditional_losses while saving (showing 2 of 2). These functions will not be directly callable after loading.\n"
     ]
    },
    {
     "name": "stdout",
     "output_type": "stream",
     "text": [
      "INFO:tensorflow:Assets written to: model-KIT\\assets\n"
     ]
    },
    {
     "name": "stderr",
     "output_type": "stream",
     "text": [
      "INFO:tensorflow:Assets written to: model-KIT\\assets\n"
     ]
    },
    {
     "name": "stdout",
     "output_type": "stream",
     "text": [
      "223/223 [==============================] - 4s 17ms/step - loss: 713.8104 - mean_absolute_percentage_error: 193.5206 - val_loss: 658.4388 - val_mean_absolute_percentage_error: 159.5881\n",
      "Epoch 4/100\n",
      "223/223 [==============================] - 1s 5ms/step - loss: 712.3908 - mean_absolute_percentage_error: 197.9186 - val_loss: 658.8835 - val_mean_absolute_percentage_error: 142.5702\n",
      "Epoch 5/100\n",
      "219/223 [============================>.] - ETA: 0s - loss: 724.0341 - mean_absolute_percentage_error: 201.3173"
     ]
    },
    {
     "name": "stderr",
     "output_type": "stream",
     "text": [
      "WARNING:absl:Found untraced functions such as lstm_cell_35_layer_call_fn, lstm_cell_35_layer_call_and_return_conditional_losses while saving (showing 2 of 2). These functions will not be directly callable after loading.\n"
     ]
    },
    {
     "name": "stdout",
     "output_type": "stream",
     "text": [
      "INFO:tensorflow:Assets written to: model-KIT\\assets\n"
     ]
    },
    {
     "name": "stderr",
     "output_type": "stream",
     "text": [
      "INFO:tensorflow:Assets written to: model-KIT\\assets\n"
     ]
    },
    {
     "name": "stdout",
     "output_type": "stream",
     "text": [
      "223/223 [==============================] - 4s 17ms/step - loss: 713.2245 - mean_absolute_percentage_error: 201.7548 - val_loss: 656.6782 - val_mean_absolute_percentage_error: 152.5273\n",
      "Epoch 6/100\n",
      "215/223 [===========================>..] - ETA: 0s - loss: 730.8186 - mean_absolute_percentage_error: 196.2671"
     ]
    },
    {
     "name": "stderr",
     "output_type": "stream",
     "text": [
      "WARNING:absl:Found untraced functions such as lstm_cell_35_layer_call_fn, lstm_cell_35_layer_call_and_return_conditional_losses while saving (showing 2 of 2). These functions will not be directly callable after loading.\n"
     ]
    },
    {
     "name": "stdout",
     "output_type": "stream",
     "text": [
      "INFO:tensorflow:Assets written to: model-KIT\\assets\n"
     ]
    },
    {
     "name": "stderr",
     "output_type": "stream",
     "text": [
      "INFO:tensorflow:Assets written to: model-KIT\\assets\n"
     ]
    },
    {
     "name": "stdout",
     "output_type": "stream",
     "text": [
      "223/223 [==============================] - 4s 17ms/step - loss: 713.7874 - mean_absolute_percentage_error: 197.1837 - val_loss: 651.2080 - val_mean_absolute_percentage_error: 152.9028\n",
      "Epoch 7/100\n",
      "216/223 [============================>.] - ETA: 0s - loss: 706.4293 - mean_absolute_percentage_error: 191.6105"
     ]
    },
    {
     "name": "stderr",
     "output_type": "stream",
     "text": [
      "WARNING:absl:Found untraced functions such as lstm_cell_35_layer_call_fn, lstm_cell_35_layer_call_and_return_conditional_losses while saving (showing 2 of 2). These functions will not be directly callable after loading.\n"
     ]
    },
    {
     "name": "stdout",
     "output_type": "stream",
     "text": [
      "INFO:tensorflow:Assets written to: model-KIT\\assets\n"
     ]
    },
    {
     "name": "stderr",
     "output_type": "stream",
     "text": [
      "INFO:tensorflow:Assets written to: model-KIT\\assets\n"
     ]
    },
    {
     "name": "stdout",
     "output_type": "stream",
     "text": [
      "223/223 [==============================] - 4s 16ms/step - loss: 713.3518 - mean_absolute_percentage_error: 192.0733 - val_loss: 648.5162 - val_mean_absolute_percentage_error: 161.0995\n",
      "Epoch 8/100\n",
      "223/223 [==============================] - 1s 4ms/step - loss: 709.5955 - mean_absolute_percentage_error: 198.6603 - val_loss: 699.7230 - val_mean_absolute_percentage_error: 178.0714\n",
      "Epoch 9/100\n",
      "223/223 [==============================] - 1s 4ms/step - loss: 710.6425 - mean_absolute_percentage_error: 194.7195 - val_loss: 652.5363 - val_mean_absolute_percentage_error: 142.3741\n",
      "Epoch 10/100\n",
      "223/223 [==============================] - 1s 4ms/step - loss: 710.8560 - mean_absolute_percentage_error: 193.7439 - val_loss: 652.1720 - val_mean_absolute_percentage_error: 152.7753\n",
      "Epoch 11/100\n",
      "212/223 [===========================>..] - ETA: 0s - loss: 699.6011 - mean_absolute_percentage_error: 197.5474"
     ]
    },
    {
     "name": "stderr",
     "output_type": "stream",
     "text": [
      "WARNING:absl:Found untraced functions such as lstm_cell_35_layer_call_fn, lstm_cell_35_layer_call_and_return_conditional_losses while saving (showing 2 of 2). These functions will not be directly callable after loading.\n"
     ]
    },
    {
     "name": "stdout",
     "output_type": "stream",
     "text": [
      "INFO:tensorflow:Assets written to: model-KIT\\assets\n"
     ]
    },
    {
     "name": "stderr",
     "output_type": "stream",
     "text": [
      "INFO:tensorflow:Assets written to: model-KIT\\assets\n"
     ]
    },
    {
     "name": "stdout",
     "output_type": "stream",
     "text": [
      "223/223 [==============================] - 4s 16ms/step - loss: 712.0472 - mean_absolute_percentage_error: 198.9930 - val_loss: 646.6796 - val_mean_absolute_percentage_error: 182.9739\n",
      "Epoch 12/100\n",
      "223/223 [==============================] - 1s 4ms/step - loss: 715.7900 - mean_absolute_percentage_error: 191.3759 - val_loss: 659.5876 - val_mean_absolute_percentage_error: 142.2037\n",
      "Epoch 13/100\n",
      "223/223 [==============================] - 1s 5ms/step - loss: 715.1863 - mean_absolute_percentage_error: 190.6714 - val_loss: 664.0388 - val_mean_absolute_percentage_error: 144.9364\n",
      "Epoch 14/100\n",
      "223/223 [==============================] - 1s 4ms/step - loss: 714.1448 - mean_absolute_percentage_error: 200.3497 - val_loss: 665.4031 - val_mean_absolute_percentage_error: 127.5356\n",
      "Epoch 15/100\n",
      "223/223 [==============================] - 1s 5ms/step - loss: 714.2242 - mean_absolute_percentage_error: 195.3917 - val_loss: 654.6765 - val_mean_absolute_percentage_error: 148.6593\n",
      "Epoch 16/100\n",
      "223/223 [==============================] - 1s 5ms/step - loss: 716.5559 - mean_absolute_percentage_error: 195.2798 - val_loss: 660.7500 - val_mean_absolute_percentage_error: 140.7867\n",
      "Epoch 17/100\n",
      "223/223 [==============================] - 1s 5ms/step - loss: 713.5133 - mean_absolute_percentage_error: 193.6842 - val_loss: 664.7291 - val_mean_absolute_percentage_error: 134.6353\n",
      "Epoch 18/100\n",
      "223/223 [==============================] - 1s 5ms/step - loss: 712.3931 - mean_absolute_percentage_error: 198.1749 - val_loss: 666.5489 - val_mean_absolute_percentage_error: 146.1228\n",
      "Epoch 19/100\n",
      "223/223 [==============================] - 1s 5ms/step - loss: 723.2164 - mean_absolute_percentage_error: 187.7207 - val_loss: 673.1179 - val_mean_absolute_percentage_error: 122.7232\n",
      "Epoch 20/100\n",
      "223/223 [==============================] - 1s 5ms/step - loss: 726.2861 - mean_absolute_percentage_error: 196.3014 - val_loss: 647.2596 - val_mean_absolute_percentage_error: 170.2690\n",
      "Epoch 21/100\n",
      "223/223 [==============================] - 1s 5ms/step - loss: 722.7868 - mean_absolute_percentage_error: 198.1088 - val_loss: 664.8609 - val_mean_absolute_percentage_error: 165.4078\n",
      "Epoch 22/100\n",
      "223/223 [==============================] - 1s 5ms/step - loss: 719.9929 - mean_absolute_percentage_error: 191.7229 - val_loss: 658.8196 - val_mean_absolute_percentage_error: 147.7979\n",
      "Epoch 23/100\n",
      "223/223 [==============================] - 1s 5ms/step - loss: 719.7338 - mean_absolute_percentage_error: 201.7005 - val_loss: 658.6684 - val_mean_absolute_percentage_error: 127.5099\n",
      "Epoch 24/100\n",
      "223/223 [==============================] - 1s 5ms/step - loss: 720.0913 - mean_absolute_percentage_error: 192.3999 - val_loss: 668.9918 - val_mean_absolute_percentage_error: 114.2608\n",
      "Epoch 25/100\n",
      "223/223 [==============================] - 1s 5ms/step - loss: 716.4783 - mean_absolute_percentage_error: 194.6905 - val_loss: 659.9853 - val_mean_absolute_percentage_error: 143.2206\n",
      "Epoch 26/100\n",
      "223/223 [==============================] - 1s 5ms/step - loss: 714.9127 - mean_absolute_percentage_error: 193.3040 - val_loss: 665.5662 - val_mean_absolute_percentage_error: 131.8767\n",
      "Epoch 27/100\n",
      "223/223 [==============================] - 1s 5ms/step - loss: 714.4344 - mean_absolute_percentage_error: 195.5158 - val_loss: 652.3289 - val_mean_absolute_percentage_error: 209.9823\n",
      "Epoch 28/100\n",
      "223/223 [==============================] - 1s 5ms/step - loss: 714.2511 - mean_absolute_percentage_error: 199.3813 - val_loss: 685.2960 - val_mean_absolute_percentage_error: 114.0346\n",
      "Epoch 29/100\n",
      "223/223 [==============================] - 1s 5ms/step - loss: 719.7384 - mean_absolute_percentage_error: 194.3883 - val_loss: 682.7230 - val_mean_absolute_percentage_error: 102.6404\n",
      "Epoch 30/100\n",
      "223/223 [==============================] - 1s 4ms/step - loss: 710.5749 - mean_absolute_percentage_error: 195.1416 - val_loss: 661.8685 - val_mean_absolute_percentage_error: 158.8985\n",
      "Epoch 31/100\n",
      "223/223 [==============================] - 1s 5ms/step - loss: 730.3389 - mean_absolute_percentage_error: 195.2057 - val_loss: 660.0388 - val_mean_absolute_percentage_error: 127.4014\n",
      "Epoch 32/100\n",
      "223/223 [==============================] - 1s 5ms/step - loss: 724.1564 - mean_absolute_percentage_error: 196.8867 - val_loss: 648.9963 - val_mean_absolute_percentage_error: 157.1243\n",
      "Epoch 33/100\n",
      "223/223 [==============================] - 1s 5ms/step - loss: 718.0746 - mean_absolute_percentage_error: 194.3215 - val_loss: 658.0069 - val_mean_absolute_percentage_error: 166.9292\n",
      "Epoch 34/100\n",
      "223/223 [==============================] - 1s 5ms/step - loss: 716.9453 - mean_absolute_percentage_error: 200.4912 - val_loss: 649.4807 - val_mean_absolute_percentage_error: 143.4268\n",
      "Epoch 35/100\n",
      "223/223 [==============================] - 1s 5ms/step - loss: 715.9366 - mean_absolute_percentage_error: 189.9794 - val_loss: 661.0673 - val_mean_absolute_percentage_error: 148.3165\n",
      "Epoch 36/100\n",
      "223/223 [==============================] - 1s 5ms/step - loss: 714.8857 - mean_absolute_percentage_error: 198.8651 - val_loss: 668.8524 - val_mean_absolute_percentage_error: 114.0405\n",
      "Epoch 37/100\n",
      "223/223 [==============================] - 1s 5ms/step - loss: 715.1623 - mean_absolute_percentage_error: 195.1664 - val_loss: 665.2430 - val_mean_absolute_percentage_error: 119.3383\n",
      "Epoch 38/100\n",
      "223/223 [==============================] - 1s 5ms/step - loss: 718.8796 - mean_absolute_percentage_error: 195.6600 - val_loss: 682.2813 - val_mean_absolute_percentage_error: 111.1761\n",
      "Epoch 39/100\n",
      "223/223 [==============================] - 1s 5ms/step - loss: 730.6431 - mean_absolute_percentage_error: 194.4209 - val_loss: 656.4064 - val_mean_absolute_percentage_error: 155.1113\n",
      "Epoch 40/100\n",
      "223/223 [==============================] - 1s 5ms/step - loss: 723.1373 - mean_absolute_percentage_error: 195.6121 - val_loss: 662.7633 - val_mean_absolute_percentage_error: 122.6558\n",
      "Epoch 41/100\n",
      "223/223 [==============================] - 1s 5ms/step - loss: 719.4222 - mean_absolute_percentage_error: 195.8287 - val_loss: 655.4263 - val_mean_absolute_percentage_error: 162.9359\n",
      "Epoch 42/100\n",
      "223/223 [==============================] - 1s 5ms/step - loss: 718.2136 - mean_absolute_percentage_error: 190.3986 - val_loss: 660.6467 - val_mean_absolute_percentage_error: 146.5206\n",
      "Epoch 43/100\n",
      "223/223 [==============================] - 1s 5ms/step - loss: 715.4367 - mean_absolute_percentage_error: 203.0016 - val_loss: 654.9427 - val_mean_absolute_percentage_error: 182.1370\n",
      "Epoch 44/100\n",
      "223/223 [==============================] - 1s 5ms/step - loss: 717.0648 - mean_absolute_percentage_error: 189.8317 - val_loss: 650.8802 - val_mean_absolute_percentage_error: 183.3462\n",
      "Epoch 45/100\n",
      "223/223 [==============================] - 1s 5ms/step - loss: 715.7248 - mean_absolute_percentage_error: 200.5650 - val_loss: 654.8520 - val_mean_absolute_percentage_error: 149.5909\n",
      "Epoch 46/100\n",
      "223/223 [==============================] - 1s 5ms/step - loss: 712.6290 - mean_absolute_percentage_error: 192.6570 - val_loss: 654.8015 - val_mean_absolute_percentage_error: 143.7106\n",
      "Epoch 47/100\n",
      "223/223 [==============================] - 1s 5ms/step - loss: 711.7150 - mean_absolute_percentage_error: 194.2743 - val_loss: 651.5723 - val_mean_absolute_percentage_error: 143.5641\n",
      "Epoch 48/100\n",
      "223/223 [==============================] - 1s 4ms/step - loss: 708.5026 - mean_absolute_percentage_error: 194.0005 - val_loss: 657.7657 - val_mean_absolute_percentage_error: 145.1763\n",
      "Epoch 49/100\n",
      "223/223 [==============================] - 1s 5ms/step - loss: 717.3365 - mean_absolute_percentage_error: 198.1097 - val_loss: 661.9937 - val_mean_absolute_percentage_error: 152.1733\n",
      "Epoch 50/100\n",
      "223/223 [==============================] - 1s 4ms/step - loss: 709.4733 - mean_absolute_percentage_error: 198.5944 - val_loss: 652.0400 - val_mean_absolute_percentage_error: 147.0929\n",
      "Epoch 51/100\n",
      "223/223 [==============================] - 1s 4ms/step - loss: 710.7263 - mean_absolute_percentage_error: 196.2569 - val_loss: 651.4738 - val_mean_absolute_percentage_error: 148.4672\n",
      "Epoch 52/100\n",
      "223/223 [==============================] - 1s 4ms/step - loss: 719.0924 - mean_absolute_percentage_error: 190.2291 - val_loss: 660.0345 - val_mean_absolute_percentage_error: 140.4889\n"
     ]
    },
    {
     "name": "stdout",
     "output_type": "stream",
     "text": [
      "Epoch 53/100\n",
      "223/223 [==============================] - 1s 4ms/step - loss: 719.1288 - mean_absolute_percentage_error: 199.2374 - val_loss: 648.7483 - val_mean_absolute_percentage_error: 147.5776\n",
      "Epoch 54/100\n",
      "214/223 [===========================>..] - ETA: 0s - loss: 728.6161 - mean_absolute_percentage_error: 191.0989"
     ]
    },
    {
     "name": "stderr",
     "output_type": "stream",
     "text": [
      "WARNING:absl:Found untraced functions such as lstm_cell_35_layer_call_fn, lstm_cell_35_layer_call_and_return_conditional_losses while saving (showing 2 of 2). These functions will not be directly callable after loading.\n"
     ]
    },
    {
     "name": "stdout",
     "output_type": "stream",
     "text": [
      "INFO:tensorflow:Assets written to: model-KIT\\assets\n"
     ]
    },
    {
     "name": "stderr",
     "output_type": "stream",
     "text": [
      "INFO:tensorflow:Assets written to: model-KIT\\assets\n"
     ]
    },
    {
     "name": "stdout",
     "output_type": "stream",
     "text": [
      "223/223 [==============================] - 4s 16ms/step - loss: 717.5418 - mean_absolute_percentage_error: 193.3162 - val_loss: 643.0663 - val_mean_absolute_percentage_error: 172.8868\n",
      "Epoch 55/100\n",
      "223/223 [==============================] - 1s 4ms/step - loss: 718.6780 - mean_absolute_percentage_error: 196.6992 - val_loss: 651.7468 - val_mean_absolute_percentage_error: 132.7949\n",
      "Epoch 56/100\n",
      "223/223 [==============================] - 1s 4ms/step - loss: 714.6495 - mean_absolute_percentage_error: 196.9814 - val_loss: 654.9115 - val_mean_absolute_percentage_error: 123.7430\n",
      "Epoch 57/100\n",
      "223/223 [==============================] - 1s 4ms/step - loss: 711.0413 - mean_absolute_percentage_error: 189.7779 - val_loss: 660.7737 - val_mean_absolute_percentage_error: 135.6246\n",
      "Epoch 58/100\n",
      "223/223 [==============================] - 1s 4ms/step - loss: 713.8716 - mean_absolute_percentage_error: 195.7021 - val_loss: 653.8972 - val_mean_absolute_percentage_error: 161.2023\n",
      "Epoch 59/100\n",
      "223/223 [==============================] - 1s 4ms/step - loss: 713.1231 - mean_absolute_percentage_error: 198.3251 - val_loss: 673.3347 - val_mean_absolute_percentage_error: 116.4934\n",
      "Epoch 60/100\n",
      "223/223 [==============================] - 1s 4ms/step - loss: 713.6818 - mean_absolute_percentage_error: 198.6072 - val_loss: 674.7532 - val_mean_absolute_percentage_error: 117.6258\n",
      "Epoch 61/100\n",
      "223/223 [==============================] - 1s 4ms/step - loss: 711.2162 - mean_absolute_percentage_error: 194.2331 - val_loss: 677.3926 - val_mean_absolute_percentage_error: 114.4248\n",
      "Epoch 62/100\n",
      "223/223 [==============================] - 1s 4ms/step - loss: 709.2311 - mean_absolute_percentage_error: 199.3160 - val_loss: 649.6362 - val_mean_absolute_percentage_error: 153.1319\n",
      "Epoch 63/100\n",
      "223/223 [==============================] - 1s 4ms/step - loss: 712.6069 - mean_absolute_percentage_error: 195.1395 - val_loss: 653.0123 - val_mean_absolute_percentage_error: 135.8715\n",
      "Epoch 64/100\n",
      "223/223 [==============================] - 1s 4ms/step - loss: 708.8061 - mean_absolute_percentage_error: 195.2303 - val_loss: 652.2912 - val_mean_absolute_percentage_error: 136.4176\n",
      "Epoch 65/100\n",
      "223/223 [==============================] - 1s 5ms/step - loss: 705.5862 - mean_absolute_percentage_error: 194.4393 - val_loss: 655.5558 - val_mean_absolute_percentage_error: 136.0863\n",
      "Epoch 66/100\n",
      "223/223 [==============================] - 1s 5ms/step - loss: 708.5023 - mean_absolute_percentage_error: 196.8979 - val_loss: 656.7798 - val_mean_absolute_percentage_error: 129.9411\n",
      "Epoch 67/100\n",
      "223/223 [==============================] - 1s 5ms/step - loss: 706.3232 - mean_absolute_percentage_error: 194.3671 - val_loss: 720.5347 - val_mean_absolute_percentage_error: 126.8802\n",
      "Epoch 68/100\n",
      "223/223 [==============================] - 1s 5ms/step - loss: 712.4802 - mean_absolute_percentage_error: 194.5748 - val_loss: 668.9766 - val_mean_absolute_percentage_error: 125.6398\n",
      "Epoch 69/100\n",
      "223/223 [==============================] - 1s 5ms/step - loss: 707.2375 - mean_absolute_percentage_error: 196.3349 - val_loss: 663.5544 - val_mean_absolute_percentage_error: 120.9816\n",
      "Epoch 70/100\n",
      "223/223 [==============================] - 1s 4ms/step - loss: 705.8249 - mean_absolute_percentage_error: 198.3626 - val_loss: 664.8399 - val_mean_absolute_percentage_error: 123.0325\n",
      "Epoch 71/100\n",
      "223/223 [==============================] - 1s 5ms/step - loss: 706.0622 - mean_absolute_percentage_error: 197.7928 - val_loss: 662.7203 - val_mean_absolute_percentage_error: 142.0681\n",
      "Epoch 72/100\n",
      "223/223 [==============================] - 1s 4ms/step - loss: 708.4511 - mean_absolute_percentage_error: 191.1033 - val_loss: 660.1021 - val_mean_absolute_percentage_error: 146.0332\n",
      "Epoch 73/100\n",
      "223/223 [==============================] - 1s 5ms/step - loss: 710.2077 - mean_absolute_percentage_error: 195.4653 - val_loss: 662.7357 - val_mean_absolute_percentage_error: 120.8186\n",
      "Epoch 74/100\n",
      "223/223 [==============================] - 1s 5ms/step - loss: 711.5416 - mean_absolute_percentage_error: 201.8428 - val_loss: 665.8479 - val_mean_absolute_percentage_error: 137.4918\n",
      "Epoch 75/100\n",
      "223/223 [==============================] - 1s 5ms/step - loss: 710.9395 - mean_absolute_percentage_error: 189.9064 - val_loss: 652.7546 - val_mean_absolute_percentage_error: 156.9077\n",
      "Epoch 76/100\n",
      "223/223 [==============================] - 1s 4ms/step - loss: 709.7149 - mean_absolute_percentage_error: 193.4892 - val_loss: 647.2654 - val_mean_absolute_percentage_error: 153.5128\n",
      "Epoch 77/100\n",
      "223/223 [==============================] - 1s 5ms/step - loss: 716.0182 - mean_absolute_percentage_error: 198.2466 - val_loss: 674.4514 - val_mean_absolute_percentage_error: 156.9332\n",
      "Epoch 78/100\n",
      "223/223 [==============================] - 1s 5ms/step - loss: 709.0455 - mean_absolute_percentage_error: 196.2998 - val_loss: 657.7488 - val_mean_absolute_percentage_error: 180.1386\n",
      "Epoch 79/100\n",
      "223/223 [==============================] - 1s 5ms/step - loss: 708.9222 - mean_absolute_percentage_error: 196.9708 - val_loss: 665.7562 - val_mean_absolute_percentage_error: 124.1486\n",
      "Epoch 80/100\n",
      "223/223 [==============================] - 1s 5ms/step - loss: 707.2276 - mean_absolute_percentage_error: 193.5062 - val_loss: 663.8415 - val_mean_absolute_percentage_error: 157.6483\n",
      "Epoch 81/100\n",
      "223/223 [==============================] - 1s 5ms/step - loss: 708.2656 - mean_absolute_percentage_error: 198.3373 - val_loss: 667.5325 - val_mean_absolute_percentage_error: 121.0432\n",
      "Epoch 82/100\n",
      "223/223 [==============================] - 1s 5ms/step - loss: 713.1530 - mean_absolute_percentage_error: 192.5698 - val_loss: 684.2025 - val_mean_absolute_percentage_error: 153.8056\n",
      "Epoch 83/100\n",
      "223/223 [==============================] - 1s 5ms/step - loss: 709.4111 - mean_absolute_percentage_error: 197.6188 - val_loss: 661.8443 - val_mean_absolute_percentage_error: 158.6034\n",
      "Epoch 84/100\n",
      "223/223 [==============================] - 1s 5ms/step - loss: 710.8594 - mean_absolute_percentage_error: 194.5146 - val_loss: 648.1622 - val_mean_absolute_percentage_error: 160.8219\n",
      "Epoch 85/100\n",
      "223/223 [==============================] - 1s 5ms/step - loss: 712.8330 - mean_absolute_percentage_error: 194.0525 - val_loss: 651.0966 - val_mean_absolute_percentage_error: 145.5763\n",
      "Epoch 86/100\n",
      "223/223 [==============================] - 1s 5ms/step - loss: 710.7606 - mean_absolute_percentage_error: 197.1518 - val_loss: 670.4169 - val_mean_absolute_percentage_error: 130.4749\n",
      "Epoch 87/100\n",
      "223/223 [==============================] - 1s 5ms/step - loss: 712.5452 - mean_absolute_percentage_error: 198.0097 - val_loss: 662.1979 - val_mean_absolute_percentage_error: 120.4571\n",
      "Epoch 88/100\n",
      "223/223 [==============================] - 1s 5ms/step - loss: 711.6060 - mean_absolute_percentage_error: 188.8682 - val_loss: 688.6478 - val_mean_absolute_percentage_error: 123.4172\n",
      "Epoch 89/100\n",
      "223/223 [==============================] - 1s 5ms/step - loss: 716.2165 - mean_absolute_percentage_error: 197.8314 - val_loss: 660.7833 - val_mean_absolute_percentage_error: 142.2609\n",
      "Epoch 90/100\n",
      "223/223 [==============================] - 1s 5ms/step - loss: 711.2919 - mean_absolute_percentage_error: 187.7730 - val_loss: 657.6280 - val_mean_absolute_percentage_error: 136.0362\n",
      "Epoch 91/100\n",
      "223/223 [==============================] - 1s 5ms/step - loss: 711.0451 - mean_absolute_percentage_error: 197.2472 - val_loss: 654.8875 - val_mean_absolute_percentage_error: 138.9315\n",
      "Epoch 92/100\n",
      "223/223 [==============================] - 1s 5ms/step - loss: 710.8406 - mean_absolute_percentage_error: 193.5931 - val_loss: 660.1194 - val_mean_absolute_percentage_error: 144.9215\n",
      "Epoch 93/100\n",
      "223/223 [==============================] - 1s 5ms/step - loss: 709.3636 - mean_absolute_percentage_error: 199.6545 - val_loss: 667.1201 - val_mean_absolute_percentage_error: 120.2553\n",
      "Epoch 94/100\n",
      "223/223 [==============================] - 1s 5ms/step - loss: 706.7169 - mean_absolute_percentage_error: 193.9117 - val_loss: 678.4484 - val_mean_absolute_percentage_error: 148.7079\n",
      "Epoch 95/100\n",
      "223/223 [==============================] - 1s 5ms/step - loss: 708.1500 - mean_absolute_percentage_error: 195.5531 - val_loss: 653.9803 - val_mean_absolute_percentage_error: 145.2454\n"
     ]
    },
    {
     "name": "stdout",
     "output_type": "stream",
     "text": [
      "Epoch 96/100\n",
      "223/223 [==============================] - 1s 5ms/step - loss: 708.9361 - mean_absolute_percentage_error: 196.4344 - val_loss: 680.7142 - val_mean_absolute_percentage_error: 145.5546\n",
      "Epoch 97/100\n",
      "223/223 [==============================] - 1s 5ms/step - loss: 706.4153 - mean_absolute_percentage_error: 196.4827 - val_loss: 652.0169 - val_mean_absolute_percentage_error: 148.3137\n",
      "Epoch 98/100\n",
      "223/223 [==============================] - 1s 5ms/step - loss: 705.1008 - mean_absolute_percentage_error: 193.8088 - val_loss: 663.1486 - val_mean_absolute_percentage_error: 139.5171\n",
      "Epoch 99/100\n",
      "223/223 [==============================] - 1s 5ms/step - loss: 704.3408 - mean_absolute_percentage_error: 198.5508 - val_loss: 656.3888 - val_mean_absolute_percentage_error: 139.2993\n",
      "Epoch 100/100\n",
      "223/223 [==============================] - 1s 5ms/step - loss: 712.3314 - mean_absolute_percentage_error: 193.2261 - val_loss: 669.7593 - val_mean_absolute_percentage_error: 151.0119\n"
     ]
    },
    {
     "data": {
      "text/plain": [
       "<keras.callbacks.History at 0x1bf5dd49f48>"
      ]
     },
     "execution_count": 210,
     "metadata": {},
     "output_type": "execute_result"
    }
   ],
   "source": [
    "model1.fit(train_X, train_Y, validation_data=(val_X, val_Y), epochs=100, callbacks=[cp1])"
   ]
  },
  {
   "cell_type": "code",
   "execution_count": 211,
   "id": "25fcaecc",
   "metadata": {},
   "outputs": [],
   "source": [
    "from tensorflow.keras.models import load_model\n",
    "model1 = load_model('model-KIT/')"
   ]
  },
  {
   "cell_type": "code",
   "execution_count": 220,
   "id": "7502bc9e",
   "metadata": {},
   "outputs": [
    {
     "name": "stdout",
     "output_type": "stream",
     "text": [
      "30/30 [==============================] - 0s 2ms/step\n"
     ]
    },
    {
     "data": {
      "text/html": [
       "<div>\n",
       "<style scoped>\n",
       "    .dataframe tbody tr th:only-of-type {\n",
       "        vertical-align: middle;\n",
       "    }\n",
       "\n",
       "    .dataframe tbody tr th {\n",
       "        vertical-align: top;\n",
       "    }\n",
       "\n",
       "    .dataframe thead th {\n",
       "        text-align: right;\n",
       "    }\n",
       "</style>\n",
       "<table border=\"1\" class=\"dataframe\">\n",
       "  <thead>\n",
       "    <tr style=\"text-align: right;\">\n",
       "      <th></th>\n",
       "      <th>Train Predictions</th>\n",
       "      <th>Actuals</th>\n",
       "    </tr>\n",
       "  </thead>\n",
       "  <tbody>\n",
       "    <tr>\n",
       "      <th>925</th>\n",
       "      <td>29.401676</td>\n",
       "      <td>59</td>\n",
       "    </tr>\n",
       "    <tr>\n",
       "      <th>926</th>\n",
       "      <td>33.025127</td>\n",
       "      <td>34</td>\n",
       "    </tr>\n",
       "    <tr>\n",
       "      <th>927</th>\n",
       "      <td>22.938494</td>\n",
       "      <td>38</td>\n",
       "    </tr>\n",
       "    <tr>\n",
       "      <th>928</th>\n",
       "      <td>24.207542</td>\n",
       "      <td>61</td>\n",
       "    </tr>\n",
       "    <tr>\n",
       "      <th>929</th>\n",
       "      <td>34.096943</td>\n",
       "      <td>60</td>\n",
       "    </tr>\n",
       "    <tr>\n",
       "      <th>930</th>\n",
       "      <td>33.560917</td>\n",
       "      <td>58</td>\n",
       "    </tr>\n",
       "    <tr>\n",
       "      <th>931</th>\n",
       "      <td>32.489895</td>\n",
       "      <td>49</td>\n",
       "    </tr>\n",
       "    <tr>\n",
       "      <th>932</th>\n",
       "      <td>28.199965</td>\n",
       "      <td>53</td>\n",
       "    </tr>\n",
       "    <tr>\n",
       "      <th>933</th>\n",
       "      <td>29.874958</td>\n",
       "      <td>39</td>\n",
       "    </tr>\n",
       "    <tr>\n",
       "      <th>934</th>\n",
       "      <td>24.541616</td>\n",
       "      <td>50</td>\n",
       "    </tr>\n",
       "    <tr>\n",
       "      <th>935</th>\n",
       "      <td>28.590933</td>\n",
       "      <td>35</td>\n",
       "    </tr>\n",
       "    <tr>\n",
       "      <th>936</th>\n",
       "      <td>23.245653</td>\n",
       "      <td>21</td>\n",
       "    </tr>\n",
       "    <tr>\n",
       "      <th>937</th>\n",
       "      <td>19.233799</td>\n",
       "      <td>16</td>\n",
       "    </tr>\n",
       "    <tr>\n",
       "      <th>938</th>\n",
       "      <td>17.370911</td>\n",
       "      <td>21</td>\n",
       "    </tr>\n",
       "    <tr>\n",
       "      <th>939</th>\n",
       "      <td>19.233799</td>\n",
       "      <td>14</td>\n",
       "    </tr>\n",
       "    <tr>\n",
       "      <th>940</th>\n",
       "      <td>16.378077</td>\n",
       "      <td>19</td>\n",
       "    </tr>\n",
       "    <tr>\n",
       "      <th>941</th>\n",
       "      <td>18.569260</td>\n",
       "      <td>12</td>\n",
       "    </tr>\n",
       "    <tr>\n",
       "      <th>942</th>\n",
       "      <td>15.183167</td>\n",
       "      <td>22</td>\n",
       "    </tr>\n",
       "    <tr>\n",
       "      <th>943</th>\n",
       "      <td>19.539526</td>\n",
       "      <td>14</td>\n",
       "    </tr>\n",
       "    <tr>\n",
       "      <th>944</th>\n",
       "      <td>16.378077</td>\n",
       "      <td>43</td>\n",
       "    </tr>\n",
       "    <tr>\n",
       "      <th>945</th>\n",
       "      <td>25.941135</td>\n",
       "      <td>74</td>\n",
       "    </tr>\n",
       "    <tr>\n",
       "      <th>946</th>\n",
       "      <td>41.610600</td>\n",
       "      <td>79</td>\n",
       "    </tr>\n",
       "    <tr>\n",
       "      <th>947</th>\n",
       "      <td>44.625351</td>\n",
       "      <td>57</td>\n",
       "    </tr>\n",
       "    <tr>\n",
       "      <th>948</th>\n",
       "      <td>31.955551</td>\n",
       "      <td>46</td>\n",
       "    </tr>\n",
       "  </tbody>\n",
       "</table>\n",
       "</div>"
      ],
      "text/plain": [
       "     Train Predictions  Actuals\n",
       "925          29.401676       59\n",
       "926          33.025127       34\n",
       "927          22.938494       38\n",
       "928          24.207542       61\n",
       "929          34.096943       60\n",
       "930          33.560917       58\n",
       "931          32.489895       49\n",
       "932          28.199965       53\n",
       "933          29.874958       39\n",
       "934          24.541616       50\n",
       "935          28.590933       35\n",
       "936          23.245653       21\n",
       "937          19.233799       16\n",
       "938          17.370911       21\n",
       "939          19.233799       14\n",
       "940          16.378077       19\n",
       "941          18.569260       12\n",
       "942          15.183167       22\n",
       "943          19.539526       14\n",
       "944          16.378077       43\n",
       "945          25.941135       74\n",
       "946          41.610600       79\n",
       "947          44.625351       57\n",
       "948          31.955551       46"
      ]
     },
     "execution_count": 220,
     "metadata": {},
     "output_type": "execute_result"
    }
   ],
   "source": [
    "steps = 24\n",
    "\n",
    "train_predictions = model1.predict(test_X).flatten()\n",
    "train_results = pd.DataFrame(data={'Train Predictions':train_predictions, 'Actuals':test_Y})\n",
    "train_results[-steps:]"
   ]
  },
  {
   "cell_type": "code",
   "execution_count": 221,
   "id": "92d26005",
   "metadata": {},
   "outputs": [
    {
     "data": {
      "text/plain": [
       "<matplotlib.legend.Legend at 0x1bf8c037408>"
      ]
     },
     "execution_count": 221,
     "metadata": {},
     "output_type": "execute_result"
    },
    {
     "data": {
      "image/png": "[encoded data removed]",
      "text/plain": [
       "<Figure size 432x288 with 1 Axes>"
      ]
     },
     "metadata": {
      "needs_background": "light"
     },
     "output_type": "display_data"
    }
   ],
   "source": [
    "\n",
    "plt.plot(train_results['Actuals'][-steps:], label=\"Actual\")\n",
    "plt.plot(train_results['Train Predictions'][-steps:], label=\"Prediction\")\n",
    "plt.legend()"
   ]
  },
  {
   "cell_type": "code",
   "execution_count": 222,
   "id": "73565538",
   "metadata": {},
   "outputs": [
    {
     "data": {
      "text/plain": [
       "('mape', 0.3593744691363727)"
      ]
     },
     "execution_count": 222,
     "metadata": {},
     "output_type": "execute_result"
    }
   ],
   "source": [
    "\"mape\", mean_absolute_percentage_error(train_results['Actuals'][-steps:], train_results['Train Predictions'][-steps:])"
   ]
  },
  {
   "cell_type": "code",
   "execution_count": null,
   "id": "ca1b0981",
   "metadata": {},
   "outputs": [],
   "source": []
  }
 ],
 "metadata": {
  "kernelspec": {
   "display_name": "Python 3",
   "language": "python",
   "name": "python3"
  },
  "language_info": {
   "codemirror_mode": {
    "name": "ipython",
    "version": 3
   },
   "file_extension": ".py",
   "mimetype": "text/x-python",
   "name": "python",
   "nbconvert_exporter": "python",
   "pygments_lexer": "ipython3",
   "version": "3.7.9"
  }
 },
 "nbformat": 4,
 "nbformat_minor": 5
}
