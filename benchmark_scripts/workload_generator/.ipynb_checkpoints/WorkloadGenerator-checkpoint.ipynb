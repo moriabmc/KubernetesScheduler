{
 "cells": [
  {
   "cell_type": "markdown",
   "id": "9e7d9ac2",
   "metadata": {},
   "source": [
    "# Methods and Imports"
   ]
  },
  {
   "cell_type": "code",
   "execution_count": 161,
   "id": "7bce1281",
   "metadata": {},
   "outputs": [],
   "source": [
    "import numpy as np\n",
    "import csv\n",
    "import datetime\n",
    "import matplotlib.pyplot as plt\n",
    "import pandas as pd\n",
    "import random\n",
    "import os\n",
    "\n",
    "# skforecast\n",
    "from skforecast.ForecasterAutoreg import ForecasterAutoreg\n",
    "from sklearn.metrics import mean_absolute_percentage_error as mape\n",
    "from sklearn.metrics import mean_absolute_error as mae\n",
    "from sklearn.ensemble import RandomForestRegressor\n",
    "\n",
    "# tensorflow\n",
    "import tensorflow as tf\n",
    "from tensorflow.keras.models import Sequential, load_model\n",
    "from tensorflow.keras.layers import *\n",
    "from tensorflow.keras.callbacks import ModelCheckpoint\n",
    "from tensorflow.keras.losses import MeanSquaredError\n",
    "from tensorflow.keras.metrics import RootMeanSquaredError, MeanAbsolutePercentageError\n",
    "from tensorflow.keras.optimizers import Adam\n",
    "\n",
    "def calc_avg(lst):\n",
    "    total = 0\n",
    "    for element in lst:\n",
    "        total += element\n",
    "    if len(lst) < 1:\n",
    "        return 0\n",
    "    else:\n",
    "        return total/len(lst)\n",
    "\n",
    "def read_data(FILENAME):\n",
    "    nprocs = []\n",
    "    runtime = []\n",
    "    total_jobs = []\n",
    "    submit_time = []\n",
    "    core_count = []\n",
    "    r = []\n",
    "    \n",
    "    with open(FILENAME) as file:\n",
    "        \n",
    "        tsv_file = csv.reader(file, delimiter=\"\\t\")\n",
    "        field_count = 0\n",
    "        while int(field_count) < 20:\n",
    "            field_count = int(len(next(tsv_file)))\n",
    "\n",
    "        last_time = -1\n",
    "        last_hour = -1\n",
    "        job_count = 0\n",
    "        last_submitted = -1\n",
    "        i = 0\n",
    "        for line in tsv_file:\n",
    "            if (float(line[3]) > -0.5) and (float(line[4]) > -0.5):\n",
    "                submitted = int(line[1])\n",
    "                dt = datetime.datetime.fromtimestamp(submitted)\n",
    "\n",
    "                if last_hour == -1:\n",
    "                    last_hour = dt.hour\n",
    "                    last_time = dt\n",
    "            \n",
    "                if last_hour != dt.hour:\n",
    "                    runtime.append(calc_avg(r))\n",
    "                    nprocs.append(calc_avg(core_count))\n",
    "                    total_jobs.append(job_count)\n",
    "                    submit_time.append(last_time.replace(minute=0, second=0, microsecond=0))\n",
    "                    last_time = dt\n",
    "                    job_count = 0\n",
    "                    core_count.clear\n",
    "                    r.clear\n",
    "                    \n",
    "                core_count.append(float(line[4])) # number of allocated processors\n",
    "                r.append(float(line[3])) # runtime of the job\n",
    "                job_count += 1\n",
    "                last_hour = dt.hour\n",
    "    return submit_time, runtime, nprocs, total_jobs\n",
    "\n",
    "def read_dataframe():\n",
    "    submit_time, runtime, nprocs, total_jobs = read_data(FILENAME + '.gwf') #SharcNet\n",
    "    df = pd.DataFrame(list(zip(submit_time, runtime, nprocs, total_jobs)), columns=['ds', 'RunTime', 'NProcs', 'TotalJobs'])\n",
    "    df['ds'] = pd.to_datetime(df['ds'])\n",
    "    df = df.set_index('ds')\n",
    "    df.to_pickle(FILENAME)\n",
    "    return df\n",
    "\n",
    "def generate_workload(df: pd.DataFrame, target):\n",
    "    f = open(target, 'w', newline='')\n",
    "    writer = csv.writer(f, lineterminator=\"\\n\")  # use linux style line endings\n",
    "    time_counter = 0\n",
    "    while time_counter < 86400:  # generate for whole day\n",
    "        # calculating adapted values\n",
    "        current_hour = int(time_counter / 3600)\n",
    "        adapted_hour = (current_hour + START_TIME) % 24         \n",
    "        #print(\"current hour: \" + str(adapted_hour))\n",
    "        #print(\"job interval adapted: \" + str(adapted_frame['InterArrivalTime']))\n",
    "\n",
    "        label = \"\"\n",
    "        if random.random() > CRITICAL_JOB_RATE:\n",
    "            label = \"not-critical\"\n",
    "        else:\n",
    "            label = \"critical\"\n",
    "        \n",
    "        total_jobs = df.iloc[adapted_hour]['TotalJobs']\n",
    "        print(\"jobs total\", total_jobs)\n",
    "        cpu_per_job = df.iloc[adapted_hour]['NProcs']\n",
    "        if total_jobs == 0:\n",
    "            writer.writerow([1, 10, 3600, label])\n",
    "            time_counter = int(time_counter) + 3600\n",
    "            continue\n",
    "        millicores_per_job = 4000 * df.iloc[adapted_hour]['NProcs'] / CLUSTER_CPUS * CPU_FACTOR\n",
    "        print(\"millicores per job\", int(millicores_per_job))\n",
    "\n",
    "        runtime = df.iloc[adapted_hour]['RunTime'] * RUNTIME_FACTOR\n",
    "        print(\"Runtime per job\", int(runtime))\n",
    "        \n",
    "        job_interval = int(3600/total_jobs)\n",
    "        print(\"Job interval\", int(job_interval))\n",
    "        \n",
    "        write_data = [str(int(millicores_per_job)), str(int(runtime)),\n",
    "                    str(int(job_interval)), label]\n",
    "        #print(write_data)\n",
    "        writer.writerow(write_data)\n",
    "        time_counter = int(time_counter) + int(job_interval)\n",
    "    f.close()\n",
    "    \n",
    "def get_timeframe(df: pd.DataFrame, start_date: datetime.datetime, end_date: datetime.datetime):\n",
    "    daterange = pd.date_range(start_date, end_date, freq='H')\n",
    "    result = df.loc[(df.index >= start_date ) & (df.index <= end_date)]\n",
    "    result = result.reindex(daterange, fill_value=0)\n",
    "    return result\n",
    "\n",
    "def get_historical(df: pd.DataFrame, end_date: datetime.datetime):\n",
    "    start_date = df.index[0]\n",
    "    end_date -= datetime.timedelta(hours=1)\n",
    "    daterange = pd.date_range(start_date, end_date, freq='H')\n",
    "    result = df.loc[(df.index < end_date)]\n",
    "    result = result.reindex(daterange, fill_value=np.nan)\n",
    "    return result\n",
    "    \n",
    "def get_utilization(df: pd.DataFrame):\n",
    "    data = df.to_numpy()\n",
    "    util = []\n",
    "    \n",
    "    static = 750/4000\n",
    "    workload_limit = 3600 * 4000\n",
    "    for row in data:\n",
    "        runtime = row[0]\n",
    "        nprocs = row[1]\n",
    "        totaljobs = row[2]\n",
    "        millicores_per_job = nprocs / CLUSTER_CPUS * 4000\n",
    "        util.append(static + (millicores_per_job * runtime * totaljobs / workload_limit))\n",
    "    return util, np.mean(util)\n",
    "\n",
    "def df_to_X_y(df, look_back):\n",
    "    df_as_np = df.to_numpy()\n",
    "    X = []\n",
    "    y = []\n",
    "    for i in range(len(df_as_np)-look_back):\n",
    "        row = [a for a in df_as_np[i:i+look_back]]\n",
    "        X.append(row)\n",
    "        label = df_as_np[i+look_back]\n",
    "        y.append(label[0])\n",
    "    return np.array(X), np.array(y)"
   ]
  },
  {
   "cell_type": "markdown",
   "id": "3f1ad811",
   "metadata": {},
   "source": [
    "# Constants and Parameters"
   ]
  },
  {
   "cell_type": "code",
   "execution_count": 162,
   "id": "b96020e7",
   "metadata": {},
   "outputs": [],
   "source": [
    "# job traces filename, without file format ending\n",
    "FILENAME = 'anon_jobs_Sharc'\n",
    "\n",
    "# specify the timeframe, must be in iso format\n",
    "FROM = '2006-06-01 00:00:00' \n",
    "TO = '2006-06-01 23:00:00'\n",
    "\n",
    "# workload generator parameters\n",
    "START_TIME = 17 # shifts the generated workload to start at given time\n",
    "CRITICAL_JOB_RATE = 0.6 # percentage of jobs that should be critical\n",
    "CLUSTER_CPUS = 6828 # number of cpus in the cluster, depends on job traces\n",
    "RUNTIME_FACTOR = 1 # multiply runtime of each job by a constant value\n",
    "CPU_FACTOR = 1 # multiply millicores of each job by a constant value\n",
    "\n",
    "# workload prediction parameters\n",
    "STEPS = 24\n",
    "\n",
    "# LSTM parameters\n",
    "LOOK_BACK = 3"
   ]
  },
  {
   "cell_type": "markdown",
   "id": "f6631c2a",
   "metadata": {},
   "source": [
    "# Read/Load Dataframe"
   ]
  },
  {
   "cell_type": "code",
   "execution_count": 32,
   "id": "f5ad735b",
   "metadata": {},
   "outputs": [
    {
     "name": "stdout",
     "output_type": "stream",
     "text": [
      "loading pickle...\n"
     ]
    },
    {
     "data": {
      "text/html": [
       "<div>\n",
       "<style scoped>\n",
       "    .dataframe tbody tr th:only-of-type {\n",
       "        vertical-align: middle;\n",
       "    }\n",
       "\n",
       "    .dataframe tbody tr th {\n",
       "        vertical-align: top;\n",
       "    }\n",
       "\n",
       "    .dataframe thead th {\n",
       "        text-align: right;\n",
       "    }\n",
       "</style>\n",
       "<table border=\"1\" class=\"dataframe\">\n",
       "  <thead>\n",
       "    <tr style=\"text-align: right;\">\n",
       "      <th></th>\n",
       "      <th>RunTime</th>\n",
       "      <th>NProcs</th>\n",
       "      <th>TotalJobs</th>\n",
       "    </tr>\n",
       "    <tr>\n",
       "      <th>ds</th>\n",
       "      <th></th>\n",
       "      <th></th>\n",
       "      <th></th>\n",
       "    </tr>\n",
       "  </thead>\n",
       "  <tbody>\n",
       "    <tr>\n",
       "      <th>2007-01-15 20:00:00</th>\n",
       "      <td>31829.883378</td>\n",
       "      <td>3.013483</td>\n",
       "      <td>254</td>\n",
       "    </tr>\n",
       "    <tr>\n",
       "      <th>2007-01-15 21:00:00</th>\n",
       "      <td>31828.379609</td>\n",
       "      <td>3.013501</td>\n",
       "      <td>58</td>\n",
       "    </tr>\n",
       "    <tr>\n",
       "      <th>2007-01-15 22:00:00</th>\n",
       "      <td>31826.919224</td>\n",
       "      <td>3.013525</td>\n",
       "      <td>57</td>\n",
       "    </tr>\n",
       "    <tr>\n",
       "      <th>2007-01-15 23:00:00</th>\n",
       "      <td>31825.394948</td>\n",
       "      <td>3.013849</td>\n",
       "      <td>59</td>\n",
       "    </tr>\n",
       "    <tr>\n",
       "      <th>2007-01-16 00:00:00</th>\n",
       "      <td>31825.058342</td>\n",
       "      <td>3.013981</td>\n",
       "      <td>13</td>\n",
       "    </tr>\n",
       "  </tbody>\n",
       "</table>\n",
       "</div>"
      ],
      "text/plain": [
       "                          RunTime    NProcs  TotalJobs\n",
       "ds                                                    \n",
       "2007-01-15 20:00:00  31829.883378  3.013483        254\n",
       "2007-01-15 21:00:00  31828.379609  3.013501         58\n",
       "2007-01-15 22:00:00  31826.919224  3.013525         57\n",
       "2007-01-15 23:00:00  31825.394948  3.013849         59\n",
       "2007-01-16 00:00:00  31825.058342  3.013981         13"
      ]
     },
     "execution_count": 32,
     "metadata": {},
     "output_type": "execute_result"
    }
   ],
   "source": [
    "# read or load dataframe\n",
    "if os.path.exists(FILENAME):\n",
    "    print(\"loading pickle...\")\n",
    "    df = pd.read_pickle(FILENAME)\n",
    "else:\n",
    "    df = read_dataframe()\n",
    "df.tail()"
   ]
  },
  {
   "cell_type": "markdown",
   "id": "d46ae057",
   "metadata": {},
   "source": [
    "# Runtime "
   ]
  },
  {
   "cell_type": "code",
   "execution_count": 33,
   "id": "832b68e1",
   "metadata": {},
   "outputs": [
    {
     "data": {
      "text/plain": [
       "('Average runtime per job', 25686.124492692823)"
      ]
     },
     "execution_count": 33,
     "metadata": {},
     "output_type": "execute_result"
    },
    {
     "data": {
      "image/png": "[encoded data removed]",
      "text/plain": [
       "<Figure size 432x288 with 1 Axes>"
      ]
     },
     "metadata": {
      "needs_background": "light"
     },
     "output_type": "display_data"
    }
   ],
   "source": [
    "mean = np.mean(df['RunTime'].to_numpy())\n",
    "df['RunTime'].plot()\n",
    "\"Average runtime per job\", mean"
   ]
  },
  {
   "cell_type": "markdown",
   "id": "9a674922",
   "metadata": {},
   "source": [
    "# CPU"
   ]
  },
  {
   "cell_type": "code",
   "execution_count": 34,
   "id": "39397229",
   "metadata": {},
   "outputs": [
    {
     "data": {
      "text/plain": [
       "('Average processors per job', 5.719788094405461)"
      ]
     },
     "execution_count": 34,
     "metadata": {},
     "output_type": "execute_result"
    },
    {
     "data": {
      "image/png": "[encoded data removed]",
      "text/plain": [
       "<Figure size 432x288 with 1 Axes>"
      ]
     },
     "metadata": {
      "needs_background": "light"
     },
     "output_type": "display_data"
    }
   ],
   "source": [
    "df['NProcs'].plot()\n",
    "mean = np.mean(df['NProcs'].to_numpy())\n",
    "\"Average processors per job\", mean"
   ]
  },
  {
   "cell_type": "markdown",
   "id": "0c05f36d",
   "metadata": {},
   "source": [
    "# Total jobs"
   ]
  },
  {
   "cell_type": "code",
   "execution_count": 35,
   "id": "efb21e7e",
   "metadata": {},
   "outputs": [
    {
     "data": {
      "text/plain": [
       "('Average jobs', 5.719788094405461)"
      ]
     },
     "execution_count": 35,
     "metadata": {},
     "output_type": "execute_result"
    },
    {
     "data": {
      "image/png": "[encoded data removed]",
      "text/plain": [
       "<Figure size 432x288 with 1 Axes>"
      ]
     },
     "metadata": {
      "needs_background": "light"
     },
     "output_type": "display_data"
    }
   ],
   "source": [
    "df['TotalJobs'].plot()\n",
    "mean = np.mean(df['NProcs'].to_numpy())\n",
    "\"Average jobs\", mean"
   ]
  },
  {
   "cell_type": "markdown",
   "id": "d2645c7b",
   "metadata": {},
   "source": [
    "# Set Timeframe"
   ]
  },
  {
   "cell_type": "code",
   "execution_count": 109,
   "id": "5d0e41fc",
   "metadata": {},
   "outputs": [
    {
     "data": {
      "text/html": [
       "<div>\n",
       "<style scoped>\n",
       "    .dataframe tbody tr th:only-of-type {\n",
       "        vertical-align: middle;\n",
       "    }\n",
       "\n",
       "    .dataframe tbody tr th {\n",
       "        vertical-align: top;\n",
       "    }\n",
       "\n",
       "    .dataframe thead th {\n",
       "        text-align: right;\n",
       "    }\n",
       "</style>\n",
       "<table border=\"1\" class=\"dataframe\">\n",
       "  <thead>\n",
       "    <tr style=\"text-align: right;\">\n",
       "      <th></th>\n",
       "      <th>RunTime</th>\n",
       "      <th>NProcs</th>\n",
       "      <th>TotalJobs</th>\n",
       "    </tr>\n",
       "  </thead>\n",
       "  <tbody>\n",
       "    <tr>\n",
       "      <th>2006-06-01 19:00:00</th>\n",
       "      <td>17685.409877</td>\n",
       "      <td>3.102679</td>\n",
       "      <td>14</td>\n",
       "    </tr>\n",
       "    <tr>\n",
       "      <th>2006-06-01 20:00:00</th>\n",
       "      <td>17693.280125</td>\n",
       "      <td>3.102747</td>\n",
       "      <td>70</td>\n",
       "    </tr>\n",
       "    <tr>\n",
       "      <th>2006-06-01 21:00:00</th>\n",
       "      <td>17691.855875</td>\n",
       "      <td>3.109259</td>\n",
       "      <td>151</td>\n",
       "    </tr>\n",
       "    <tr>\n",
       "      <th>2006-06-01 22:00:00</th>\n",
       "      <td>17687.450517</td>\n",
       "      <td>3.110864</td>\n",
       "      <td>132</td>\n",
       "    </tr>\n",
       "    <tr>\n",
       "      <th>2006-06-01 23:00:00</th>\n",
       "      <td>17688.092003</td>\n",
       "      <td>3.112974</td>\n",
       "      <td>88</td>\n",
       "    </tr>\n",
       "  </tbody>\n",
       "</table>\n",
       "</div>"
      ],
      "text/plain": [
       "                          RunTime    NProcs  TotalJobs\n",
       "2006-06-01 19:00:00  17685.409877  3.102679         14\n",
       "2006-06-01 20:00:00  17693.280125  3.102747         70\n",
       "2006-06-01 21:00:00  17691.855875  3.109259        151\n",
       "2006-06-01 22:00:00  17687.450517  3.110864        132\n",
       "2006-06-01 23:00:00  17688.092003  3.112974         88"
      ]
     },
     "execution_count": 109,
     "metadata": {},
     "output_type": "execute_result"
    }
   ],
   "source": [
    "# convert strings to datetime\n",
    "frm = datetime.datetime.fromisoformat(FROM)\n",
    "to = datetime.datetime.fromisoformat(TO)\n",
    "\n",
    "timeframe = get_timeframe(df, datetime.datetime.fromisoformat('2006-06-01 00:00:00'),\n",
    "                          datetime.datetime.fromisoformat('2006-06-01 23:00:00'))\n",
    "timeframe.tail()"
   ]
  },
  {
   "cell_type": "markdown",
   "id": "620a6212",
   "metadata": {},
   "source": [
    "# Workload at Timeframe"
   ]
  },
  {
   "cell_type": "code",
   "execution_count": 37,
   "id": "83c214d6",
   "metadata": {
    "scrolled": false
   },
   "outputs": [
    {
     "data": {
      "text/plain": [
       "<matplotlib.legend.Legend at 0x1cd67ba5e08>"
      ]
     },
     "execution_count": 37,
     "metadata": {},
     "output_type": "execute_result"
    },
    {
     "data": {
      "image/png": "[encoded data removed]",
      "text/plain": [
       "<Figure size 432x288 with 1 Axes>"
      ]
     },
     "metadata": {
      "needs_background": "light"
     },
     "output_type": "display_data"
    }
   ],
   "source": [
    "util, mean = get_utilization(timeframe)\n",
    "plt.bar(range(0,24), util, label=\"workload\")\n",
    "plt.axhline(y=mean, color='r', linestyle='-', label=\"mean\")\n",
    "plt.legend()"
   ]
  },
  {
   "cell_type": "markdown",
   "id": "8ab4f7c0",
   "metadata": {},
   "source": [
    "# Generate Workload"
   ]
  },
  {
   "cell_type": "code",
   "execution_count": 38,
   "id": "e2427825",
   "metadata": {},
   "outputs": [],
   "source": [
    "#generate_workload(timeframe, \"test.csv\")"
   ]
  },
  {
   "cell_type": "markdown",
   "id": "3da04e04",
   "metadata": {},
   "source": [
    "# Workload Prediction"
   ]
  },
  {
   "cell_type": "code",
   "execution_count": 49,
   "id": "13f88ecb",
   "metadata": {},
   "outputs": [],
   "source": [
    "# get timeframe with historical data to train the model\n",
    "timeframe_hist = get_historical(df, frm)"
   ]
  },
  {
   "cell_type": "markdown",
   "id": "82e7ca6f",
   "metadata": {},
   "source": [
    "Predict NProcs with Autoregression"
   ]
  },
  {
   "cell_type": "code",
   "execution_count": 52,
   "id": "bc2f42bd",
   "metadata": {},
   "outputs": [],
   "source": [
    "nprocs = timeframe_hist[['NProcs']]\n",
    "nprocs = nprocs.interpolate(method='linear') # interpolating leads to better results\n",
    "forecaster_nprocs = ForecasterAutoreg(\n",
    "                regressor = RandomForestRegressor(random_state=123),\n",
    "                lags      = 100\n",
    "             )\n",
    "forecaster_nprocs.fit(nprocs['NProcs'])\n",
    "predictions_nprocs = forecaster_nprocs.predict(steps=STEPS)"
   ]
  },
  {
   "cell_type": "code",
   "execution_count": 70,
   "id": "37e3cac2",
   "metadata": {},
   "outputs": [
    {
     "name": "stdout",
     "output_type": "stream",
     "text": [
      "MAPE 0.0041338741423961635\n"
     ]
    },
    {
     "data": {
      "image/png": "[encoded data removed]",
      "text/plain": [
       "<Figure size 648x288 with 1 Axes>"
      ]
     },
     "metadata": {
      "needs_background": "light"
     },
     "output_type": "display_data"
    }
   ],
   "source": [
    "fig, ax = plt.subplots(figsize=(9, 4))\n",
    "nprocs[-STEPS*2:]['NProcs'].plot(ax=ax, label='train')\n",
    "timeframe['NProcs'].plot(ax=ax, label='actual')\n",
    "predictions_nprocs.plot(ax=ax, label='prediction')\n",
    "ax.legend()\n",
    "print(\"MAPE\", mape(timeframe['NProcs'],predictions_nprocs))"
   ]
  },
  {
   "cell_type": "markdown",
   "id": "3d93e6ac",
   "metadata": {},
   "source": [
    "Predict Runtime with Autoregression"
   ]
  },
  {
   "cell_type": "code",
   "execution_count": 68,
   "id": "4bdf170b",
   "metadata": {},
   "outputs": [],
   "source": [
    "runtime = timeframe_hist[['RunTime']]\n",
    "runtime = runtime.interpolate(method='linear') # interpolating leads to better results\n",
    "forecaster_runtime = ForecasterAutoreg(\n",
    "                regressor = RandomForestRegressor(random_state=123),\n",
    "                lags      = 100\n",
    "             )\n",
    "forecaster_runtime.fit(runtime['RunTime'])\n",
    "predictions_runtime = forecaster_runtime.predict(steps=STEPS)"
   ]
  },
  {
   "cell_type": "code",
   "execution_count": 71,
   "id": "fdb7a2cd",
   "metadata": {},
   "outputs": [
    {
     "name": "stdout",
     "output_type": "stream",
     "text": [
      "MAPE 0.0012811548861022435\n"
     ]
    },
    {
     "data": {
      "image/png": "[encoded data removed]",
      "text/plain": [
       "<Figure size 648x288 with 1 Axes>"
      ]
     },
     "metadata": {
      "needs_background": "light"
     },
     "output_type": "display_data"
    }
   ],
   "source": [
    "fig, ax = plt.subplots(figsize=(9, 4))\n",
    "runtime[-STEPS*2:]['RunTime'].plot(ax=ax, label='train')\n",
    "timeframe['RunTime'].plot(ax=ax, label='actual')\n",
    "predictions_runtime.plot(ax=ax, label='prediction')\n",
    "ax.legend()\n",
    "print(\"MAPE\", mape(timeframe['RunTime'],predictions_runtime))"
   ]
  },
  {
   "cell_type": "markdown",
   "id": "d7be5c81",
   "metadata": {},
   "source": [
    "Predict Total jobs with LSTM"
   ]
  },
  {
   "cell_type": "code",
   "execution_count": 163,
   "id": "48988ba8",
   "metadata": {},
   "outputs": [
    {
     "data": {
      "text/html": [
       "<div>\n",
       "<style scoped>\n",
       "    .dataframe tbody tr th:only-of-type {\n",
       "        vertical-align: middle;\n",
       "    }\n",
       "\n",
       "    .dataframe tbody tr th {\n",
       "        vertical-align: top;\n",
       "    }\n",
       "\n",
       "    .dataframe thead th {\n",
       "        text-align: right;\n",
       "    }\n",
       "</style>\n",
       "<table border=\"1\" class=\"dataframe\">\n",
       "  <thead>\n",
       "    <tr style=\"text-align: right;\">\n",
       "      <th></th>\n",
       "      <th>TotalJobs</th>\n",
       "    </tr>\n",
       "  </thead>\n",
       "  <tbody>\n",
       "    <tr>\n",
       "      <th>2005-12-21 03:00:00</th>\n",
       "      <td>5.0</td>\n",
       "    </tr>\n",
       "    <tr>\n",
       "      <th>2005-12-21 04:00:00</th>\n",
       "      <td>0.0</td>\n",
       "    </tr>\n",
       "    <tr>\n",
       "      <th>2005-12-21 05:00:00</th>\n",
       "      <td>0.0</td>\n",
       "    </tr>\n",
       "    <tr>\n",
       "      <th>2005-12-21 06:00:00</th>\n",
       "      <td>0.0</td>\n",
       "    </tr>\n",
       "    <tr>\n",
       "      <th>2005-12-21 07:00:00</th>\n",
       "      <td>0.0</td>\n",
       "    </tr>\n",
       "  </tbody>\n",
       "</table>\n",
       "</div>"
      ],
      "text/plain": [
       "                     TotalJobs\n",
       "2005-12-21 03:00:00        5.0\n",
       "2005-12-21 04:00:00        0.0\n",
       "2005-12-21 05:00:00        0.0\n",
       "2005-12-21 06:00:00        0.0\n",
       "2005-12-21 07:00:00        0.0"
      ]
     },
     "execution_count": 163,
     "metadata": {},
     "output_type": "execute_result"
    }
   ],
   "source": [
    "totaljobs = timeframe_hist[['TotalJobs']]\n",
    "totaljobs = totaljobs.fillna(0)\n",
    "totaljobs.head()"
   ]
  },
  {
   "cell_type": "code",
   "execution_count": 165,
   "id": "8e076069",
   "metadata": {},
   "outputs": [
    {
     "data": {
      "text/plain": [
       "((3882, 3, 1), (3882,))"
      ]
     },
     "execution_count": 165,
     "metadata": {},
     "output_type": "execute_result"
    }
   ],
   "source": [
    "X, Y = df_to_X_y(totaljobs,LOOK_BACK)\n",
    "X.shape, Y.shape"
   ]
  },
  {
   "cell_type": "code",
   "execution_count": 167,
   "id": "f53c9c70",
   "metadata": {},
   "outputs": [
    {
     "data": {
      "text/plain": [
       "(3108, 774)"
      ]
     },
     "execution_count": 167,
     "metadata": {},
     "output_type": "execute_result"
    }
   ],
   "source": [
    "train_size = int(len(totaljobs)*0.8)\n",
    "train_X = X[:train_size]\n",
    "train_Y = Y[:train_size]\n",
    "val_X = X[train_size:]\n",
    "val_Y = Y[train_size:]\n",
    "len(train_X), len(val_X)"
   ]
  },
  {
   "cell_type": "code",
   "execution_count": 173,
   "id": "8089f552",
   "metadata": {},
   "outputs": [
    {
     "name": "stdout",
     "output_type": "stream",
     "text": [
      "Model: \"sequential_8\"\n",
      "_________________________________________________________________\n",
      " Layer (type)                Output Shape              Param #   \n",
      "=================================================================\n",
      " lstm_7 (LSTM)               (None, 64)                16896     \n",
      "                                                                 \n",
      " dense_7 (Dense)             (None, 16)                1040      \n",
      "                                                                 \n",
      " dense_8 (Dense)             (None, 1)                 17        \n",
      "                                                                 \n",
      "=================================================================\n",
      "Total params: 17,953\n",
      "Trainable params: 17,953\n",
      "Non-trainable params: 0\n",
      "_________________________________________________________________\n"
     ]
    }
   ],
   "source": [
    "tf.random.set_seed(7)\n",
    "model1 = Sequential()\n",
    "model1.add(InputLayer((LOOK_BACK,1)))\n",
    "model1.add(LSTM(64))\n",
    "model1.add(Dense(16, 'relu'))\n",
    "model1.add(Dense(1, 'linear'))\n",
    "model1.summary()"
   ]
  },
  {
   "cell_type": "code",
   "execution_count": null,
   "id": "29d82239",
   "metadata": {},
   "outputs": [
    {
     "name": "stdout",
     "output_type": "stream",
     "text": [
      "Epoch 1/100\n",
      "89/98 [==========================>...] - ETA: 0s - loss: 390468.0000 - mean_absolute_percentage_error: 605916224.0000"
     ]
    },
    {
     "name": "stderr",
     "output_type": "stream",
     "text": [
      "absl       WARNING Found untraced functions such as lstm_cell_41_layer_call_fn, lstm_cell_41_layer_call_and_return_conditional_losses while saving (showing 2 of 2). These functions will not be directly callable after loading.\n",
      "tensorflow INFO  Assets written to: anon_jobs_Sharc-model\\assets\n"
     ]
    },
    {
     "name": "stdout",
     "output_type": "stream",
     "text": [
      "98/98 [==============================] - 5s 42ms/step - loss: 380252.7188 - mean_absolute_percentage_error: 655771072.0000 - val_loss: 319684.2812 - val_mean_absolute_percentage_error: 852934528.0000\n",
      "Epoch 2/100\n",
      "97/98 [============================>.] - ETA: 0s - loss: 379873.5000 - mean_absolute_percentage_error: 2751325696.0000"
     ]
    },
    {
     "name": "stderr",
     "output_type": "stream",
     "text": [
      "absl       WARNING Found untraced functions such as lstm_cell_41_layer_call_fn, lstm_cell_41_layer_call_and_return_conditional_losses while saving (showing 2 of 2). These functions will not be directly callable after loading.\n",
      "tensorflow INFO  Assets written to: anon_jobs_Sharc-model\\assets\n"
     ]
    },
    {
     "name": "stdout",
     "output_type": "stream",
     "text": [
      "98/98 [==============================] - 3s 32ms/step - loss: 379384.8750 - mean_absolute_percentage_error: 2763245312.0000 - val_loss: 317349.3125 - val_mean_absolute_percentage_error: 2049945088.0000\n",
      "Epoch 3/100\n",
      "90/98 [==========================>...] - ETA: 0s - loss: 225454.0938 - mean_absolute_percentage_error: 4674584064.0000"
     ]
    },
    {
     "name": "stderr",
     "output_type": "stream",
     "text": [
      "absl       WARNING Found untraced functions such as lstm_cell_41_layer_call_fn, lstm_cell_41_layer_call_and_return_conditional_losses while saving (showing 2 of 2). These functions will not be directly callable after loading.\n",
      "tensorflow INFO  Assets written to: anon_jobs_Sharc-model\\assets\n"
     ]
    },
    {
     "name": "stdout",
     "output_type": "stream",
     "text": [
      "98/98 [==============================] - 3s 32ms/step - loss: 378195.5312 - mean_absolute_percentage_error: 4781854720.0000 - val_loss: 315367.4062 - val_mean_absolute_percentage_error: 3144160000.0000\n",
      "Epoch 4/100\n",
      "94/98 [===========================>..] - ETA: 0s - loss: 364464.6875 - mean_absolute_percentage_error: 5713190912.0000"
     ]
    },
    {
     "name": "stderr",
     "output_type": "stream",
     "text": [
      "absl       WARNING Found untraced functions such as lstm_cell_41_layer_call_fn, lstm_cell_41_layer_call_and_return_conditional_losses while saving (showing 2 of 2). These functions will not be directly callable after loading.\n",
      "tensorflow INFO  Assets written to: anon_jobs_Sharc-model\\assets\n"
     ]
    },
    {
     "name": "stdout",
     "output_type": "stream",
     "text": [
      "98/98 [==============================] - 3s 32ms/step - loss: 377214.4688 - mean_absolute_percentage_error: 5703401984.0000 - val_loss: 313960.9062 - val_mean_absolute_percentage_error: 3779195904.0000\n",
      "Epoch 5/100\n",
      "96/98 [============================>.] - ETA: 0s - loss: 381491.3438 - mean_absolute_percentage_error: 3977820928.0000"
     ]
    },
    {
     "name": "stderr",
     "output_type": "stream",
     "text": [
      "absl       WARNING Found untraced functions such as lstm_cell_41_layer_call_fn, lstm_cell_41_layer_call_and_return_conditional_losses while saving (showing 2 of 2). These functions will not be directly callable after loading.\n",
      "tensorflow INFO  Assets written to: anon_jobs_Sharc-model\\assets\n"
     ]
    },
    {
     "name": "stdout",
     "output_type": "stream",
     "text": [
      "98/98 [==============================] - 3s 33ms/step - loss: 377095.9062 - mean_absolute_percentage_error: 3972044800.0000 - val_loss: 313177.0625 - val_mean_absolute_percentage_error: 4046109952.0000\n",
      "Epoch 6/100\n",
      "91/98 [==========================>...] - ETA: 0s - loss: 206547.2500 - mean_absolute_percentage_error: 6829667840.0000"
     ]
    },
    {
     "name": "stderr",
     "output_type": "stream",
     "text": [
      "absl       WARNING Found untraced functions such as lstm_cell_41_layer_call_fn, lstm_cell_41_layer_call_and_return_conditional_losses while saving (showing 2 of 2). These functions will not be directly callable after loading.\n",
      "tensorflow INFO  Assets written to: anon_jobs_Sharc-model\\assets\n"
     ]
    },
    {
     "name": "stdout",
     "output_type": "stream",
     "text": [
      "98/98 [==============================] - 4s 38ms/step - loss: 375946.9688 - mean_absolute_percentage_error: 6879931904.0000 - val_loss: 312294.5625 - val_mean_absolute_percentage_error: 5159372800.0000\n",
      "Epoch 7/100\n",
      "94/98 [===========================>..] - ETA: 0s - loss: 387834.2500 - mean_absolute_percentage_error: 8043738624.0000"
     ]
    },
    {
     "name": "stderr",
     "output_type": "stream",
     "text": [
      "absl       WARNING Found untraced functions such as lstm_cell_41_layer_call_fn, lstm_cell_41_layer_call_and_return_conditional_losses while saving (showing 2 of 2). These functions will not be directly callable after loading.\n",
      "tensorflow INFO  Assets written to: anon_jobs_Sharc-model\\assets\n"
     ]
    },
    {
     "name": "stdout",
     "output_type": "stream",
     "text": [
      "98/98 [==============================] - 3s 33ms/step - loss: 375502.1562 - mean_absolute_percentage_error: 8031081472.0000 - val_loss: 311867.4062 - val_mean_absolute_percentage_error: 5130825216.0000\n",
      "Epoch 8/100\n",
      "88/98 [=========================>....] - ETA: 0s - loss: 383543.9688 - mean_absolute_percentage_error: 4866789376.0000"
     ]
    },
    {
     "name": "stderr",
     "output_type": "stream",
     "text": [
      "absl       WARNING Found untraced functions such as lstm_cell_41_layer_call_fn, lstm_cell_41_layer_call_and_return_conditional_losses while saving (showing 2 of 2). These functions will not be directly callable after loading.\n",
      "tensorflow INFO  Assets written to: anon_jobs_Sharc-model\\assets\n"
     ]
    },
    {
     "name": "stdout",
     "output_type": "stream",
     "text": [
      "98/98 [==============================] - 3s 32ms/step - loss: 375631.4062 - mean_absolute_percentage_error: 5060559872.0000 - val_loss: 311178.1562 - val_mean_absolute_percentage_error: 5409935360.0000\n",
      "Epoch 9/100\n",
      "94/98 [===========================>..] - ETA: 0s - loss: 387433.0938 - mean_absolute_percentage_error: 7850633216.0000"
     ]
    },
    {
     "name": "stderr",
     "output_type": "stream",
     "text": [
      "absl       WARNING Found untraced functions such as lstm_cell_41_layer_call_fn, lstm_cell_41_layer_call_and_return_conditional_losses while saving (showing 2 of 2). These functions will not be directly callable after loading.\n",
      "tensorflow INFO  Assets written to: anon_jobs_Sharc-model\\assets\n"
     ]
    },
    {
     "name": "stdout",
     "output_type": "stream",
     "text": [
      "98/98 [==============================] - 3s 33ms/step - loss: 375026.2812 - mean_absolute_percentage_error: 7837829120.0000 - val_loss: 311143.3438 - val_mean_absolute_percentage_error: 5488970752.0000\n",
      "Epoch 10/100\n",
      "95/98 [============================>.] - ETA: 0s - loss: 383089.1250 - mean_absolute_percentage_error: 5949231104.0000"
     ]
    },
    {
     "name": "stderr",
     "output_type": "stream",
     "text": [
      "absl       WARNING Found untraced functions such as lstm_cell_41_layer_call_fn, lstm_cell_41_layer_call_and_return_conditional_losses while saving (showing 2 of 2). These functions will not be directly callable after loading.\n",
      "tensorflow INFO  Assets written to: anon_jobs_Sharc-model\\assets\n"
     ]
    },
    {
     "name": "stdout",
     "output_type": "stream",
     "text": [
      "98/98 [==============================] - 4s 39ms/step - loss: 374812.6562 - mean_absolute_percentage_error: 6089110528.0000 - val_loss: 310778.1562 - val_mean_absolute_percentage_error: 6488761856.0000\n",
      "Epoch 11/100\n",
      "98/98 [==============================] - 1s 6ms/step - loss: 374443.8750 - mean_absolute_percentage_error: 7354588672.0000 - val_loss: 310914.5000 - val_mean_absolute_percentage_error: 5929059328.0000\n",
      "Epoch 12/100\n",
      "98/98 [==============================] - 1s 5ms/step - loss: 374337.2812 - mean_absolute_percentage_error: 5382995456.0000 - val_loss: 311109.9688 - val_mean_absolute_percentage_error: 7244161024.0000\n",
      "Epoch 13/100\n",
      "97/98 [============================>.] - ETA: 0s - loss: 374702.7500 - mean_absolute_percentage_error: 7185193472.0000"
     ]
    },
    {
     "name": "stderr",
     "output_type": "stream",
     "text": [
      "absl       WARNING Found untraced functions such as lstm_cell_41_layer_call_fn, lstm_cell_41_layer_call_and_return_conditional_losses while saving (showing 2 of 2). These functions will not be directly callable after loading.\n",
      "tensorflow INFO  Assets written to: anon_jobs_Sharc-model\\assets\n"
     ]
    },
    {
     "name": "stdout",
     "output_type": "stream",
     "text": [
      "98/98 [==============================] - 3s 32ms/step - loss: 374226.6562 - mean_absolute_percentage_error: 7178001408.0000 - val_loss: 310661.8438 - val_mean_absolute_percentage_error: 7466017792.0000\n",
      "Epoch 14/100\n",
      "98/98 [==============================] - 1s 6ms/step - loss: 373910.1875 - mean_absolute_percentage_error: 7378694144.0000 - val_loss: 311117.6562 - val_mean_absolute_percentage_error: 6227724288.0000\n",
      "Epoch 15/100\n",
      "87/98 [=========================>....] - ETA: 0s - loss: 239266.2500 - mean_absolute_percentage_error: 4401609216.0000"
     ]
    },
    {
     "name": "stderr",
     "output_type": "stream",
     "text": [
      "absl       WARNING Found untraced functions such as lstm_cell_41_layer_call_fn, lstm_cell_41_layer_call_and_return_conditional_losses while saving (showing 2 of 2). These functions will not be directly callable after loading.\n",
      "tensorflow INFO  Assets written to: anon_jobs_Sharc-model\\assets\n"
     ]
    },
    {
     "name": "stdout",
     "output_type": "stream",
     "text": [
      "98/98 [==============================] - 3s 31ms/step - loss: 374517.7500 - mean_absolute_percentage_error: 4348958720.0000 - val_loss: 310379.2188 - val_mean_absolute_percentage_error: 6577128448.0000\n",
      "Epoch 16/100\n",
      "98/98 [==============================] - 1s 5ms/step - loss: 374022.4375 - mean_absolute_percentage_error: 6942817280.0000 - val_loss: 310393.6250 - val_mean_absolute_percentage_error: 7127129600.0000\n",
      "Epoch 17/100\n",
      "98/98 [==============================] - 0s 5ms/step - loss: 373827.4688 - mean_absolute_percentage_error: 5835454976.0000 - val_loss: 310696.6875 - val_mean_absolute_percentage_error: 6919962624.0000\n",
      "Epoch 18/100\n",
      "98/98 [==============================] - 1s 6ms/step - loss: 373632.0000 - mean_absolute_percentage_error: 5737188352.0000 - val_loss: 310657.7500 - val_mean_absolute_percentage_error: 7311002624.0000\n",
      "Epoch 19/100\n",
      "98/98 [==============================] - 0s 5ms/step - loss: 373650.2188 - mean_absolute_percentage_error: 5508717056.0000 - val_loss: 310890.0000 - val_mean_absolute_percentage_error: 7555159552.0000\n",
      "Epoch 20/100\n",
      "98/98 [==============================] - 0s 5ms/step - loss: 373632.6250 - mean_absolute_percentage_error: 5758353408.0000 - val_loss: 310597.9688 - val_mean_absolute_percentage_error: 6476327936.0000\n",
      "Epoch 21/100\n",
      "98/98 [==============================] - 1s 5ms/step - loss: 373332.4688 - mean_absolute_percentage_error: 5707367424.0000 - val_loss: 310592.2812 - val_mean_absolute_percentage_error: 6384252416.0000\n",
      "Epoch 22/100\n",
      "98/98 [==============================] - 1s 5ms/step - loss: 373260.0312 - mean_absolute_percentage_error: 5304157696.0000 - val_loss: 310709.5000 - val_mean_absolute_percentage_error: 6450690560.0000\n",
      "Epoch 23/100\n",
      "98/98 [==============================] - 1s 5ms/step - loss: 372991.9688 - mean_absolute_percentage_error: 5361326080.0000 - val_loss: 310480.0938 - val_mean_absolute_percentage_error: 5704417792.0000\n",
      "Epoch 24/100\n",
      "90/98 [==========================>...] - ETA: 0s - loss: 402229.3750 - mean_absolute_percentage_error: 4664117760.0000"
     ]
    },
    {
     "name": "stderr",
     "output_type": "stream",
     "text": [
      "absl       WARNING Found untraced functions such as lstm_cell_41_layer_call_fn, lstm_cell_41_layer_call_and_return_conditional_losses while saving (showing 2 of 2). These functions will not be directly callable after loading.\n",
      "tensorflow INFO  Assets written to: anon_jobs_Sharc-model\\assets\n"
     ]
    },
    {
     "name": "stdout",
     "output_type": "stream",
     "text": [
      "98/98 [==============================] - 3s 32ms/step - loss: 373341.4375 - mean_absolute_percentage_error: 4711196160.0000 - val_loss: 310190.7500 - val_mean_absolute_percentage_error: 7128369152.0000\n",
      "Epoch 25/100\n",
      "98/98 [==============================] - 1s 5ms/step - loss: 372890.2812 - mean_absolute_percentage_error: 5486294528.0000 - val_loss: 310248.0938 - val_mean_absolute_percentage_error: 6578861568.0000\n",
      "Epoch 26/100\n",
      "98/98 [==============================] - ETA: 0s - loss: 372620.8438 - mean_absolute_percentage_error: 4874805760.0000"
     ]
    },
    {
     "name": "stderr",
     "output_type": "stream",
     "text": [
      "absl       WARNING Found untraced functions such as lstm_cell_41_layer_call_fn, lstm_cell_41_layer_call_and_return_conditional_losses while saving (showing 2 of 2). These functions will not be directly callable after loading.\n",
      "tensorflow INFO  Assets written to: anon_jobs_Sharc-model\\assets\n"
     ]
    },
    {
     "name": "stdout",
     "output_type": "stream",
     "text": [
      "98/98 [==============================] - 4s 36ms/step - loss: 372620.8438 - mean_absolute_percentage_error: 4874805760.0000 - val_loss: 309933.3125 - val_mean_absolute_percentage_error: 6223997440.0000\n",
      "Epoch 27/100\n",
      "92/98 [===========================>..] - ETA: 0s - loss: 270237.5312 - mean_absolute_percentage_error: 5083089408.0000"
     ]
    },
    {
     "name": "stderr",
     "output_type": "stream",
     "text": [
      "absl       WARNING Found untraced functions such as lstm_cell_41_layer_call_fn, lstm_cell_41_layer_call_and_return_conditional_losses while saving (showing 2 of 2). These functions will not be directly callable after loading.\n",
      "tensorflow INFO  Assets written to: anon_jobs_Sharc-model\\assets\n"
     ]
    },
    {
     "name": "stdout",
     "output_type": "stream",
     "text": [
      "98/98 [==============================] - 3s 32ms/step - loss: 372575.3438 - mean_absolute_percentage_error: 4988472832.0000 - val_loss: 309572.5000 - val_mean_absolute_percentage_error: 5747251200.0000\n",
      "Epoch 28/100\n",
      "98/98 [==============================] - 1s 6ms/step - loss: 372195.9062 - mean_absolute_percentage_error: 5529835520.0000 - val_loss: 309664.0312 - val_mean_absolute_percentage_error: 6963037184.0000\n",
      "Epoch 29/100\n",
      "91/98 [==========================>...] - ETA: 0s - loss: 209960.3281 - mean_absolute_percentage_error: 4828308992.0000"
     ]
    },
    {
     "name": "stderr",
     "output_type": "stream",
     "text": [
      "absl       WARNING Found untraced functions such as lstm_cell_41_layer_call_fn, lstm_cell_41_layer_call_and_return_conditional_losses while saving (showing 2 of 2). These functions will not be directly callable after loading.\n",
      "tensorflow INFO  Assets written to: anon_jobs_Sharc-model\\assets\n"
     ]
    },
    {
     "name": "stdout",
     "output_type": "stream",
     "text": [
      "98/98 [==============================] - 3s 31ms/step - loss: 372228.5312 - mean_absolute_percentage_error: 4746292736.0000 - val_loss: 309193.4688 - val_mean_absolute_percentage_error: 6222533120.0000\n",
      "Epoch 30/100\n",
      "98/98 [==============================] - 1s 6ms/step - loss: 372246.6562 - mean_absolute_percentage_error: 5464507904.0000 - val_loss: 309322.1562 - val_mean_absolute_percentage_error: 6336155136.0000\n",
      "Epoch 31/100\n",
      "95/98 [============================>.] - ETA: 0s - loss: 380216.7188 - mean_absolute_percentage_error: 4927944192.0000"
     ]
    },
    {
     "name": "stderr",
     "output_type": "stream",
     "text": [
      "absl       WARNING Found untraced functions such as lstm_cell_41_layer_call_fn, lstm_cell_41_layer_call_and_return_conditional_losses while saving (showing 2 of 2). These functions will not be directly callable after loading.\n",
      "tensorflow INFO  Assets written to: anon_jobs_Sharc-model\\assets\n"
     ]
    },
    {
     "name": "stdout",
     "output_type": "stream",
     "text": [
      "98/98 [==============================] - 3s 32ms/step - loss: 372014.9062 - mean_absolute_percentage_error: 4983140352.0000 - val_loss: 309102.1875 - val_mean_absolute_percentage_error: 6172430336.0000\n",
      "Epoch 32/100\n",
      "89/98 [==========================>...] - ETA: 0s - loss: 405383.0938 - mean_absolute_percentage_error: 5100333056.0000"
     ]
    },
    {
     "name": "stderr",
     "output_type": "stream",
     "text": [
      "absl       WARNING Found untraced functions such as lstm_cell_41_layer_call_fn, lstm_cell_41_layer_call_and_return_conditional_losses while saving (showing 2 of 2). These functions will not be directly callable after loading.\n",
      "tensorflow INFO  Assets written to: anon_jobs_Sharc-model\\assets\n"
     ]
    },
    {
     "name": "stdout",
     "output_type": "stream",
     "text": [
      "98/98 [==============================] - 3s 32ms/step - loss: 371817.7188 - mean_absolute_percentage_error: 4932389376.0000 - val_loss: 309101.6250 - val_mean_absolute_percentage_error: 6194038784.0000\n",
      "Epoch 33/100\n",
      "95/98 [============================>.] - ETA: 0s - loss: 379347.0625 - mean_absolute_percentage_error: 4375777792.0000"
     ]
    },
    {
     "name": "stderr",
     "output_type": "stream",
     "text": [
      "absl       WARNING Found untraced functions such as lstm_cell_41_layer_call_fn, lstm_cell_41_layer_call_and_return_conditional_losses while saving (showing 2 of 2). These functions will not be directly callable after loading.\n",
      "tensorflow INFO  Assets written to: anon_jobs_Sharc-model\\assets\n"
     ]
    },
    {
     "name": "stdout",
     "output_type": "stream",
     "text": [
      "98/98 [==============================] - 4s 38ms/step - loss: 371574.6562 - mean_absolute_percentage_error: 4379784192.0000 - val_loss: 308873.5000 - val_mean_absolute_percentage_error: 6173140480.0000\n",
      "Epoch 34/100\n",
      "98/98 [==============================] - 1s 6ms/step - loss: 371461.7812 - mean_absolute_percentage_error: 5006799360.0000 - val_loss: 309166.9062 - val_mean_absolute_percentage_error: 6868498432.0000\n",
      "Epoch 35/100\n",
      "98/98 [==============================] - ETA: 0s - loss: 370897.8438 - mean_absolute_percentage_error: 4997520896.0000"
     ]
    },
    {
     "name": "stderr",
     "output_type": "stream",
     "text": [
      "absl       WARNING Found untraced functions such as lstm_cell_41_layer_call_fn, lstm_cell_41_layer_call_and_return_conditional_losses while saving (showing 2 of 2). These functions will not be directly callable after loading.\n",
      "tensorflow INFO  Assets written to: anon_jobs_Sharc-model\\assets\n"
     ]
    },
    {
     "name": "stdout",
     "output_type": "stream",
     "text": [
      "98/98 [==============================] - 3s 31ms/step - loss: 370897.8438 - mean_absolute_percentage_error: 4997520896.0000 - val_loss: 308086.5312 - val_mean_absolute_percentage_error: 5177255936.0000\n",
      "Epoch 36/100\n",
      "98/98 [==============================] - 1s 6ms/step - loss: 371776.0938 - mean_absolute_percentage_error: 4312479232.0000 - val_loss: 308322.7812 - val_mean_absolute_percentage_error: 6858600960.0000\n",
      "Epoch 37/100\n",
      "96/98 [============================>.] - ETA: 0s - loss: 375197.9688 - mean_absolute_percentage_error: 5225221120.0000"
     ]
    },
    {
     "name": "stderr",
     "output_type": "stream",
     "text": [
      "absl       WARNING Found untraced functions such as lstm_cell_41_layer_call_fn, lstm_cell_41_layer_call_and_return_conditional_losses while saving (showing 2 of 2). These functions will not be directly callable after loading.\n",
      "tensorflow INFO  Assets written to: anon_jobs_Sharc-model\\assets\n"
     ]
    },
    {
     "name": "stdout",
     "output_type": "stream",
     "text": [
      "98/98 [==============================] - 3s 31ms/step - loss: 370921.4688 - mean_absolute_percentage_error: 5233305600.0000 - val_loss: 307694.8750 - val_mean_absolute_percentage_error: 6010123776.0000\n",
      "Epoch 38/100\n",
      "98/98 [==============================] - 1s 6ms/step - loss: 370741.5000 - mean_absolute_percentage_error: 4578095104.0000 - val_loss: 309309.6562 - val_mean_absolute_percentage_error: 6778799104.0000\n",
      "Epoch 39/100\n",
      "98/98 [==============================] - 1s 5ms/step - loss: 370519.0312 - mean_absolute_percentage_error: 5016066048.0000 - val_loss: 307972.4688 - val_mean_absolute_percentage_error: 6204354560.0000\n",
      "Epoch 40/100\n",
      "98/98 [==============================] - 0s 5ms/step - loss: 370214.3438 - mean_absolute_percentage_error: 5000183296.0000 - val_loss: 307837.2812 - val_mean_absolute_percentage_error: 6468412928.0000\n",
      "Epoch 41/100\n",
      "98/98 [==============================] - 0s 5ms/step - loss: 370048.9062 - mean_absolute_percentage_error: 4942049280.0000 - val_loss: 307902.5938 - val_mean_absolute_percentage_error: 6760760320.0000\n",
      "Epoch 42/100\n",
      "98/98 [==============================] - ETA: 0s - loss: 369587.2812 - mean_absolute_percentage_error: 5233126912.0000"
     ]
    },
    {
     "name": "stderr",
     "output_type": "stream",
     "text": [
      "absl       WARNING Found untraced functions such as lstm_cell_41_layer_call_fn, lstm_cell_41_layer_call_and_return_conditional_losses while saving (showing 2 of 2). These functions will not be directly callable after loading.\n",
      "tensorflow INFO  Assets written to: anon_jobs_Sharc-model\\assets\n"
     ]
    },
    {
     "name": "stdout",
     "output_type": "stream",
     "text": [
      "98/98 [==============================] - 3s 31ms/step - loss: 369587.2812 - mean_absolute_percentage_error: 5233126912.0000 - val_loss: 306748.6250 - val_mean_absolute_percentage_error: 5434621952.0000\n",
      "Epoch 43/100\n",
      "98/98 [==============================] - 1s 6ms/step - loss: 369645.0000 - mean_absolute_percentage_error: 4612828672.0000 - val_loss: 308027.0000 - val_mean_absolute_percentage_error: 6684641280.0000\n",
      "Epoch 44/100\n",
      "98/98 [==============================] - 1s 5ms/step - loss: 369647.0625 - mean_absolute_percentage_error: 5334705664.0000 - val_loss: 307597.4688 - val_mean_absolute_percentage_error: 6213471232.0000\n",
      "Epoch 45/100\n",
      "98/98 [==============================] - ETA: 0s - loss: 368904.0312 - mean_absolute_percentage_error: 5337277952.0000"
     ]
    },
    {
     "name": "stderr",
     "output_type": "stream",
     "text": [
      "absl       WARNING Found untraced functions such as lstm_cell_41_layer_call_fn, lstm_cell_41_layer_call_and_return_conditional_losses while saving (showing 2 of 2). These functions will not be directly callable after loading.\n",
      "tensorflow INFO  Assets written to: anon_jobs_Sharc-model\\assets\n"
     ]
    },
    {
     "name": "stdout",
     "output_type": "stream",
     "text": [
      "98/98 [==============================] - 4s 37ms/step - loss: 368904.0312 - mean_absolute_percentage_error: 5337277952.0000 - val_loss: 306637.3438 - val_mean_absolute_percentage_error: 5631246848.0000\n",
      "Epoch 46/100\n",
      "98/98 [==============================] - 1s 7ms/step - loss: 368689.2188 - mean_absolute_percentage_error: 5119492096.0000 - val_loss: 307372.4375 - val_mean_absolute_percentage_error: 6402779136.0000\n",
      "Epoch 47/100\n",
      "98/98 [==============================] - 1s 5ms/step - loss: 368697.7812 - mean_absolute_percentage_error: 5392296960.0000 - val_loss: 306783.0000 - val_mean_absolute_percentage_error: 5814844416.0000\n",
      "Epoch 48/100\n",
      "94/98 [===========================>..] - ETA: 0s - loss: 380701.6250 - mean_absolute_percentage_error: 5256015360.0000"
     ]
    },
    {
     "name": "stderr",
     "output_type": "stream",
     "text": [
      "absl       WARNING Found untraced functions such as lstm_cell_41_layer_call_fn, lstm_cell_41_layer_call_and_return_conditional_losses while saving (showing 2 of 2). These functions will not be directly callable after loading.\n",
      "tensorflow INFO  Assets written to: anon_jobs_Sharc-model\\assets\n"
     ]
    },
    {
     "name": "stdout",
     "output_type": "stream",
     "text": [
      "98/98 [==============================] - 3s 32ms/step - loss: 368587.4062 - mean_absolute_percentage_error: 5305813504.0000 - val_loss: 306130.6562 - val_mean_absolute_percentage_error: 5777634816.0000\n",
      "Epoch 49/100\n",
      "91/98 [==========================>...] - ETA: 0s - loss: 392506.0625 - mean_absolute_percentage_error: 5539811328.0000"
     ]
    },
    {
     "name": "stderr",
     "output_type": "stream",
     "text": [
      "absl       WARNING Found untraced functions such as lstm_cell_41_layer_call_fn, lstm_cell_41_layer_call_and_return_conditional_losses while saving (showing 2 of 2). These functions will not be directly callable after loading.\n",
      "tensorflow INFO  Assets written to: anon_jobs_Sharc-model\\assets\n"
     ]
    },
    {
     "name": "stdout",
     "output_type": "stream",
     "text": [
      "98/98 [==============================] - 3s 32ms/step - loss: 368054.8438 - mean_absolute_percentage_error: 5547365376.0000 - val_loss: 305530.0625 - val_mean_absolute_percentage_error: 5241182720.0000\n",
      "Epoch 50/100\n",
      "98/98 [==============================] - 1s 6ms/step - loss: 367783.2188 - mean_absolute_percentage_error: 4885580800.0000 - val_loss: 305818.6875 - val_mean_absolute_percentage_error: 5528211968.0000\n",
      "Epoch 51/100\n",
      "98/98 [==============================] - 0s 5ms/step - loss: 368202.7500 - mean_absolute_percentage_error: 5681549312.0000 - val_loss: 307189.5938 - val_mean_absolute_percentage_error: 7074686976.0000\n",
      "Epoch 52/100\n",
      "98/98 [==============================] - 1s 5ms/step - loss: 367300.5312 - mean_absolute_percentage_error: 5670844928.0000 - val_loss: 306320.8438 - val_mean_absolute_percentage_error: 6573397504.0000\n",
      "Epoch 53/100\n",
      "98/98 [==============================] - 0s 5ms/step - loss: 366806.9688 - mean_absolute_percentage_error: 5587581952.0000 - val_loss: 305637.2188 - val_mean_absolute_percentage_error: 5520417280.0000\n",
      "Epoch 54/100\n",
      "98/98 [==============================] - 1s 6ms/step - loss: 367277.2500 - mean_absolute_percentage_error: 5485335552.0000 - val_loss: 306255.7812 - val_mean_absolute_percentage_error: 5867867648.0000\n",
      "Epoch 55/100\n",
      "87/98 [=========================>....] - ETA: 0s - loss: 398669.4688 - mean_absolute_percentage_error: 5860724224.0000"
     ]
    },
    {
     "name": "stderr",
     "output_type": "stream",
     "text": [
      "absl       WARNING Found untraced functions such as lstm_cell_41_layer_call_fn, lstm_cell_41_layer_call_and_return_conditional_losses while saving (showing 2 of 2). These functions will not be directly callable after loading.\n",
      "tensorflow INFO  Assets written to: anon_jobs_Sharc-model\\assets\n"
     ]
    },
    {
     "name": "stdout",
     "output_type": "stream",
     "text": [
      "98/98 [==============================] - 3s 31ms/step - loss: 366830.2812 - mean_absolute_percentage_error: 5917066240.0000 - val_loss: 305177.5625 - val_mean_absolute_percentage_error: 5766406656.0000\n",
      "Epoch 56/100\n",
      "98/98 [==============================] - 1s 7ms/step - loss: 366153.9375 - mean_absolute_percentage_error: 5200214528.0000 - val_loss: 306597.5938 - val_mean_absolute_percentage_error: 7125492736.0000\n",
      "Epoch 57/100\n",
      "98/98 [==============================] - 1s 6ms/step - loss: 365846.3750 - mean_absolute_percentage_error: 6056670720.0000 - val_loss: 305345.0000 - val_mean_absolute_percentage_error: 5859043840.0000\n",
      "Epoch 58/100\n",
      "98/98 [==============================] - 1s 5ms/step - loss: 366391.3125 - mean_absolute_percentage_error: 5146718208.0000 - val_loss: 308701.8125 - val_mean_absolute_percentage_error: 8398307328.0000\n",
      "Epoch 59/100\n",
      "98/98 [==============================] - 1s 6ms/step - loss: 366118.2500 - mean_absolute_percentage_error: 6815525376.0000 - val_loss: 306091.4062 - val_mean_absolute_percentage_error: 6143235072.0000\n",
      "Epoch 60/100\n",
      "98/98 [==============================] - 1s 6ms/step - loss: 365808.9688 - mean_absolute_percentage_error: 5394747904.0000 - val_loss: 307977.4375 - val_mean_absolute_percentage_error: 7543827456.0000\n",
      "Epoch 61/100\n",
      "87/98 [=========================>....] - ETA: 0s - loss: 383990.1250 - mean_absolute_percentage_error: 6459970048.0000"
     ]
    },
    {
     "name": "stderr",
     "output_type": "stream",
     "text": [
      "absl       WARNING Found untraced functions such as lstm_cell_41_layer_call_fn, lstm_cell_41_layer_call_and_return_conditional_losses while saving (showing 2 of 2). These functions will not be directly callable after loading.\n",
      "tensorflow INFO  Assets written to: anon_jobs_Sharc-model\\assets\n"
     ]
    },
    {
     "name": "stdout",
     "output_type": "stream",
     "text": [
      "98/98 [==============================] - 4s 38ms/step - loss: 365009.7188 - mean_absolute_percentage_error: 6188130304.0000 - val_loss: 304746.2188 - val_mean_absolute_percentage_error: 6111545856.0000\n",
      "Epoch 62/100\n",
      "92/98 [===========================>..] - ETA: 0s - loss: 384279.4375 - mean_absolute_percentage_error: 5954297344.0000"
     ]
    }
   ],
   "source": [
    "cp1 = ModelCheckpoint(FILENAME+'-model/', save_best_only=True)\n",
    "model1.compile(loss='mean_squared_error', optimizer='adam', metrics=[MeanAbsolutePercentageError()])\n",
    "model1.fit(train_X, train_Y, validation_data=(val_X, val_Y), epochs=100, callbacks=[cp1])"
   ]
  },
  {
   "cell_type": "code",
   "execution_count": 171,
   "id": "6785a540",
   "metadata": {},
   "outputs": [
    {
     "name": "stderr",
     "output_type": "stream",
     "text": [
      "tensorflow WARNING Model was constructed with shape (None, 3, 1) for input KerasTensor(type_spec=TensorSpec(shape=(None, 3, 1), dtype=tf.float32, name='input_7'), name='input_7', description=\"created by layer 'input_7'\"), but it was called on an input with incompatible shape (None, 1, 1).\n"
     ]
    },
    {
     "name": "stdout",
     "output_type": "stream",
     "text": [
      "1/1 [==============================] - 0s 246ms/step\n",
      "1/1 [==============================] - 0s 17ms/step\n",
      "1/1 [==============================] - 0s 16ms/step\n",
      "1/1 [==============================] - 0s 15ms/step\n",
      "1/1 [==============================] - 0s 16ms/step\n",
      "1/1 [==============================] - 0s 15ms/step\n",
      "1/1 [==============================] - 0s 15ms/step\n",
      "1/1 [==============================] - 0s 17ms/step\n",
      "1/1 [==============================] - 0s 16ms/step\n",
      "1/1 [==============================] - 0s 17ms/step\n",
      "1/1 [==============================] - 0s 17ms/step\n",
      "1/1 [==============================] - 0s 17ms/step\n",
      "1/1 [==============================] - 0s 17ms/step\n",
      "1/1 [==============================] - 0s 17ms/step\n",
      "1/1 [==============================] - 0s 16ms/step\n",
      "1/1 [==============================] - 0s 16ms/step\n",
      "1/1 [==============================] - 0s 16ms/step\n",
      "1/1 [==============================] - 0s 17ms/step\n",
      "1/1 [==============================] - 0s 16ms/step\n",
      "1/1 [==============================] - 0s 19ms/step\n",
      "1/1 [==============================] - 0s 17ms/step\n",
      "1/1 [==============================] - 0s 17ms/step\n",
      "1/1 [==============================] - 0s 17ms/step\n",
      "1/1 [==============================] - 0s 17ms/step\n"
     ]
    },
    {
     "data": {
      "text/html": [
       "<div>\n",
       "<style scoped>\n",
       "    .dataframe tbody tr th:only-of-type {\n",
       "        vertical-align: middle;\n",
       "    }\n",
       "\n",
       "    .dataframe tbody tr th {\n",
       "        vertical-align: top;\n",
       "    }\n",
       "\n",
       "    .dataframe thead th {\n",
       "        text-align: right;\n",
       "    }\n",
       "</style>\n",
       "<table border=\"1\" class=\"dataframe\">\n",
       "  <thead>\n",
       "    <tr style=\"text-align: right;\">\n",
       "      <th></th>\n",
       "      <th>TotalJobs</th>\n",
       "    </tr>\n",
       "    <tr>\n",
       "      <th>ds</th>\n",
       "      <th></th>\n",
       "    </tr>\n",
       "  </thead>\n",
       "  <tbody>\n",
       "    <tr>\n",
       "      <th>2006-06-01 00:00:00</th>\n",
       "      <td>0.0</td>\n",
       "    </tr>\n",
       "    <tr>\n",
       "      <th>2006-06-01 01:00:00</th>\n",
       "      <td>0.0</td>\n",
       "    </tr>\n",
       "    <tr>\n",
       "      <th>2006-06-01 02:00:00</th>\n",
       "      <td>0.0</td>\n",
       "    </tr>\n",
       "    <tr>\n",
       "      <th>2006-06-01 03:00:00</th>\n",
       "      <td>0.0</td>\n",
       "    </tr>\n",
       "    <tr>\n",
       "      <th>2006-06-01 04:00:00</th>\n",
       "      <td>0.0</td>\n",
       "    </tr>\n",
       "  </tbody>\n",
       "</table>\n",
       "</div>"
      ],
      "text/plain": [
       "                     TotalJobs\n",
       "ds                            \n",
       "2006-06-01 00:00:00        0.0\n",
       "2006-06-01 01:00:00        0.0\n",
       "2006-06-01 02:00:00        0.0\n",
       "2006-06-01 03:00:00        0.0\n",
       "2006-06-01 04:00:00        0.0"
      ]
     },
     "execution_count": 171,
     "metadata": {},
     "output_type": "execute_result"
    }
   ],
   "source": [
    "# load the best prediction model\n",
    "lstm = load_model(FILENAME+'-model/')\n",
    "# first value used to predict\n",
    "last = totaljobs.iloc[-4:-1][0]\n",
    "predictions = []\n",
    "for i in range(0,24):\n",
    "    x = np.array([[last]]) # convert value to numpy array\n",
    "    prediction = lstm.predict(x).flatten() # predict\n",
    "    predictions.append(prediction[0])\n",
    "    last = prediction[0] # use prediction for next prediction\n",
    "daterange = pd.date_range(frm, to, freq='H')\n",
    "predictions_totaljobs = pd.DataFrame(list(zip(daterange,predictions)), columns=['ds', 'TotalJobs']).set_index('ds')\n",
    "predictions_totaljobs.head()"
   ]
  },
  {
   "cell_type": "code",
   "execution_count": 172,
   "id": "515490db",
   "metadata": {},
   "outputs": [
    {
     "name": "stdout",
     "output_type": "stream",
     "text": [
      "MAPE 1.0\n"
     ]
    },
    {
     "data": {
      "image/png": "[encoded data removed]",
      "text/plain": [
       "<Figure size 648x288 with 1 Axes>"
      ]
     },
     "metadata": {
      "needs_background": "light"
     },
     "output_type": "display_data"
    }
   ],
   "source": [
    "fig, ax = plt.subplots(figsize=(9, 4))\n",
    "totaljobs[-STEPS*1:]['TotalJobs'].plot(ax=ax, label='train')\n",
    "timeframe['TotalJobs'].plot(ax=ax, label='actual')\n",
    "predictions_totaljobs.plot(ax=ax, label='prediction')\n",
    "ax.legend()\n",
    "print(\"MAPE\", mape(timeframe['TotalJobs'],predictions_totaljobs))"
   ]
  },
  {
   "cell_type": "code",
   "execution_count": null,
   "id": "ec1c55fc",
   "metadata": {},
   "outputs": [],
   "source": []
  }
 ],
 "metadata": {
  "kernelspec": {
   "display_name": "Python 3",
   "language": "python",
   "name": "python3"
  },
  "language_info": {
   "codemirror_mode": {
    "name": "ipython",
    "version": 3
   },
   "file_extension": ".py",
   "mimetype": "text/x-python",
   "name": "python",
   "nbconvert_exporter": "python",
   "pygments_lexer": "ipython3",
   "version": "3.7.9"
  }
 },
 "nbformat": 4,
 "nbformat_minor": 5
}
