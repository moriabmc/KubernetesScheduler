{
 "cells": [
  {
   "cell_type": "code",
   "execution_count": 1,
   "id": "a296ed1f",
   "metadata": {},
   "outputs": [],
   "source": [
    "import csv\n",
    "import datetime\n",
    "import errno\n",
    "from msilib.schema import Error\n",
    "from time import time\n",
    "from turtle import pd\n",
    "import matplotlib.pyplot as plt\n",
    "import pandas as pd\n",
    "import numpy as np\n",
    "import random\n",
    "\n",
    "from skforecast.ForecasterAutoreg import ForecasterAutoreg\n",
    "from sklearn.metrics import mean_absolute_percentage_error as mape\n",
    "from sklearn.metrics import mean_absolute_error as mae\n",
    "from sklearn.ensemble import RandomForestRegressor\n",
    "\n",
    "def calc_avg(lst):\n",
    "    total = 0\n",
    "    for element in lst:\n",
    "        total += element\n",
    "    if len(lst) < 1:\n",
    "        return 0\n",
    "    else:\n",
    "        return total/len(lst)\n",
    "    \n",
    "def read_data(filename):\n",
    "    nprocs = []\n",
    "    runtime = []\n",
    "    total_jobs = []\n",
    "    submit_time = []\n",
    "    \n",
    "    core_count = []\n",
    "    r = []\n",
    "    \n",
    "    \n",
    "    with open(filename) as file:\n",
    "        tsv_file = csv.reader(file, delimiter=\"\\t\")\n",
    "        field_count = 0\n",
    "        while int(field_count) < 20:\n",
    "            field_count = int(len(next(tsv_file)))\n",
    "\n",
    "        last_time = -1\n",
    "        last_hour = -1\n",
    "        job_count = 0\n",
    "        last_submitted = -1\n",
    "        i = 0\n",
    "        for line in tsv_file:\n",
    "            i += 1\n",
    "            #if i > 30000:\n",
    "                # break\n",
    "            if (float(line.__getitem__(3)) > -0.5) and (float(line.__getitem__(4)) > -0.5):\n",
    "                submitted = int(line.__getitem__(1))\n",
    "                dt = datetime.datetime.fromtimestamp(submitted)\n",
    "                time_hour = dt.hour\n",
    "\n",
    "                if last_hour == -1:\n",
    "                    last_hour = time_hour\n",
    "                    last_time = dt\n",
    "                \n",
    "                if last_hour != time_hour:\n",
    "                    runtime.append(calc_avg(r))\n",
    "                    nprocs.append(calc_avg(core_count))\n",
    "                    total_jobs.append(job_count)\n",
    "                    submit_time.append(dt.replace(minute=0, second=0, microsecond=0))\n",
    "                    last_time = dt\n",
    "                    job_count = 0\n",
    "                    core_count.clear\n",
    "                    r.clear\n",
    "                    last_submitted = -1\n",
    "                \n",
    "                core_count.append(float(line.__getitem__(4))) # number of allocated processors\n",
    "                r.append(float(line.__getitem__(3))) # runtime of the job\n",
    "                job_count += 1\n",
    "                last_submitted = submitted\n",
    "                last_hour = time_hour\n",
    "    return submit_time, runtime, nprocs, total_jobs\n",
    "\n",
    "def read_dataframe():\n",
    "    submit_time, runtime, nprocs, total_jobs = read_data('anon_jobs.gwf') #SharcNet\n",
    "    df = pd.DataFrame(list(zip(submit_time, runtime, nprocs, total_jobs)), columns=['ds', 'RunTime', 'NProcs', 'TotalJobs'])\n",
    "    # df.to_pickle('total_jobs_dataframe')\n",
    "    return df\n",
    "\n",
    "def load_dataframe():\n",
    "    return pd.read_pickle('total_jobs_dataframe')\n",
    "\n",
    "def generate_plot(x_axis, y_axis, title, x_label, y_label):\n",
    "    fig = plt.figure()\n",
    "    fig.canvas.manager.set_window_title(title)\n",
    "    plt.xlabel(x_label)\n",
    "    plt.ylabel(y_label)\n",
    "    plt.title(title)\n",
    "    plt.plot(x_axis, y_axis)\n",
    "    plt.show()\n",
    "\n",
    "def getCpuUtilization(df: pd.DataFrame):\n",
    "    cpu = []\n",
    "    for i in range(0,24):\n",
    "        cores = df.iloc[i]['NProcs']\n",
    "        jobs = df.iloc[i]['TotalJobs']\n",
    "        cpu.append(cores*jobs/400)\n",
    "    return cpu\n",
    "\n",
    "def generate_workload(df: pd.DataFrame):\n",
    "    critical_job_rate = 0.6\n",
    "    start_time = 17\n",
    "\n",
    "    f = open('workload.csv', 'w', newline='')\n",
    "    writer = csv.writer(f, lineterminator=\"\\n\")  # use linux style line endings\n",
    "    cpuUsage = getCpuUtilization(df)\n",
    "    time_counter = 0\n",
    "    while time_counter < 86400:  # generate for whole day\n",
    "        # calculating adapted values\n",
    "        current_hour = int(time_counter / 3600)\n",
    "        adapted_hour = (current_hour + start_time) % 24         \n",
    "        #print(\"current hour: \" + str(adapted_hour))\n",
    "        #print(\"job interval adapted: \" + str(adapted_frame['InterArrivalTime']))\n",
    "\n",
    "        label = \"\"\n",
    "        if random.random() > critical_job_rate:\n",
    "            label = \"not-critical\"\n",
    "        else:\n",
    "            label = \"critical\"\n",
    "        print(\"cpu percent\", cpuUsage[adapted_hour])\n",
    "        total_cpu_usage = int(cpuUsage[adapted_hour] * 4000) # 4000 millicores rounded\n",
    "        print(\"cpu total\", total_cpu_usage)\n",
    "        total_jobs = df.iloc[adapted_hour]['TotalJobs']\n",
    "        print(\"jobs total\", total_jobs)\n",
    "        cpu_usage_per_job = total_cpu_usage/total_jobs\n",
    "        runtime = df.iloc[adapted_hour]['RunTime']\n",
    "        job_interval = int(3600/total_jobs)\n",
    "        write_data = [str(int(cpu_usage_per_job)), str(int(runtime)),\n",
    "                    str(int(job_interval)), label]\n",
    "        #print(write_data)\n",
    "        writer.writerow(write_data)\n",
    "        time_counter = int(time_counter) + int(job_interval)\n",
    "    f.close()"
   ]
  },
  {
   "cell_type": "code",
   "execution_count": 2,
   "id": "056abd85",
   "metadata": {},
   "outputs": [],
   "source": [
    "df = read_dataframe()\n"
   ]
  },
  {
   "cell_type": "code",
   "execution_count": 3,
   "id": "84b6ae6d",
   "metadata": {},
   "outputs": [
    {
     "name": "stdout",
     "output_type": "stream",
     "text": [
      "                          RunTime     NProcs  TotalJobs\n",
      "ds                                                     \n",
      "2006-01-24 17:00:00     13.600000   5.400000        5.0\n",
      "2006-01-24 18:00:00     77.000000  19.500000        9.0\n",
      "2006-01-24 19:00:00    148.625000  27.062500        2.0\n",
      "2006-01-24 20:00:00    119.105263  48.947368       22.0\n",
      "2006-01-24 21:00:00    171.384615  73.948718        1.0\n",
      "...                           ...        ...        ...\n",
      "2007-01-15 21:00:00  31829.883378   3.013483      254.0\n",
      "2007-01-15 22:00:00  31828.379609   3.013501       58.0\n",
      "2007-01-15 23:00:00  31826.919224   3.013525       57.0\n",
      "2007-01-16 00:00:00  31825.394948   3.013849       59.0\n",
      "2007-01-16 01:00:00  31825.058342   3.013981       13.0\n",
      "\n",
      "[8553 rows x 3 columns]\n"
     ]
    }
   ],
   "source": [
    "df = df.drop_duplicates(subset=['ds'])\n",
    "df = df.set_index('ds')\n",
    "df = df.asfreq('H')\n",
    "df = df.interpolate('ffill')\n",
    "print(df)"
   ]
  },
  {
   "cell_type": "code",
   "execution_count": 4,
   "id": "68e66ce2",
   "metadata": {},
   "outputs": [],
   "source": [
    "\n",
    "#Params\n",
    "start_offset = 1\n",
    "offset = 1\n",
    "steps = 24\n",
    "#Build data frames for prediction\n",
    "nprocs = df[['NProcs']]\n",
    "nprocs = nprocs.rename(columns={\"NProcs\": \"y\"})\n",
    "\n",
    "runtime = df[['RunTime']]\n",
    "runtime = runtime.rename(columns={\"RunTime\": \"y\"})\n",
    "\n",
    "totaljobs = df[['TotalJobs']]\n",
    "totaljobs = totaljobs.rename(columns={\"TotalJobs\": \"y\"})"
   ]
  },
  {
   "cell_type": "code",
   "execution_count": 79,
   "id": "60153291",
   "metadata": {},
   "outputs": [],
   "source": [
    "#Offsetting and train splitting\n",
    "nprocs_offset = nprocs[start_offset:-offset]\n",
    "runtime_offset = runtime[:-offset]\n",
    "totaljobs_offset = totaljobs[:-offset]\n",
    "\n",
    "nprocs_train = nprocs_offset[:-steps]\n",
    "nprocs_test = nprocs_offset[-steps:]\n",
    "\n",
    "runtime_train = runtime_offset[:-steps]\n",
    "runtime_test = runtime_offset[-steps:]\n",
    "\n",
    "totaljobs_train = totaljobs_offset[:-steps]\n",
    "totaljobs_test = totaljobs_offset[-steps:]"
   ]
  },
  {
   "cell_type": "code",
   "execution_count": 80,
   "id": "f095e7c1",
   "metadata": {},
   "outputs": [
    {
     "name": "stdout",
     "output_type": "stream",
     "text": [
      "2007-01-15 01:00:00    3.013940\n",
      "2007-01-15 02:00:00    3.013977\n",
      "2007-01-15 03:00:00    3.014085\n",
      "2007-01-15 04:00:00    3.014180\n",
      "2007-01-15 05:00:00    3.014128\n",
      "Freq: H, Name: pred, dtype: float64\n"
     ]
    }
   ],
   "source": [
    "forecaster_nprocs = ForecasterAutoreg(\n",
    "                #regressor = RandomForestRegressor(max_depth=10, n_estimators=16, random_state=123),\n",
    "                regressor = RandomForestRegressor(random_state=123),\n",
    "                lags      = 100\n",
    "             )\n",
    "forecaster_nprocs.fit(y=nprocs_train['y'])\n",
    "predictions_nprocs = forecaster_nprocs.predict(steps=steps)\n",
    "print(predictions_nprocs.head(5))"
   ]
  },
  {
   "cell_type": "code",
   "execution_count": 81,
   "id": "25b6b4e0",
   "metadata": {},
   "outputs": [
    {
     "data": {
      "text/plain": [
       "<matplotlib.legend.Legend at 0x1b6668b1288>"
      ]
     },
     "execution_count": 81,
     "metadata": {},
     "output_type": "execute_result"
    },
    {
     "data": {
      "image/png": "[encoded data removed]",
      "text/plain": [
       "<Figure size 648x288 with 1 Axes>"
      ]
     },
     "metadata": {
      "needs_background": "light"
     },
     "output_type": "display_data"
    }
   ],
   "source": [
    "fig, ax = plt.subplots(figsize=(9, 4))\n",
    "nprocs_train[-steps*2:]['y'].plot(ax=ax, label='train')\n",
    "nprocs_test['y'].plot(ax=ax, label='test')\n",
    "predictions_nprocs.plot(ax=ax, label='predictions')\n",
    "ax.legend()"
   ]
  },
  {
   "cell_type": "code",
   "execution_count": 82,
   "id": "b575f477",
   "metadata": {},
   "outputs": [
    {
     "name": "stdout",
     "output_type": "stream",
     "text": [
      "0.00011461174763842212\n"
     ]
    }
   ],
   "source": [
    "print(mape(nprocs_test['y'], predictions_nprocs))"
   ]
  },
  {
   "cell_type": "code",
   "execution_count": 83,
   "id": "fd8f647e",
   "metadata": {},
   "outputs": [
    {
     "name": "stdout",
     "output_type": "stream",
     "text": [
      "2007-01-15 01:00:00    31852.610226\n",
      "2007-01-15 02:00:00    31852.374781\n",
      "2007-01-15 03:00:00    31852.222035\n",
      "2007-01-15 04:00:00    31852.647573\n",
      "2007-01-15 05:00:00    31852.804668\n",
      "Freq: H, Name: pred, dtype: float64\n"
     ]
    }
   ],
   "source": [
    "forecaster_runtime = ForecasterAutoreg(\n",
    "                #regressor = RandomForestRegressor(max_depth=10, n_estimators=16, random_state=123),\n",
    "                regressor = RandomForestRegressor(random_state=123),\n",
    "                lags      = 100\n",
    "             )\n",
    "forecaster_runtime.fit(y=runtime_train['y'])\n",
    "predictions_runtime = forecaster_runtime.predict(steps=steps)\n",
    "print(predictions_runtime.head(5))"
   ]
  },
  {
   "cell_type": "code",
   "execution_count": 84,
   "id": "c180183f",
   "metadata": {},
   "outputs": [
    {
     "data": {
      "text/plain": [
       "<matplotlib.legend.Legend at 0x1b666947108>"
      ]
     },
     "execution_count": 84,
     "metadata": {},
     "output_type": "execute_result"
    },
    {
     "data": {
      "image/png": "[encoded data removed]",
      "text/plain": [
       "<Figure size 648x288 with 1 Axes>"
      ]
     },
     "metadata": {
      "needs_background": "light"
     },
     "output_type": "display_data"
    }
   ],
   "source": [
    "fig, ax = plt.subplots(figsize=(9, 4))\n",
    "runtime_train[-steps*2:]['y'].plot(ax=ax, label='train')\n",
    "runtime_test['y'].plot(ax=ax, label='test')\n",
    "predictions_runtime.plot(ax=ax, label='predictions')\n",
    "ax.legend()"
   ]
  },
  {
   "cell_type": "code",
   "execution_count": 85,
   "id": "a7e82b07",
   "metadata": {},
   "outputs": [
    {
     "name": "stdout",
     "output_type": "stream",
     "text": [
      "0.00021256586279563668\n"
     ]
    }
   ],
   "source": [
    "print(mape(runtime_test['y'], predictions_runtime))"
   ]
  },
  {
   "cell_type": "code",
   "execution_count": 86,
   "id": "81373759",
   "metadata": {},
   "outputs": [
    {
     "name": "stdout",
     "output_type": "stream",
     "text": [
      "2007-01-15 01:00:00    336.152177\n",
      "2007-01-15 02:00:00    307.994009\n",
      "2007-01-15 03:00:00    193.379130\n",
      "2007-01-15 04:00:00    179.619434\n",
      "2007-01-15 05:00:00    199.290332\n",
      "Freq: H, Name: pred, dtype: float64\n"
     ]
    }
   ],
   "source": [
    "forecaster_totaljobs = ForecasterAutoreg(\n",
    "                regressor = RandomForestRegressor(max_depth=5, n_estimators=200, random_state=123),\n",
    "                # regressor = RandomForestRegressor(random_state=123),\n",
    "                lags      = 30\n",
    "             )\n",
    "forecaster_totaljobs.fit(y=totaljobs_train['y'])\n",
    "predictions_totaljobs = forecaster_totaljobs.predict(steps=steps)\n",
    "print(predictions_totaljobs.head(5))"
   ]
  },
  {
   "cell_type": "code",
   "execution_count": 87,
   "id": "4b621819",
   "metadata": {},
   "outputs": [
    {
     "data": {
      "text/plain": [
       "<matplotlib.legend.Legend at 0x1b66699f308>"
      ]
     },
     "execution_count": 87,
     "metadata": {},
     "output_type": "execute_result"
    },
    {
     "data": {
      "image/png": "[encoded data removed]",
      "text/plain": [
       "<Figure size 648x288 with 1 Axes>"
      ]
     },
     "metadata": {
      "needs_background": "light"
     },
     "output_type": "display_data"
    }
   ],
   "source": [
    "fig, ax = plt.subplots(figsize=(9, 4))\n",
    "totaljobs_train[-steps*3:]['y'].plot(ax=ax, label='train')\n",
    "totaljobs_test['y'].plot(ax=ax, label='test')\n",
    "predictions_totaljobs.plot(ax=ax, label='predictions')\n",
    "ax.legend()"
   ]
  },
  {
   "cell_type": "code",
   "execution_count": 88,
   "id": "a611e106",
   "metadata": {},
   "outputs": [
    {
     "name": "stdout",
     "output_type": "stream",
     "text": [
      "16.417508657375937\n"
     ]
    }
   ],
   "source": [
    "print(mape(totaljobs_test['y'], predictions_totaljobs))"
   ]
  }
 ],
 "metadata": {
  "kernelspec": {
   "display_name": "Python 3",
   "language": "python",
   "name": "python3"
  },
  "language_info": {
   "codemirror_mode": {
    "name": "ipython",
    "version": 3
   },
   "file_extension": ".py",
   "mimetype": "text/x-python",
   "name": "python",
   "nbconvert_exporter": "python",
   "pygments_lexer": "ipython3",
   "version": "3.7.9"
  }
 },
 "nbformat": 4,
 "nbformat_minor": 5
}
